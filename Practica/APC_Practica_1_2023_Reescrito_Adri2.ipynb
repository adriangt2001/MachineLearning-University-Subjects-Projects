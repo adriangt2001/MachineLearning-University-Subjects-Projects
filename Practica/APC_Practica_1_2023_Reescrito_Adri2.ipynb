{
  "cells": [
    {
      "cell_type": "markdown",
      "metadata": {
        "id": "oZMnmdDBCl7F"
      },
      "source": [
        "# Pràctica 1: Resolem un problema de classificacio\n",
        "\n",
        "## Objectius\n",
        "\n",
        "Els objectius d'aquesta pràctica són:\n",
        "\n",
        "* Aplicar els coneixements adquirits sobre classificacio, tecniques d'emplenats de nans i validacio creuada.\n",
        "  \n",
        "* Ser capac de comparar diferents models classificacio\n",
        "\n",
        "* Ser capac de fer busca d'hiperparametres.\n",
        "\n",
        "* Entendre i implamentar la validacio creuada\n",
        "\n",
        "* Analitzar detalladament els resultats obtinguts durant l'aprenentatge dels diferents models.\n",
        "\n",
        "Aquesta practica es previa al cas kaggle que realitzareu durant la segona part de l'assignatura. En aquesta primera practica les preguntes estan definides, pero us ha de servir d'aprenentatge alhora de saber com estructurar un projecte d'aprenentatge automatic ja que en el cas kaggle no tindreu les preguntes.\n",
        "\n",
        "## Bases de dades\n",
        "\n",
        "En aquesta practica farem servir la base de dades del titanic. L'atribut que predirem es Survived, el qual ens diu si va sobreviure o no cada passatger.\n",
        "\n",
        "\n",
        "https://www.kaggle.com/c/titanic/data\n",
        "\n",
        "\n",
        "##Treball en grup\n",
        "Aquesta practica es treballara en grups de 2-3 persones. En casos excepcionals i degudament justificats la practica es podra realitzar de forma individual.\n",
        "## Seguiment i entrega de la pràctica\n",
        "\n",
        "En la pràctica 1, es presenten diverses tasques per fer una correcta comparativa dels resultats obtinguts per diversos mètodes de classificació numèrica en una mateixa base de dades.\n",
        "\n",
        "\n",
        "En aquesta practica es realitzara sessions de seguiment del treball. Aquestes sessions de treball està orientada a que els alumnes que vingueu pugueu preguntar i resoldre dubtes sobre les dades, preguntar sobre l'objectiu de cada apartat dels enunciats que no us hagi quedat clar, i preguntar sobre els resultats que esteu obtenint a l'hora d'analitzar les dades. Es molt recomanable venir amb el treball fet a clase per tal de poder comentar dubtes.\n",
        "\n",
        "Pel que fa l'entrega, caldra entregar per caronte el seguent:\n",
        "\n",
        "1. Memòria en format PDF o en la mateixa notebook explicant els resultats trobats sobre la bases de dades amb el respectiu codi de python. Aquesta nota es la mateixa per tots els membres del grup (9 pts)\n",
        "\n",
        "2. Presentació amb els resultats 4 min màxim. Aquesta nota es individual. (1 pt)\n",
        "\n",
        "Nota: En cas d'entregar la memoria com a PDF, caldra entregar el codi de python a part. Si s'entrega com a notebook, la mateixa notebook servira com a codi.\n",
        "\n"
      ]
    },
    {
      "cell_type": "markdown",
      "metadata": {
        "id": "6zdgsxfuCl7S"
      },
      "source": [
        "# Descripcio de la pràctica\n",
        "\n",
        "A continuacio es mostren tots els continguts que s'evaluara en la pràctica:\n",
        "\n",
        "1. EDA (exploratory data analysis) (1 punts):\n",
        "  * Analisi de tamany i tipologia de dades ( 0.25 pt)\n",
        "  * Primera valoracio de correlacions ( 0.5 pt)\n",
        "  * Analisi atribut target ( 0.25 pt)\n",
        "2. Preprocessing (2 punts):\n",
        "  * Eliminacio de nans (0.5 punts)\n",
        "  * Encoding de categoriques (0.75 punts)\n",
        "  * Altres (PCA, normalitzacio..)\n",
        "3. Metric selection (1.5 punts):\n",
        "  * Seleccio de la millor metrica pel problema (0.75 punts)\n",
        "  * Visualitzacio de ROC/AUC (0.75 punts)\n",
        "4. Model Selection amb Crossvalidation (4 punts):\n",
        "  * Seleccio del millor model (2 punts)\n",
        "  * Busqueda hiperparametres (2 punts)\n",
        "5. Analisi final (1.5 punt)\n",
        "\n",
        "Cal dir que, les puntuacions dins de cada apartat son orientatives. La pràctica esta construida a partir d'un seguit de preguntes orientatives en cada apartat les quals tenen relacio amb els continguts evaluables. **NO cal contestar-les totes**. Són una guia per a que reflexioneu i aprengueu detalls de cada apartat.  Es recomanable, aixo si, llegir totes les preguntes abans de realitzar la practica i tenir-les en ment alhora d'executar-la.\n",
        "\n",
        "\n",
        "**IMPORTANT**: El que es valorara en la practica es la capacitat de mantenir una narrativa coherent alhora que es realitzen els resultats. No es mirara tant que alguna pregunta quedi per respondre sino que els passos seguits en base als resultats obtinguts siguin coherents."
      ]
    },
    {
      "cell_type": "code",
      "execution_count": 99,
      "metadata": {},
      "outputs": [],
      "source": [
        "import numpy as np\n",
        "import pandas as pd\n",
        "import seaborn as sns\n",
        "import matplotlib.pyplot as plt\n",
        "import warnings\n",
        "\n",
        "# Normalización\n",
        "#from sklearn.preprocessing import StandardScaler\n",
        "from sklearn.preprocessing import MinMaxScaler\n",
        "\n",
        "# Análisis de Componentes Principales (PCA)\n",
        "from sklearn.decomposition import PCA\n",
        "\n",
        "from sklearn.linear_model import LogisticRegression\n",
        "from sklearn.tree import DecisionTreeClassifier\n",
        "from sklearn.neighbors import KNeighborsClassifier\n",
        "from sklearn.svm import SVC\n",
        "from sklearn.ensemble import RandomForestClassifier, BaggingClassifier\n",
        "\n",
        "from sklearn.metrics import precision_recall_curve, roc_curve, auc, classification_report, accuracy_score, precision_score, recall_score, f1_score, confusion_matrix, ConfusionMatrixDisplay\n",
        "\n",
        "from sklearn.model_selection import cross_val_score, train_test_split, StratifiedKFold, GridSearchCV, RandomizedSearchCV\n",
        "\n",
        "from skopt import BayesSearchCV\n",
        "from skopt.space import Real, Categorical, Integer"
      ]
    },
    {
      "cell_type": "markdown",
      "metadata": {
        "id": "fuENGdYFCl7S"
      },
      "source": [
        "### 1. EDA (exploratory data analysis) (1 punt)\n",
        "\n",
        "**Preguntas:**"
      ]
    },
    {
      "cell_type": "code",
      "execution_count": 100,
      "metadata": {},
      "outputs": [],
      "source": [
        "train_data = pd.read_csv(\"titanic/train.csv\")"
      ]
    },
    {
      "cell_type": "markdown",
      "metadata": {},
      "source": [
        "* ¿Cuántos atributos tiene vuestra base de datos?"
      ]
    },
    {
      "cell_type": "code",
      "execution_count": 101,
      "metadata": {},
      "outputs": [
        {
          "name": "stdout",
          "output_type": "stream",
          "text": [
            "Número de atributos: 12\n",
            "Atributos: ['PassengerId', 'Survived', 'Pclass', 'Name', 'Sex', 'Age', 'SibSp', 'Parch', 'Ticket', 'Fare', 'Cabin', 'Embarked']\n"
          ]
        }
      ],
      "source": [
        "num_attributes = train_data.shape[1]\n",
        "attribute_names = train_data.columns.tolist()\n",
        "print(\"Número de atributos:\", num_attributes)\n",
        "print(\"Atributos:\", attribute_names)"
      ]
    },
    {
      "cell_type": "markdown",
      "metadata": {},
      "source": [
        "* ¿Qué tipo de atributos tienes? (Numéricos, temporales, categóricos, binarios...)"
      ]
    },
    {
      "cell_type": "code",
      "execution_count": 102,
      "metadata": {},
      "outputs": [
        {
          "name": "stdout",
          "output_type": "stream",
          "text": [
            "Tipos de atributos:\n",
            "PassengerId      int64\n",
            "Survived         int64\n",
            "Pclass           int64\n",
            "Name            object\n",
            "Sex             object\n",
            "Age            float64\n",
            "SibSp            int64\n",
            "Parch            int64\n",
            "Ticket          object\n",
            "Fare           float64\n",
            "Cabin           object\n",
            "Embarked        object\n",
            "dtype: object\n"
          ]
        }
      ],
      "source": [
        "attribute_types = train_data.dtypes\n",
        "print(\"Tipos de atributos:\")\n",
        "print(attribute_types)"
      ]
    },
    {
      "cell_type": "markdown",
      "metadata": {},
      "source": [
        "Según lo obtenido, tenemos la siguiente clasificación de atributos:\n",
        "\n",
        "* Atributos Numéricos:\n",
        "  * PassengerId: (int64) - Identificador único para cada pasajero.\n",
        "  * Survived: (int64) - Este es el target que representa si un pasajero sobrevivió o no.\n",
        "  * Pclass: (int64) - Clase del pasajero (1, 2 o 3).\n",
        "  * Age: (float64) - Edad del pasajero.\n",
        "  * SibSp: (int64) - Número de hermanos o cónyuges a bordo.\n",
        "  * Parch: (int64) - Número de padres o hijos a bordo.\n",
        "  * Fare: (float64) - Tarifa pagada por el pasajero.\n",
        "* Atributos Categóricos:\n",
        "  * Name: (object) - Nombre del pasajero (texto).\n",
        "  * Sex: (object) - Género del pasajero (por ejemplo, \"male\" o \"female\").\n",
        "  * Ticket: (object) - Número de ticket del pasajero (texto).\n",
        "  * Cabin: (object) - Número de cabina del pasajero (texto).\n",
        "  * Embarked: (object) - Puerto de embarque del pasajero (por ejemplo, \"C\", \"Q\" o \"S\")."
      ]
    },
    {
      "cell_type": "markdown",
      "metadata": {},
      "source": [
        "* ¿Cómo es el target, cuántas categorías diferentes existen?"
      ]
    },
    {
      "cell_type": "code",
      "execution_count": 103,
      "metadata": {},
      "outputs": [
        {
          "name": "stdout",
          "output_type": "stream",
          "text": [
            "Número de categorías en el target: 2\n"
          ]
        }
      ],
      "source": [
        "target_categories = train_data[\"Survived\"].nunique()\n",
        "print(\"Número de categorías en el target:\", target_categories)"
      ]
    },
    {
      "cell_type": "markdown",
      "metadata": {},
      "source": [
        "Tenemos un problema de clasificación binaria con el target \"Survived\" con las siguientes categorías:  \n",
        "\n",
        "* Sobrevivió (Survived): Se representa con un \"1\" e indica que el pasajero sobrevivió.  \n",
        "\n",
        "* No Sobrevivió (Not Survived): Se representa con un \"0\" e indica que el pasajero no sobrevivió.  "
      ]
    },
    {
      "cell_type": "markdown",
      "metadata": {},
      "source": [
        "* ¿Tenemos nulos en los datos?"
      ]
    },
    {
      "cell_type": "code",
      "execution_count": 104,
      "metadata": {},
      "outputs": [
        {
          "name": "stdout",
          "output_type": "stream",
          "text": [
            "Número de valores nulos por atributo:\n",
            "PassengerId      0\n",
            "Survived         0\n",
            "Pclass           0\n",
            "Name             0\n",
            "Sex              0\n",
            "Age            177\n",
            "SibSp            0\n",
            "Parch            0\n",
            "Ticket           0\n",
            "Fare             0\n",
            "Cabin          687\n",
            "Embarked         2\n",
            "dtype: int64\n"
          ]
        }
      ],
      "source": [
        "null_counts = train_data.isnull().sum()\n",
        "print(\"Número de valores nulos por atributo:\")\n",
        "print(null_counts)"
      ]
    },
    {
      "cell_type": "markdown",
      "metadata": {},
      "source": [
        "Sí, tenemos valores nulos en los datos, concretamente en los atributos \"Age\", \"Cabin\" y \"Embarked\".  \n",
        "\n",
        "* Age (Edad): Como hay 177 nulos de las 891 entradas que hay, podríamos optar por alguna estrategia para rellenarlos.  \n",
        "\n",
        "* Cabin (Cabina): Como hay 687 nulos de las 891 entradas, consideraremos la opción de descartarla.  \n",
        "\n",
        "* Embarked (Puerto de Embarque): Solo hay 2 nulos, así que o bien lo rellenaremos si vemos alguna forma para no alterar demasiado los datos o eliminaremos las 2 filas que contienen estos nulos.  "
      ]
    },
    {
      "cell_type": "markdown",
      "metadata": {},
      "source": [
        "* ¿Podéis ver alguna correlación entre X e y?"
      ]
    },
    {
      "cell_type": "code",
      "execution_count": 105,
      "metadata": {},
      "outputs": [
        {
          "name": "stdout",
          "output_type": "stream",
          "text": [
            "Correlación con Survived:\n",
            "Survived       1.000000\n",
            "Fare           0.257307\n",
            "Parch          0.081629\n",
            "PassengerId   -0.005007\n",
            "SibSp         -0.035322\n",
            "Age           -0.077221\n",
            "Pclass        -0.338481\n",
            "Name: Survived, dtype: float64\n"
          ]
        }
      ],
      "source": [
        "# Calcular la matriz de correlación\n",
        "correlation_matrix = train_data.corr(numeric_only=True)\n",
        "\n",
        "# Ordenar la correlación con respecto a \"Survived\"\n",
        "correlation_with_target = correlation_matrix[\"Survived\"].sort_values(ascending=False)\n",
        "\n",
        "# Mostrar la correlación con \"Survived\"\n",
        "print(\"Correlación con Survived:\")\n",
        "print(correlation_with_target)"
      ]
    },
    {
      "cell_type": "markdown",
      "metadata": {},
      "source": [
        "Analizando las correlaciones entre los atributos numéricos y la categoría \"Survived\" del target, podemos extraer las siguientes conclusiones:  \n",
        "\n",
        "* Survived vs. Fare/Pclass: Al ser un valor 0.257 positivo con Fare, las personas que más pagaron por el ticket tenían más probabilidades de sobrevivir, acercándose mucho a la correlación existente entre Survived vs. Pclass. Aunque esta última sea negativa, lo que nos indica es que las personas de primera clase tenían más probabilidades de sobrevivir que las de segunda o tercera clase. Estas son las que más correlación tienen con haber sobrevivido.  \n",
        "\n",
        "* Survived vs. Parch/SibSp: Aunque se trata de una correlación baja en ambos casos, parece que la gente con padres e hijos sobrevivió más que la que no tenía o tenía menos hijos. Además, sobrevivió menos gente con hermanos o hermanas y cónyuges a bordo.  \n",
        "\n",
        "* Survived vs. PassengerId: La correlación es prácticamente 0, lo cual tiene sentido ya que este atributo es un simple identificador.  \n",
        "\n",
        "* Survived vs. Age: Aquí la correlación también es bastante baja, pero parece que cuanta más edad tenía la persona, menos probabilidades hubo de que sobreviviese.\n",
        "\n",
        "Es importante recordar que la correlación no implica causalidad, por lo que las conclusiones extraídas no deben ser tomadas como ciertas. Sin embargo, sí que sirve de ayuda a la hora de analizar los datos y ver qué atributos parecen influir más o menos en el target.  "
      ]
    },
    {
      "cell_type": "markdown",
      "metadata": {},
      "source": [
        "* ¿Están balanceadas las etiquetas (distribución similar entre categorías)? ¿Crees que puede afectar a la clasificación su distribución?"
      ]
    },
    {
      "cell_type": "code",
      "execution_count": 106,
      "metadata": {},
      "outputs": [
        {
          "name": "stdout",
          "output_type": "stream",
          "text": [
            "Conteo de etiquetas:\n",
            "Survived\n",
            "0    549\n",
            "1    342\n",
            "Name: count, dtype: int64\n"
          ]
        }
      ],
      "source": [
        "# Conteo de valores únicos en la columna \"Survived\" (atributo del target)\n",
        "survival_counts = train_data[\"Survived\"].value_counts()\n",
        "\n",
        "# Mostrar el conteo de etiquetas\n",
        "print(\"Conteo de etiquetas:\")\n",
        "print(survival_counts)"
      ]
    },
    {
      "cell_type": "markdown",
      "metadata": {},
      "source": [
        "En este caso hay un claro desbalanceo a favor de \"0\" (Not Survived).  \n",
        "\n",
        "Este desbalanceo puede afectar de distintas formas a la clasificación, como por ejemplo:  \n",
        "\n",
        "* Sesgo en la Predicción: Los modelos de clasificación tienden a tener un sesgo hacia la clase mayoritaria cuando las etiquetas están desequilibradas. Esto significa que el modelo puede predecir con mayor frecuencia la clase mayoritaria, lo que resulta en una baja tasa de detección de la clase minoritaria (falsos negativos).  \n",
        "\n",
        "* Pérdida de Información: Cuando una clase está subrepresentada en los datos, el modelo puede tener menos información para aprender sobre esa clase, lo que podría resultar en una capacidad de predicción deficiente para esa clase.  \n",
        "\n",
        "* Métricas Engañosas: Las métricas de evaluación, como la precisión, pueden ser engañosas en conjuntos de datos desequilibrados. En nuestro caso, al intentar predecir la clase minoritaria, no serían tan engañosas, pero aun así es algo a tener en cuenta.  \n",
        "\n",
        "* Implicaciones: En aplicaciones del mundo real, los puntos anteriores pueden afectar negativamente, por ejemplo, en la detección de enfermedades raras, donde predecir incorrectamente la clase minoritaria puede tener graves consecuencias.\n",
        "\n",
        "Por eso, aplicaremos cuando llegue el momento una división del train y el test con estratificación para, al menos, mantener una buena representación de ambas categorías del target."
      ]
    },
    {
      "cell_type": "markdown",
      "metadata": {},
      "source": [
        "**Información General:**"
      ]
    },
    {
      "cell_type": "markdown",
      "metadata": {},
      "source": [
        "Análisis del tamaño y la tipología de los datos:"
      ]
    },
    {
      "cell_type": "code",
      "execution_count": 107,
      "metadata": {},
      "outputs": [
        {
          "name": "stdout",
          "output_type": "stream",
          "text": [
            "Tamaño de los datos de entrenamiento: (891, 12)\n"
          ]
        }
      ],
      "source": [
        "# Tamaño de los datos de entrenamiento\n",
        "print(\"Tamaño de los datos de entrenamiento:\", train_data.shape)\n"
      ]
    },
    {
      "cell_type": "code",
      "execution_count": 108,
      "metadata": {},
      "outputs": [
        {
          "name": "stdout",
          "output_type": "stream",
          "text": [
            "\n",
            "Información de los datos de entrenamiento:\n",
            "<class 'pandas.core.frame.DataFrame'>\n",
            "RangeIndex: 891 entries, 0 to 890\n",
            "Data columns (total 12 columns):\n",
            " #   Column       Non-Null Count  Dtype  \n",
            "---  ------       --------------  -----  \n",
            " 0   PassengerId  891 non-null    int64  \n",
            " 1   Survived     891 non-null    int64  \n",
            " 2   Pclass       891 non-null    int64  \n",
            " 3   Name         891 non-null    object \n",
            " 4   Sex          891 non-null    object \n",
            " 5   Age          714 non-null    float64\n",
            " 6   SibSp        891 non-null    int64  \n",
            " 7   Parch        891 non-null    int64  \n",
            " 8   Ticket       891 non-null    object \n",
            " 9   Fare         891 non-null    float64\n",
            " 10  Cabin        204 non-null    object \n",
            " 11  Embarked     889 non-null    object \n",
            "dtypes: float64(2), int64(5), object(5)\n",
            "memory usage: 83.7+ KB\n",
            "None\n"
          ]
        }
      ],
      "source": [
        "# Información sobre las columnas y tipos de datos\n",
        "print(\"\\nInformación de los datos de entrenamiento:\")\n",
        "print(train_data.info())"
      ]
    },
    {
      "cell_type": "code",
      "execution_count": 109,
      "metadata": {},
      "outputs": [
        {
          "name": "stdout",
          "output_type": "stream",
          "text": [
            "\n",
            "Resumen estadístico de las columnas numéricas:\n"
          ]
        },
        {
          "data": {
            "text/html": [
              "<div>\n",
              "<style scoped>\n",
              "    .dataframe tbody tr th:only-of-type {\n",
              "        vertical-align: middle;\n",
              "    }\n",
              "\n",
              "    .dataframe tbody tr th {\n",
              "        vertical-align: top;\n",
              "    }\n",
              "\n",
              "    .dataframe thead th {\n",
              "        text-align: right;\n",
              "    }\n",
              "</style>\n",
              "<table border=\"1\" class=\"dataframe\">\n",
              "  <thead>\n",
              "    <tr style=\"text-align: right;\">\n",
              "      <th></th>\n",
              "      <th>PassengerId</th>\n",
              "      <th>Survived</th>\n",
              "      <th>Pclass</th>\n",
              "      <th>Age</th>\n",
              "      <th>SibSp</th>\n",
              "      <th>Parch</th>\n",
              "      <th>Fare</th>\n",
              "    </tr>\n",
              "  </thead>\n",
              "  <tbody>\n",
              "    <tr>\n",
              "      <th>count</th>\n",
              "      <td>891.000000</td>\n",
              "      <td>891.000000</td>\n",
              "      <td>891.000000</td>\n",
              "      <td>714.000000</td>\n",
              "      <td>891.000000</td>\n",
              "      <td>891.000000</td>\n",
              "      <td>891.000000</td>\n",
              "    </tr>\n",
              "    <tr>\n",
              "      <th>mean</th>\n",
              "      <td>446.000000</td>\n",
              "      <td>0.383838</td>\n",
              "      <td>2.308642</td>\n",
              "      <td>29.699118</td>\n",
              "      <td>0.523008</td>\n",
              "      <td>0.381594</td>\n",
              "      <td>32.204208</td>\n",
              "    </tr>\n",
              "    <tr>\n",
              "      <th>std</th>\n",
              "      <td>257.353842</td>\n",
              "      <td>0.486592</td>\n",
              "      <td>0.836071</td>\n",
              "      <td>14.526497</td>\n",
              "      <td>1.102743</td>\n",
              "      <td>0.806057</td>\n",
              "      <td>49.693429</td>\n",
              "    </tr>\n",
              "    <tr>\n",
              "      <th>min</th>\n",
              "      <td>1.000000</td>\n",
              "      <td>0.000000</td>\n",
              "      <td>1.000000</td>\n",
              "      <td>0.420000</td>\n",
              "      <td>0.000000</td>\n",
              "      <td>0.000000</td>\n",
              "      <td>0.000000</td>\n",
              "    </tr>\n",
              "    <tr>\n",
              "      <th>25%</th>\n",
              "      <td>223.500000</td>\n",
              "      <td>0.000000</td>\n",
              "      <td>2.000000</td>\n",
              "      <td>20.125000</td>\n",
              "      <td>0.000000</td>\n",
              "      <td>0.000000</td>\n",
              "      <td>7.910400</td>\n",
              "    </tr>\n",
              "    <tr>\n",
              "      <th>50%</th>\n",
              "      <td>446.000000</td>\n",
              "      <td>0.000000</td>\n",
              "      <td>3.000000</td>\n",
              "      <td>28.000000</td>\n",
              "      <td>0.000000</td>\n",
              "      <td>0.000000</td>\n",
              "      <td>14.454200</td>\n",
              "    </tr>\n",
              "    <tr>\n",
              "      <th>75%</th>\n",
              "      <td>668.500000</td>\n",
              "      <td>1.000000</td>\n",
              "      <td>3.000000</td>\n",
              "      <td>38.000000</td>\n",
              "      <td>1.000000</td>\n",
              "      <td>0.000000</td>\n",
              "      <td>31.000000</td>\n",
              "    </tr>\n",
              "    <tr>\n",
              "      <th>max</th>\n",
              "      <td>891.000000</td>\n",
              "      <td>1.000000</td>\n",
              "      <td>3.000000</td>\n",
              "      <td>80.000000</td>\n",
              "      <td>8.000000</td>\n",
              "      <td>6.000000</td>\n",
              "      <td>512.329200</td>\n",
              "    </tr>\n",
              "  </tbody>\n",
              "</table>\n",
              "</div>"
            ],
            "text/plain": [
              "       PassengerId    Survived      Pclass         Age       SibSp  \\\n",
              "count   891.000000  891.000000  891.000000  714.000000  891.000000   \n",
              "mean    446.000000    0.383838    2.308642   29.699118    0.523008   \n",
              "std     257.353842    0.486592    0.836071   14.526497    1.102743   \n",
              "min       1.000000    0.000000    1.000000    0.420000    0.000000   \n",
              "25%     223.500000    0.000000    2.000000   20.125000    0.000000   \n",
              "50%     446.000000    0.000000    3.000000   28.000000    0.000000   \n",
              "75%     668.500000    1.000000    3.000000   38.000000    1.000000   \n",
              "max     891.000000    1.000000    3.000000   80.000000    8.000000   \n",
              "\n",
              "            Parch        Fare  \n",
              "count  891.000000  891.000000  \n",
              "mean     0.381594   32.204208  \n",
              "std      0.806057   49.693429  \n",
              "min      0.000000    0.000000  \n",
              "25%      0.000000    7.910400  \n",
              "50%      0.000000   14.454200  \n",
              "75%      0.000000   31.000000  \n",
              "max      6.000000  512.329200  "
            ]
          },
          "execution_count": 109,
          "metadata": {},
          "output_type": "execute_result"
        }
      ],
      "source": [
        "# Resumen estadístico de las columnas numéricas\n",
        "print(\"\\nResumen estadístico de las columnas numéricas:\")\n",
        "d=train_data.describe()\n",
        "d"
      ]
    },
    {
      "cell_type": "markdown",
      "metadata": {},
      "source": [
        "Valoración de correlación:"
      ]
    },
    {
      "cell_type": "code",
      "execution_count": 110,
      "metadata": {},
      "outputs": [
        {
          "data": {
            "image/png": "[encoded data removed]",
            "text/plain": [
              "<Figure size 1000x600 with 2 Axes>"
            ]
          },
          "metadata": {},
          "output_type": "display_data"
        }
      ],
      "source": [
        "# Matriz de correlación\n",
        "correlation_matrix = train_data.corr(numeric_only=True)\n",
        "\n",
        "# Visualización de la matriz de correlación en un mapa de calor\n",
        "plt.figure(figsize=(10, 6))\n",
        "sns.heatmap(correlation_matrix, annot=True, cmap=\"coolwarm\", fmt=\".2f\")\n",
        "plt.title(\"Matriz de Correlación\")\n",
        "plt.show()"
      ]
    },
    {
      "cell_type": "markdown",
      "metadata": {},
      "source": [
        "Análisis de los atributos del target:"
      ]
    },
    {
      "cell_type": "code",
      "execution_count": 111,
      "metadata": {},
      "outputs": [
        {
          "name": "stderr",
          "output_type": "stream",
          "text": [
            "c:\\Users\\adria\\anaconda3\\Lib\\site-packages\\seaborn\\_oldcore.py:1498: FutureWarning: is_categorical_dtype is deprecated and will be removed in a future version. Use isinstance(dtype, CategoricalDtype) instead\n",
            "  if pd.api.types.is_categorical_dtype(vector):\n",
            "c:\\Users\\adria\\anaconda3\\Lib\\site-packages\\seaborn\\_oldcore.py:1498: FutureWarning: is_categorical_dtype is deprecated and will be removed in a future version. Use isinstance(dtype, CategoricalDtype) instead\n",
            "  if pd.api.types.is_categorical_dtype(vector):\n",
            "c:\\Users\\adria\\anaconda3\\Lib\\site-packages\\seaborn\\_oldcore.py:1498: FutureWarning: is_categorical_dtype is deprecated and will be removed in a future version. Use isinstance(dtype, CategoricalDtype) instead\n",
            "  if pd.api.types.is_categorical_dtype(vector):\n"
          ]
        },
        {
          "data": {
            "image/png": "[encoded data removed]",
            "text/plain": [
              "<Figure size 600x400 with 1 Axes>"
            ]
          },
          "metadata": {},
          "output_type": "display_data"
        },
        {
          "name": "stdout",
          "output_type": "stream",
          "text": [
            "Porcentaje de pasajeros que sobrevivieron:\n",
            "Survived\n",
            "0    61.616162\n",
            "1    38.383838\n",
            "Name: count, dtype: float64\n"
          ]
        }
      ],
      "source": [
        "# Conteo de valores únicos en la columna \"Survived\" (atributo del target)\n",
        "survival_counts = train_data[\"Survived\"].value_counts()\n",
        "\n",
        "# Gráfico de barras para visualizar la distribución de sobrevivientes\n",
        "plt.figure(figsize=(6, 4))\n",
        "sns.countplot(x=\"Survived\", data=train_data)\n",
        "plt.xlabel(\"Sobrevivió\")\n",
        "plt.ylabel(\"Número de Pasajeros\")\n",
        "plt.title(\"Distribución de Sobrevivientes\")\n",
        "plt.xticks([0, 1], [\"No\", \"Sí\"])\n",
        "plt.show()\n",
        "\n",
        "# Porcentaje de pasajeros que sobrevivieron\n",
        "survival_percentage = survival_counts / len(train_data) * 100\n",
        "print(\"Porcentaje de pasajeros que sobrevivieron:\")\n",
        "print(survival_percentage)\n"
      ]
    },
    {
      "cell_type": "markdown",
      "metadata": {
        "id": "CuLtWQWpCl7T"
      },
      "source": [
        "### 2. Preprocessing (normalitzation, outlier removal, feature selection..) (2 punts)"
      ]
    },
    {
      "cell_type": "markdown",
      "metadata": {},
      "source": [
        "**Preguntas:**"
      ]
    },
    {
      "cell_type": "code",
      "execution_count": 112,
      "metadata": {},
      "outputs": [],
      "source": [
        "train_data = pd.read_csv(\"titanic/train.csv\")"
      ]
    },
    {
      "cell_type": "code",
      "execution_count": 113,
      "metadata": {},
      "outputs": [
        {
          "data": {
            "text/html": [
              "<div>\n",
              "<style scoped>\n",
              "    .dataframe tbody tr th:only-of-type {\n",
              "        vertical-align: middle;\n",
              "    }\n",
              "\n",
              "    .dataframe tbody tr th {\n",
              "        vertical-align: top;\n",
              "    }\n",
              "\n",
              "    .dataframe thead th {\n",
              "        text-align: right;\n",
              "    }\n",
              "</style>\n",
              "<table border=\"1\" class=\"dataframe\">\n",
              "  <thead>\n",
              "    <tr style=\"text-align: right;\">\n",
              "      <th></th>\n",
              "      <th>PassengerId</th>\n",
              "      <th>Survived</th>\n",
              "      <th>Pclass</th>\n",
              "      <th>Name</th>\n",
              "      <th>Sex</th>\n",
              "      <th>Age</th>\n",
              "      <th>SibSp</th>\n",
              "      <th>Parch</th>\n",
              "      <th>Ticket</th>\n",
              "      <th>Fare</th>\n",
              "      <th>Cabin</th>\n",
              "      <th>Embarked</th>\n",
              "    </tr>\n",
              "  </thead>\n",
              "  <tbody>\n",
              "    <tr>\n",
              "      <th>0</th>\n",
              "      <td>1</td>\n",
              "      <td>0</td>\n",
              "      <td>3</td>\n",
              "      <td>Braund, Mr. Owen Harris</td>\n",
              "      <td>male</td>\n",
              "      <td>22.0</td>\n",
              "      <td>1</td>\n",
              "      <td>0</td>\n",
              "      <td>A/5 21171</td>\n",
              "      <td>7.2500</td>\n",
              "      <td>NaN</td>\n",
              "      <td>S</td>\n",
              "    </tr>\n",
              "    <tr>\n",
              "      <th>1</th>\n",
              "      <td>2</td>\n",
              "      <td>1</td>\n",
              "      <td>1</td>\n",
              "      <td>Cumings, Mrs. John Bradley (Florence Briggs Thayer)</td>\n",
              "      <td>female</td>\n",
              "      <td>38.0</td>\n",
              "      <td>1</td>\n",
              "      <td>0</td>\n",
              "      <td>PC 17599</td>\n",
              "      <td>71.2833</td>\n",
              "      <td>C85</td>\n",
              "      <td>C</td>\n",
              "    </tr>\n",
              "    <tr>\n",
              "      <th>2</th>\n",
              "      <td>3</td>\n",
              "      <td>1</td>\n",
              "      <td>3</td>\n",
              "      <td>Heikkinen, Miss. Laina</td>\n",
              "      <td>female</td>\n",
              "      <td>26.0</td>\n",
              "      <td>0</td>\n",
              "      <td>0</td>\n",
              "      <td>STON/O2. 3101282</td>\n",
              "      <td>7.9250</td>\n",
              "      <td>NaN</td>\n",
              "      <td>S</td>\n",
              "    </tr>\n",
              "    <tr>\n",
              "      <th>3</th>\n",
              "      <td>4</td>\n",
              "      <td>1</td>\n",
              "      <td>1</td>\n",
              "      <td>Futrelle, Mrs. Jacques Heath (Lily May Peel)</td>\n",
              "      <td>female</td>\n",
              "      <td>35.0</td>\n",
              "      <td>1</td>\n",
              "      <td>0</td>\n",
              "      <td>113803</td>\n",
              "      <td>53.1000</td>\n",
              "      <td>C123</td>\n",
              "      <td>S</td>\n",
              "    </tr>\n",
              "    <tr>\n",
              "      <th>4</th>\n",
              "      <td>5</td>\n",
              "      <td>0</td>\n",
              "      <td>3</td>\n",
              "      <td>Allen, Mr. William Henry</td>\n",
              "      <td>male</td>\n",
              "      <td>35.0</td>\n",
              "      <td>0</td>\n",
              "      <td>0</td>\n",
              "      <td>373450</td>\n",
              "      <td>8.0500</td>\n",
              "      <td>NaN</td>\n",
              "      <td>S</td>\n",
              "    </tr>\n",
              "    <tr>\n",
              "      <th>5</th>\n",
              "      <td>6</td>\n",
              "      <td>0</td>\n",
              "      <td>3</td>\n",
              "      <td>Moran, Mr. James</td>\n",
              "      <td>male</td>\n",
              "      <td>NaN</td>\n",
              "      <td>0</td>\n",
              "      <td>0</td>\n",
              "      <td>330877</td>\n",
              "      <td>8.4583</td>\n",
              "      <td>NaN</td>\n",
              "      <td>Q</td>\n",
              "    </tr>\n",
              "    <tr>\n",
              "      <th>6</th>\n",
              "      <td>7</td>\n",
              "      <td>0</td>\n",
              "      <td>1</td>\n",
              "      <td>McCarthy, Mr. Timothy J</td>\n",
              "      <td>male</td>\n",
              "      <td>54.0</td>\n",
              "      <td>0</td>\n",
              "      <td>0</td>\n",
              "      <td>17463</td>\n",
              "      <td>51.8625</td>\n",
              "      <td>E46</td>\n",
              "      <td>S</td>\n",
              "    </tr>\n",
              "    <tr>\n",
              "      <th>7</th>\n",
              "      <td>8</td>\n",
              "      <td>0</td>\n",
              "      <td>3</td>\n",
              "      <td>Palsson, Master. Gosta Leonard</td>\n",
              "      <td>male</td>\n",
              "      <td>2.0</td>\n",
              "      <td>3</td>\n",
              "      <td>1</td>\n",
              "      <td>349909</td>\n",
              "      <td>21.0750</td>\n",
              "      <td>NaN</td>\n",
              "      <td>S</td>\n",
              "    </tr>\n",
              "    <tr>\n",
              "      <th>8</th>\n",
              "      <td>9</td>\n",
              "      <td>1</td>\n",
              "      <td>3</td>\n",
              "      <td>Johnson, Mrs. Oscar W (Elisabeth Vilhelmina Berg)</td>\n",
              "      <td>female</td>\n",
              "      <td>27.0</td>\n",
              "      <td>0</td>\n",
              "      <td>2</td>\n",
              "      <td>347742</td>\n",
              "      <td>11.1333</td>\n",
              "      <td>NaN</td>\n",
              "      <td>S</td>\n",
              "    </tr>\n",
              "    <tr>\n",
              "      <th>9</th>\n",
              "      <td>10</td>\n",
              "      <td>1</td>\n",
              "      <td>2</td>\n",
              "      <td>Nasser, Mrs. Nicholas (Adele Achem)</td>\n",
              "      <td>female</td>\n",
              "      <td>14.0</td>\n",
              "      <td>1</td>\n",
              "      <td>0</td>\n",
              "      <td>237736</td>\n",
              "      <td>30.0708</td>\n",
              "      <td>NaN</td>\n",
              "      <td>C</td>\n",
              "    </tr>\n",
              "  </tbody>\n",
              "</table>\n",
              "</div>"
            ],
            "text/plain": [
              "   PassengerId  Survived  Pclass  \\\n",
              "0            1         0       3   \n",
              "1            2         1       1   \n",
              "2            3         1       3   \n",
              "3            4         1       1   \n",
              "4            5         0       3   \n",
              "5            6         0       3   \n",
              "6            7         0       1   \n",
              "7            8         0       3   \n",
              "8            9         1       3   \n",
              "9           10         1       2   \n",
              "\n",
              "                                                  Name     Sex   Age  SibSp  \\\n",
              "0                              Braund, Mr. Owen Harris    male  22.0      1   \n",
              "1  Cumings, Mrs. John Bradley (Florence Briggs Thayer)  female  38.0      1   \n",
              "2                               Heikkinen, Miss. Laina  female  26.0      0   \n",
              "3         Futrelle, Mrs. Jacques Heath (Lily May Peel)  female  35.0      1   \n",
              "4                             Allen, Mr. William Henry    male  35.0      0   \n",
              "5                                     Moran, Mr. James    male   NaN      0   \n",
              "6                              McCarthy, Mr. Timothy J    male  54.0      0   \n",
              "7                       Palsson, Master. Gosta Leonard    male   2.0      3   \n",
              "8    Johnson, Mrs. Oscar W (Elisabeth Vilhelmina Berg)  female  27.0      0   \n",
              "9                  Nasser, Mrs. Nicholas (Adele Achem)  female  14.0      1   \n",
              "\n",
              "   Parch            Ticket     Fare Cabin Embarked  \n",
              "0      0         A/5 21171   7.2500   NaN        S  \n",
              "1      0          PC 17599  71.2833   C85        C  \n",
              "2      0  STON/O2. 3101282   7.9250   NaN        S  \n",
              "3      0            113803  53.1000  C123        S  \n",
              "4      0            373450   8.0500   NaN        S  \n",
              "5      0            330877   8.4583   NaN        Q  \n",
              "6      0             17463  51.8625   E46        S  \n",
              "7      1            349909  21.0750   NaN        S  \n",
              "8      2            347742  11.1333   NaN        S  \n",
              "9      0            237736  30.0708   NaN        C  "
            ]
          },
          "execution_count": 113,
          "metadata": {},
          "output_type": "execute_result"
        }
      ],
      "source": [
        "train_data.head(n=10)"
      ]
    },
    {
      "cell_type": "markdown",
      "metadata": {},
      "source": [
        "* ¿Están las datos normalizados? ¿Sería necesario normalizarlos?"
      ]
    },
    {
      "cell_type": "markdown",
      "metadata": {},
      "source": [
        "Los datos no están normalizados, ya que la escala de valores que toman, por ejemplo, \"Age\" y \"Fare\" son completamente distintas. Por ello es necesario aplicar una técnica de normalización para poder probar tanto modelos sensibles a la escala de los datos como los que no se ven afectados."
      ]
    },
    {
      "cell_type": "markdown",
      "metadata": {},
      "source": [
        "* En caso de normalización, ¿qué tipo de normalización es más adecuada?"
      ]
    },
    {
      "cell_type": "markdown",
      "metadata": {},
      "source": [
        "La normalización Z-Score (StandardScaler) sería una buena opción si nuestros datos siguen una distribución normal. Pero por lo que hemos podido comprobar no es el caso para todos los atributos, así que optaremos por una normalización Min-Max, que escala los datos al rango [0, 1] y puede ser útil si hay datos con valores atípicos.  "
      ]
    },
    {
      "cell_type": "markdown",
      "metadata": {},
      "source": [
        "* ¿Tienes muchos valores faltantes (NaN)? Tened en cuenta que hay métodos que no los toleran durante el aprendizaje. ¿Cómo afectan a la clasificación? Y si los rellenáis, ¿cómo lo haríais?"
      ]
    },
    {
      "cell_type": "markdown",
      "metadata": {},
      "source": [
        "Sí, en nuestros datos hay nulos en \"Age\", \"Cabin\" y \"Embarked\".  \n",
        " \n",
        "* Como hay muchos nulos en \"Cabin\" (687 de 891 entradas), hemos decidido que eliminaremos esta columna.  \n",
        "* Para \"Age\" y \"Embarked\", extraeremos los valores faltantes utilizando la media en función de la clase de pasajero para \"Age\" y eliminando las filas con valores faltantes en \"Embarked\".  "
      ]
    },
    {
      "cell_type": "markdown",
      "metadata": {},
      "source": [
        "* ¿Tienes datos categóricos? ¿Cómo se deben codificar?"
      ]
    },
    {
      "cell_type": "markdown",
      "metadata": {},
      "source": [
        "Sí, tenemos datos categóricos en las columnas \"Embarked\", \"Sex\", \"Cabin\", \"Ticket\" y \"Name\".\n",
        "\n",
        "Podemos utilizar la codificación one-hot (dummy encoding) para convertir estas columnas en columnas binarias para cada categoría de los datos.  \n",
        "\n",
        "Esto asegurará que el modelo pueda trabajar con estos datos categóricos."
      ]
    },
    {
      "cell_type": "markdown",
      "metadata": {},
      "source": [
        "* ¿Podréis extraer algún atributo adicional de los datos categóricos (por ejemplo, aplicando alguna regla sobre el texto)?"
      ]
    },
    {
      "cell_type": "markdown",
      "metadata": {},
      "source": [
        "En nuestro caso, se podría extraer algún atributo adicional de Ticket, clasificando los que tienen únicamente valores numéricos o los que tienen también texto, sin embargo no vemos que el atributo Ticket tenga mucha relevancia en este conjunto de datos.  "
      ]
    },
    {
      "cell_type": "markdown",
      "metadata": {},
      "source": [
        "* ¿Es necesario aplicar PCA? ¿Qué beneficios o inconvenientes encuentraríais?"
      ]
    },
    {
      "cell_type": "markdown",
      "metadata": {},
      "source": [
        "Dado que nuestro conjunto de datos no tiene muchas dimensiones desde el inicio, no es necesario aplicar PCA.  \n",
        "\n",
        "La reducción de dimensionalidad podría llevar a una pérdida de información, por lo que para usarla hay que evaluar si el beneficio de reducir el número de dimensiones supera la pérdida de información que eso conlleva."
      ]
    },
    {
      "cell_type": "markdown",
      "metadata": {},
      "source": [
        "* ¿Es necesario aplicar alguna técnica de selección de características? ¿Lo veis necesario?"
      ]
    },
    {
      "cell_type": "markdown",
      "metadata": {},
      "source": [
        "No vemos necesario aplicar técnicas de selección de características ya que de base tenemos pocas. Sin embargo, eso no implica que eliminemos algunas por abundancia de nulos, como \"Cabin\", o por poca relevancia en sobre el target, como \"PassengerId\" que no es más que un identificador.  "
      ]
    },
    {
      "cell_type": "markdown",
      "metadata": {},
      "source": [
        "* ¿Se pueden aplicar PolynomialFeatures para mejorar la clasificación? ¿En qué modelos tiene sentido hacerlo?"
      ]
    },
    {
      "cell_type": "markdown",
      "metadata": {},
      "source": [
        "PolynomialFeatures se utiliza para generar características polinómicas a partir de las características existentes. Puede ser útil en modelos lineales y algunos algoritmos de regresión para capturar relaciones no lineales entre las características. No suele ser necesario en modelos como árboles de decisión o Random Forest, que pueden manejar relaciones no lineales sin necesidad de esta transformación."
      ]
    },
    {
      "cell_type": "markdown",
      "metadata": {},
      "source": [
        "**Información General:**"
      ]
    },
    {
      "cell_type": "code",
      "execution_count": 114,
      "metadata": {},
      "outputs": [],
      "source": [
        "train_data = pd.read_csv(\"titanic/train.csv\")"
      ]
    },
    {
      "cell_type": "markdown",
      "metadata": {},
      "source": [
        "Eliminación de nans"
      ]
    },
    {
      "cell_type": "code",
      "execution_count": 115,
      "metadata": {},
      "outputs": [],
      "source": [
        "# Calcular la edad media por clase social\n",
        "age_class_means = train_data.groupby('Pclass')['Age'].mean()\n",
        "\n",
        "# Función para rellenar los NaN en 'Age' con la media correspondiente a la 'Pclass'\n",
        "def impute_age(row):\n",
        "    if pd.isnull(row['Age']):\n",
        "        return age_class_means[row['Pclass']]\n",
        "    return row['Age']\n",
        "\n",
        "train_data['Age'] = train_data.apply(impute_age, axis=1)\n",
        "\n",
        "# Descartar la columna \"Cabin\" debido a la gran cantidad de valores faltantes.\n",
        "# Descartar las columnas \"PassengerId\", \"Name\" y \"Ticket\" debido a su poca relevancia.\n",
        "train_data.drop(['Cabin','PassengerId','Name','Ticket'], axis=1, inplace=True)\n",
        "\n",
        "# Descartar las filas con NaN en la columna \"Embarked\".\n",
        "train_data.dropna(subset=['Embarked'], inplace=True)"
      ]
    },
    {
      "cell_type": "code",
      "execution_count": 116,
      "metadata": {},
      "outputs": [
        {
          "name": "stdout",
          "output_type": "stream",
          "text": [
            "Número de valores nulos por atributo:\n",
            "Survived    0\n",
            "Pclass      0\n",
            "Sex         0\n",
            "Age         0\n",
            "SibSp       0\n",
            "Parch       0\n",
            "Fare        0\n",
            "Embarked    0\n",
            "dtype: int64\n"
          ]
        },
        {
          "data": {
            "text/html": [
              "<div>\n",
              "<style scoped>\n",
              "    .dataframe tbody tr th:only-of-type {\n",
              "        vertical-align: middle;\n",
              "    }\n",
              "\n",
              "    .dataframe tbody tr th {\n",
              "        vertical-align: top;\n",
              "    }\n",
              "\n",
              "    .dataframe thead th {\n",
              "        text-align: right;\n",
              "    }\n",
              "</style>\n",
              "<table border=\"1\" class=\"dataframe\">\n",
              "  <thead>\n",
              "    <tr style=\"text-align: right;\">\n",
              "      <th></th>\n",
              "      <th>Survived</th>\n",
              "      <th>Pclass</th>\n",
              "      <th>Sex</th>\n",
              "      <th>Age</th>\n",
              "      <th>SibSp</th>\n",
              "      <th>Parch</th>\n",
              "      <th>Fare</th>\n",
              "      <th>Embarked</th>\n",
              "    </tr>\n",
              "  </thead>\n",
              "  <tbody>\n",
              "    <tr>\n",
              "      <th>0</th>\n",
              "      <td>0</td>\n",
              "      <td>3</td>\n",
              "      <td>male</td>\n",
              "      <td>22.00000</td>\n",
              "      <td>1</td>\n",
              "      <td>0</td>\n",
              "      <td>7.2500</td>\n",
              "      <td>S</td>\n",
              "    </tr>\n",
              "    <tr>\n",
              "      <th>1</th>\n",
              "      <td>1</td>\n",
              "      <td>1</td>\n",
              "      <td>female</td>\n",
              "      <td>38.00000</td>\n",
              "      <td>1</td>\n",
              "      <td>0</td>\n",
              "      <td>71.2833</td>\n",
              "      <td>C</td>\n",
              "    </tr>\n",
              "    <tr>\n",
              "      <th>2</th>\n",
              "      <td>1</td>\n",
              "      <td>3</td>\n",
              "      <td>female</td>\n",
              "      <td>26.00000</td>\n",
              "      <td>0</td>\n",
              "      <td>0</td>\n",
              "      <td>7.9250</td>\n",
              "      <td>S</td>\n",
              "    </tr>\n",
              "    <tr>\n",
              "      <th>3</th>\n",
              "      <td>1</td>\n",
              "      <td>1</td>\n",
              "      <td>female</td>\n",
              "      <td>35.00000</td>\n",
              "      <td>1</td>\n",
              "      <td>0</td>\n",
              "      <td>53.1000</td>\n",
              "      <td>S</td>\n",
              "    </tr>\n",
              "    <tr>\n",
              "      <th>4</th>\n",
              "      <td>0</td>\n",
              "      <td>3</td>\n",
              "      <td>male</td>\n",
              "      <td>35.00000</td>\n",
              "      <td>0</td>\n",
              "      <td>0</td>\n",
              "      <td>8.0500</td>\n",
              "      <td>S</td>\n",
              "    </tr>\n",
              "    <tr>\n",
              "      <th>5</th>\n",
              "      <td>0</td>\n",
              "      <td>3</td>\n",
              "      <td>male</td>\n",
              "      <td>25.14062</td>\n",
              "      <td>0</td>\n",
              "      <td>0</td>\n",
              "      <td>8.4583</td>\n",
              "      <td>Q</td>\n",
              "    </tr>\n",
              "    <tr>\n",
              "      <th>6</th>\n",
              "      <td>0</td>\n",
              "      <td>1</td>\n",
              "      <td>male</td>\n",
              "      <td>54.00000</td>\n",
              "      <td>0</td>\n",
              "      <td>0</td>\n",
              "      <td>51.8625</td>\n",
              "      <td>S</td>\n",
              "    </tr>\n",
              "    <tr>\n",
              "      <th>7</th>\n",
              "      <td>0</td>\n",
              "      <td>3</td>\n",
              "      <td>male</td>\n",
              "      <td>2.00000</td>\n",
              "      <td>3</td>\n",
              "      <td>1</td>\n",
              "      <td>21.0750</td>\n",
              "      <td>S</td>\n",
              "    </tr>\n",
              "    <tr>\n",
              "      <th>8</th>\n",
              "      <td>1</td>\n",
              "      <td>3</td>\n",
              "      <td>female</td>\n",
              "      <td>27.00000</td>\n",
              "      <td>0</td>\n",
              "      <td>2</td>\n",
              "      <td>11.1333</td>\n",
              "      <td>S</td>\n",
              "    </tr>\n",
              "    <tr>\n",
              "      <th>9</th>\n",
              "      <td>1</td>\n",
              "      <td>2</td>\n",
              "      <td>female</td>\n",
              "      <td>14.00000</td>\n",
              "      <td>1</td>\n",
              "      <td>0</td>\n",
              "      <td>30.0708</td>\n",
              "      <td>C</td>\n",
              "    </tr>\n",
              "  </tbody>\n",
              "</table>\n",
              "</div>"
            ],
            "text/plain": [
              "   Survived  Pclass     Sex       Age  SibSp  Parch     Fare Embarked\n",
              "0         0       3    male  22.00000      1      0   7.2500        S\n",
              "1         1       1  female  38.00000      1      0  71.2833        C\n",
              "2         1       3  female  26.00000      0      0   7.9250        S\n",
              "3         1       1  female  35.00000      1      0  53.1000        S\n",
              "4         0       3    male  35.00000      0      0   8.0500        S\n",
              "5         0       3    male  25.14062      0      0   8.4583        Q\n",
              "6         0       1    male  54.00000      0      0  51.8625        S\n",
              "7         0       3    male   2.00000      3      1  21.0750        S\n",
              "8         1       3  female  27.00000      0      2  11.1333        S\n",
              "9         1       2  female  14.00000      1      0  30.0708        C"
            ]
          },
          "execution_count": 116,
          "metadata": {},
          "output_type": "execute_result"
        }
      ],
      "source": [
        "null_counts = train_data.isnull().sum()\n",
        "print(\"Número de valores nulos por atributo:\")\n",
        "print(null_counts)\n",
        "\n",
        "train_data.head(n=10)"
      ]
    },
    {
      "cell_type": "markdown",
      "metadata": {},
      "source": [
        "Encoding de categóricas"
      ]
    },
    {
      "cell_type": "code",
      "execution_count": 117,
      "metadata": {},
      "outputs": [
        {
          "data": {
            "text/html": [
              "<div>\n",
              "<style scoped>\n",
              "    .dataframe tbody tr th:only-of-type {\n",
              "        vertical-align: middle;\n",
              "    }\n",
              "\n",
              "    .dataframe tbody tr th {\n",
              "        vertical-align: top;\n",
              "    }\n",
              "\n",
              "    .dataframe thead th {\n",
              "        text-align: right;\n",
              "    }\n",
              "</style>\n",
              "<table border=\"1\" class=\"dataframe\">\n",
              "  <thead>\n",
              "    <tr style=\"text-align: right;\">\n",
              "      <th></th>\n",
              "      <th>Survived</th>\n",
              "      <th>Pclass</th>\n",
              "      <th>Age</th>\n",
              "      <th>SibSp</th>\n",
              "      <th>Parch</th>\n",
              "      <th>Fare</th>\n",
              "      <th>Sex_female</th>\n",
              "      <th>Sex_male</th>\n",
              "      <th>Embarked_C</th>\n",
              "      <th>Embarked_Q</th>\n",
              "      <th>Embarked_S</th>\n",
              "    </tr>\n",
              "  </thead>\n",
              "  <tbody>\n",
              "    <tr>\n",
              "      <th>0</th>\n",
              "      <td>0</td>\n",
              "      <td>3</td>\n",
              "      <td>22.00000</td>\n",
              "      <td>1</td>\n",
              "      <td>0</td>\n",
              "      <td>7.2500</td>\n",
              "      <td>False</td>\n",
              "      <td>True</td>\n",
              "      <td>False</td>\n",
              "      <td>False</td>\n",
              "      <td>True</td>\n",
              "    </tr>\n",
              "    <tr>\n",
              "      <th>1</th>\n",
              "      <td>1</td>\n",
              "      <td>1</td>\n",
              "      <td>38.00000</td>\n",
              "      <td>1</td>\n",
              "      <td>0</td>\n",
              "      <td>71.2833</td>\n",
              "      <td>True</td>\n",
              "      <td>False</td>\n",
              "      <td>True</td>\n",
              "      <td>False</td>\n",
              "      <td>False</td>\n",
              "    </tr>\n",
              "    <tr>\n",
              "      <th>2</th>\n",
              "      <td>1</td>\n",
              "      <td>3</td>\n",
              "      <td>26.00000</td>\n",
              "      <td>0</td>\n",
              "      <td>0</td>\n",
              "      <td>7.9250</td>\n",
              "      <td>True</td>\n",
              "      <td>False</td>\n",
              "      <td>False</td>\n",
              "      <td>False</td>\n",
              "      <td>True</td>\n",
              "    </tr>\n",
              "    <tr>\n",
              "      <th>3</th>\n",
              "      <td>1</td>\n",
              "      <td>1</td>\n",
              "      <td>35.00000</td>\n",
              "      <td>1</td>\n",
              "      <td>0</td>\n",
              "      <td>53.1000</td>\n",
              "      <td>True</td>\n",
              "      <td>False</td>\n",
              "      <td>False</td>\n",
              "      <td>False</td>\n",
              "      <td>True</td>\n",
              "    </tr>\n",
              "    <tr>\n",
              "      <th>4</th>\n",
              "      <td>0</td>\n",
              "      <td>3</td>\n",
              "      <td>35.00000</td>\n",
              "      <td>0</td>\n",
              "      <td>0</td>\n",
              "      <td>8.0500</td>\n",
              "      <td>False</td>\n",
              "      <td>True</td>\n",
              "      <td>False</td>\n",
              "      <td>False</td>\n",
              "      <td>True</td>\n",
              "    </tr>\n",
              "    <tr>\n",
              "      <th>5</th>\n",
              "      <td>0</td>\n",
              "      <td>3</td>\n",
              "      <td>25.14062</td>\n",
              "      <td>0</td>\n",
              "      <td>0</td>\n",
              "      <td>8.4583</td>\n",
              "      <td>False</td>\n",
              "      <td>True</td>\n",
              "      <td>False</td>\n",
              "      <td>True</td>\n",
              "      <td>False</td>\n",
              "    </tr>\n",
              "    <tr>\n",
              "      <th>6</th>\n",
              "      <td>0</td>\n",
              "      <td>1</td>\n",
              "      <td>54.00000</td>\n",
              "      <td>0</td>\n",
              "      <td>0</td>\n",
              "      <td>51.8625</td>\n",
              "      <td>False</td>\n",
              "      <td>True</td>\n",
              "      <td>False</td>\n",
              "      <td>False</td>\n",
              "      <td>True</td>\n",
              "    </tr>\n",
              "    <tr>\n",
              "      <th>7</th>\n",
              "      <td>0</td>\n",
              "      <td>3</td>\n",
              "      <td>2.00000</td>\n",
              "      <td>3</td>\n",
              "      <td>1</td>\n",
              "      <td>21.0750</td>\n",
              "      <td>False</td>\n",
              "      <td>True</td>\n",
              "      <td>False</td>\n",
              "      <td>False</td>\n",
              "      <td>True</td>\n",
              "    </tr>\n",
              "    <tr>\n",
              "      <th>8</th>\n",
              "      <td>1</td>\n",
              "      <td>3</td>\n",
              "      <td>27.00000</td>\n",
              "      <td>0</td>\n",
              "      <td>2</td>\n",
              "      <td>11.1333</td>\n",
              "      <td>True</td>\n",
              "      <td>False</td>\n",
              "      <td>False</td>\n",
              "      <td>False</td>\n",
              "      <td>True</td>\n",
              "    </tr>\n",
              "    <tr>\n",
              "      <th>9</th>\n",
              "      <td>1</td>\n",
              "      <td>2</td>\n",
              "      <td>14.00000</td>\n",
              "      <td>1</td>\n",
              "      <td>0</td>\n",
              "      <td>30.0708</td>\n",
              "      <td>True</td>\n",
              "      <td>False</td>\n",
              "      <td>True</td>\n",
              "      <td>False</td>\n",
              "      <td>False</td>\n",
              "    </tr>\n",
              "  </tbody>\n",
              "</table>\n",
              "</div>"
            ],
            "text/plain": [
              "   Survived  Pclass       Age  SibSp  Parch     Fare  Sex_female  Sex_male  \\\n",
              "0         0       3  22.00000      1      0   7.2500       False      True   \n",
              "1         1       1  38.00000      1      0  71.2833        True     False   \n",
              "2         1       3  26.00000      0      0   7.9250        True     False   \n",
              "3         1       1  35.00000      1      0  53.1000        True     False   \n",
              "4         0       3  35.00000      0      0   8.0500       False      True   \n",
              "5         0       3  25.14062      0      0   8.4583       False      True   \n",
              "6         0       1  54.00000      0      0  51.8625       False      True   \n",
              "7         0       3   2.00000      3      1  21.0750       False      True   \n",
              "8         1       3  27.00000      0      2  11.1333        True     False   \n",
              "9         1       2  14.00000      1      0  30.0708        True     False   \n",
              "\n",
              "   Embarked_C  Embarked_Q  Embarked_S  \n",
              "0       False       False        True  \n",
              "1        True       False       False  \n",
              "2       False       False        True  \n",
              "3       False       False        True  \n",
              "4       False       False        True  \n",
              "5       False        True       False  \n",
              "6       False       False        True  \n",
              "7       False       False        True  \n",
              "8       False       False        True  \n",
              "9        True       False       False  "
            ]
          },
          "execution_count": 117,
          "metadata": {},
          "output_type": "execute_result"
        }
      ],
      "source": [
        "# Convertimos cada categoría de un atributo en una columna binaria (0 o 1)\n",
        "train_data = pd.get_dummies(train_data, columns=[\"Sex\", \"Embarked\"])\n",
        "\n",
        "# male(1) y female(0)\n",
        "# train_data.Sex = pd.Categorical(train_data.Sex)\n",
        "# train_data.Sex = train_data.Sex.cat.codes\n",
        "\n",
        "# C(0), Q(1) y S(2)\n",
        "# train_data.Embarked = pd.Categorical(train_data.Embarked)\n",
        "# train_data.Embarked = train_data.Embarked.cat.codes\n",
        "\n",
        "train_data.head(n=10)"
      ]
    },
    {
      "cell_type": "markdown",
      "metadata": {},
      "source": [
        "Otros (PCA, normalización..)"
      ]
    },
    {
      "cell_type": "code",
      "execution_count": 118,
      "metadata": {},
      "outputs": [
        {
          "data": {
            "text/html": [
              "<div>\n",
              "<style scoped>\n",
              "    .dataframe tbody tr th:only-of-type {\n",
              "        vertical-align: middle;\n",
              "    }\n",
              "\n",
              "    .dataframe tbody tr th {\n",
              "        vertical-align: top;\n",
              "    }\n",
              "\n",
              "    .dataframe thead th {\n",
              "        text-align: right;\n",
              "    }\n",
              "</style>\n",
              "<table border=\"1\" class=\"dataframe\">\n",
              "  <thead>\n",
              "    <tr style=\"text-align: right;\">\n",
              "      <th></th>\n",
              "      <th>Survived</th>\n",
              "      <th>Pclass</th>\n",
              "      <th>Age</th>\n",
              "      <th>SibSp</th>\n",
              "      <th>Parch</th>\n",
              "      <th>Fare</th>\n",
              "      <th>Sex_female</th>\n",
              "      <th>Sex_male</th>\n",
              "      <th>Embarked_C</th>\n",
              "      <th>Embarked_Q</th>\n",
              "      <th>Embarked_S</th>\n",
              "    </tr>\n",
              "  </thead>\n",
              "  <tbody>\n",
              "    <tr>\n",
              "      <th>0</th>\n",
              "      <td>0</td>\n",
              "      <td>3</td>\n",
              "      <td>0.271174</td>\n",
              "      <td>1</td>\n",
              "      <td>0</td>\n",
              "      <td>0.014151</td>\n",
              "      <td>False</td>\n",
              "      <td>True</td>\n",
              "      <td>False</td>\n",
              "      <td>False</td>\n",
              "      <td>True</td>\n",
              "    </tr>\n",
              "    <tr>\n",
              "      <th>1</th>\n",
              "      <td>1</td>\n",
              "      <td>1</td>\n",
              "      <td>0.472229</td>\n",
              "      <td>1</td>\n",
              "      <td>0</td>\n",
              "      <td>0.139136</td>\n",
              "      <td>True</td>\n",
              "      <td>False</td>\n",
              "      <td>True</td>\n",
              "      <td>False</td>\n",
              "      <td>False</td>\n",
              "    </tr>\n",
              "    <tr>\n",
              "      <th>2</th>\n",
              "      <td>1</td>\n",
              "      <td>3</td>\n",
              "      <td>0.321438</td>\n",
              "      <td>0</td>\n",
              "      <td>0</td>\n",
              "      <td>0.015469</td>\n",
              "      <td>True</td>\n",
              "      <td>False</td>\n",
              "      <td>False</td>\n",
              "      <td>False</td>\n",
              "      <td>True</td>\n",
              "    </tr>\n",
              "    <tr>\n",
              "      <th>3</th>\n",
              "      <td>1</td>\n",
              "      <td>1</td>\n",
              "      <td>0.434531</td>\n",
              "      <td>1</td>\n",
              "      <td>0</td>\n",
              "      <td>0.103644</td>\n",
              "      <td>True</td>\n",
              "      <td>False</td>\n",
              "      <td>False</td>\n",
              "      <td>False</td>\n",
              "      <td>True</td>\n",
              "    </tr>\n",
              "    <tr>\n",
              "      <th>4</th>\n",
              "      <td>0</td>\n",
              "      <td>3</td>\n",
              "      <td>0.434531</td>\n",
              "      <td>0</td>\n",
              "      <td>0</td>\n",
              "      <td>0.015713</td>\n",
              "      <td>False</td>\n",
              "      <td>True</td>\n",
              "      <td>False</td>\n",
              "      <td>False</td>\n",
              "      <td>True</td>\n",
              "    </tr>\n",
              "    <tr>\n",
              "      <th>5</th>\n",
              "      <td>0</td>\n",
              "      <td>3</td>\n",
              "      <td>0.310639</td>\n",
              "      <td>0</td>\n",
              "      <td>0</td>\n",
              "      <td>0.016510</td>\n",
              "      <td>False</td>\n",
              "      <td>True</td>\n",
              "      <td>False</td>\n",
              "      <td>True</td>\n",
              "      <td>False</td>\n",
              "    </tr>\n",
              "    <tr>\n",
              "      <th>6</th>\n",
              "      <td>0</td>\n",
              "      <td>1</td>\n",
              "      <td>0.673285</td>\n",
              "      <td>0</td>\n",
              "      <td>0</td>\n",
              "      <td>0.101229</td>\n",
              "      <td>False</td>\n",
              "      <td>True</td>\n",
              "      <td>False</td>\n",
              "      <td>False</td>\n",
              "      <td>True</td>\n",
              "    </tr>\n",
              "    <tr>\n",
              "      <th>7</th>\n",
              "      <td>0</td>\n",
              "      <td>3</td>\n",
              "      <td>0.019854</td>\n",
              "      <td>3</td>\n",
              "      <td>1</td>\n",
              "      <td>0.041136</td>\n",
              "      <td>False</td>\n",
              "      <td>True</td>\n",
              "      <td>False</td>\n",
              "      <td>False</td>\n",
              "      <td>True</td>\n",
              "    </tr>\n",
              "    <tr>\n",
              "      <th>8</th>\n",
              "      <td>1</td>\n",
              "      <td>3</td>\n",
              "      <td>0.334004</td>\n",
              "      <td>0</td>\n",
              "      <td>2</td>\n",
              "      <td>0.021731</td>\n",
              "      <td>True</td>\n",
              "      <td>False</td>\n",
              "      <td>False</td>\n",
              "      <td>False</td>\n",
              "      <td>True</td>\n",
              "    </tr>\n",
              "    <tr>\n",
              "      <th>9</th>\n",
              "      <td>1</td>\n",
              "      <td>2</td>\n",
              "      <td>0.170646</td>\n",
              "      <td>1</td>\n",
              "      <td>0</td>\n",
              "      <td>0.058694</td>\n",
              "      <td>True</td>\n",
              "      <td>False</td>\n",
              "      <td>True</td>\n",
              "      <td>False</td>\n",
              "      <td>False</td>\n",
              "    </tr>\n",
              "  </tbody>\n",
              "</table>\n",
              "</div>"
            ],
            "text/plain": [
              "   Survived  Pclass       Age  SibSp  Parch      Fare  Sex_female  Sex_male  \\\n",
              "0         0       3  0.271174      1      0  0.014151       False      True   \n",
              "1         1       1  0.472229      1      0  0.139136        True     False   \n",
              "2         1       3  0.321438      0      0  0.015469        True     False   \n",
              "3         1       1  0.434531      1      0  0.103644        True     False   \n",
              "4         0       3  0.434531      0      0  0.015713       False      True   \n",
              "5         0       3  0.310639      0      0  0.016510       False      True   \n",
              "6         0       1  0.673285      0      0  0.101229       False      True   \n",
              "7         0       3  0.019854      3      1  0.041136       False      True   \n",
              "8         1       3  0.334004      0      2  0.021731        True     False   \n",
              "9         1       2  0.170646      1      0  0.058694        True     False   \n",
              "\n",
              "   Embarked_C  Embarked_Q  Embarked_S  \n",
              "0       False       False        True  \n",
              "1        True       False       False  \n",
              "2       False       False        True  \n",
              "3       False       False        True  \n",
              "4       False       False        True  \n",
              "5       False        True       False  \n",
              "6       False       False        True  \n",
              "7       False       False        True  \n",
              "8       False       False        True  \n",
              "9        True       False       False  "
            ]
          },
          "execution_count": 118,
          "metadata": {},
          "output_type": "execute_result"
        }
      ],
      "source": [
        "# Crear un objeto de escala\n",
        "scaler = MinMaxScaler()\n",
        "\n",
        "# Ajustar y transformar las características numéricas\n",
        "train_data[['Age', 'Fare']] = scaler.fit_transform(train_data[['Age', 'Fare']])\n",
        "\n",
        "train_data.head(n=10)"
      ]
    },
    {
      "cell_type": "code",
      "execution_count": 119,
      "metadata": {},
      "outputs": [
        {
          "data": {
            "image/png": "[encoded data removed]",
            "text/plain": [
              "<Figure size 1000x600 with 2 Axes>"
            ]
          },
          "metadata": {},
          "output_type": "display_data"
        }
      ],
      "source": [
        "# Matriz de correlación\n",
        "correlation_matrix = train_data.corr(numeric_only=True)\n",
        "\n",
        "# Visualización de la matriz de correlación en un mapa de calor\n",
        "plt.figure(figsize=(10, 6))\n",
        "sns.heatmap(correlation_matrix, annot=True, cmap=\"coolwarm\", fmt=\".2f\")\n",
        "plt.title(\"Matriz de Correlación\")\n",
        "plt.show()"
      ]
    },
    {
      "cell_type": "code",
      "execution_count": 120,
      "metadata": {},
      "outputs": [
        {
          "name": "stdout",
          "output_type": "stream",
          "text": [
            "Correlación con Survived:\n",
            "Survived      1.000000\n",
            "Sex_female    0.541585\n",
            "Fare          0.255290\n",
            "Embarked_C    0.169966\n",
            "Parch         0.083151\n",
            "Embarked_Q    0.004536\n",
            "SibSp        -0.034040\n",
            "Age          -0.055278\n",
            "Embarked_S   -0.151777\n",
            "Pclass       -0.335549\n",
            "Sex_male     -0.541585\n",
            "Name: Survived, dtype: float64\n"
          ]
        }
      ],
      "source": [
        "# Ordenar la correlación con respecto a \"Survived\"\n",
        "correlation_with_target = correlation_matrix[\"Survived\"].sort_values(ascending=False)\n",
        "\n",
        "# Mostrar la correlación con \"Survived\"\n",
        "print(\"Correlación con Survived:\")\n",
        "print(correlation_with_target)"
      ]
    },
    {
      "cell_type": "markdown",
      "metadata": {},
      "source": [
        "Observaciones:  \n",
        "\n",
        "* El género parece haber influido en la posibilidad de sobrevivir de cada pasajero, posiblemente por el protocolo social de priorizar a mujeres y niños en este tipo de situaciones.  \n",
        "\n",
        "* Lo siguiente que más ha influido parece ser la clase del pasajero, y esto se ve reflejado en la correlación que tienen tanto \"Pclass\" como \"Fare\".  \n",
        "\n",
        "* A partir de este punto, el resto de correlaciones son más bajas exceptuando las de puerto de embarque, en las que se llega a una correlación de 0.17 con \"Survived\" en el caso de la gente que embarcó en  Cherbourg y un -0.15 la que embarcó en Southampton.  \n",
        "\n",
        "Como dijimos en otra pregunta anterior, estas conclusiones aunque sea a las que hemos llegado mediante los resultados de análisis obtenidos, no son fiables ya que se basan además en otras suposiciones y se excluyen variables externas que no conocemos. Sin embargo, sí que ayuda la matriz de correlación a identificar aquellos atributos que más importancia tienen sobre el target dentro del conjunto de atributos que disponemos.  "
      ]
    },
    {
      "cell_type": "code",
      "execution_count": 121,
      "metadata": {},
      "outputs": [
        {
          "data": {
            "text/html": [
              "<div>\n",
              "<style scoped>\n",
              "    .dataframe tbody tr th:only-of-type {\n",
              "        vertical-align: middle;\n",
              "    }\n",
              "\n",
              "    .dataframe tbody tr th {\n",
              "        vertical-align: top;\n",
              "    }\n",
              "\n",
              "    .dataframe thead th {\n",
              "        text-align: right;\n",
              "    }\n",
              "</style>\n",
              "<table border=\"1\" class=\"dataframe\">\n",
              "  <thead>\n",
              "    <tr style=\"text-align: right;\">\n",
              "      <th></th>\n",
              "      <th>Survived</th>\n",
              "      <th>Pclass</th>\n",
              "      <th>Age</th>\n",
              "      <th>SibSp</th>\n",
              "      <th>Parch</th>\n",
              "      <th>Fare</th>\n",
              "      <th>Sex_female</th>\n",
              "      <th>Sex_male</th>\n",
              "      <th>Embarked_C</th>\n",
              "      <th>Embarked_Q</th>\n",
              "      <th>Embarked_S</th>\n",
              "      <th>PCA1</th>\n",
              "      <th>PCA2</th>\n",
              "    </tr>\n",
              "  </thead>\n",
              "  <tbody>\n",
              "    <tr>\n",
              "      <th>0</th>\n",
              "      <td>0</td>\n",
              "      <td>3</td>\n",
              "      <td>0.271174</td>\n",
              "      <td>1</td>\n",
              "      <td>0</td>\n",
              "      <td>0.014151</td>\n",
              "      <td>False</td>\n",
              "      <td>True</td>\n",
              "      <td>False</td>\n",
              "      <td>False</td>\n",
              "      <td>True</td>\n",
              "      <td>-0.095591</td>\n",
              "      <td>-0.038803</td>\n",
              "    </tr>\n",
              "    <tr>\n",
              "      <th>1</th>\n",
              "      <td>1</td>\n",
              "      <td>1</td>\n",
              "      <td>0.472229</td>\n",
              "      <td>1</td>\n",
              "      <td>0</td>\n",
              "      <td>0.139136</td>\n",
              "      <td>True</td>\n",
              "      <td>False</td>\n",
              "      <td>True</td>\n",
              "      <td>False</td>\n",
              "      <td>False</td>\n",
              "      <td>0.117331</td>\n",
              "      <td>0.064680</td>\n",
              "    </tr>\n",
              "    <tr>\n",
              "      <th>2</th>\n",
              "      <td>1</td>\n",
              "      <td>3</td>\n",
              "      <td>0.321438</td>\n",
              "      <td>0</td>\n",
              "      <td>0</td>\n",
              "      <td>0.015469</td>\n",
              "      <td>True</td>\n",
              "      <td>False</td>\n",
              "      <td>False</td>\n",
              "      <td>False</td>\n",
              "      <td>True</td>\n",
              "      <td>-0.045461</td>\n",
              "      <td>-0.042700</td>\n",
              "    </tr>\n",
              "    <tr>\n",
              "      <th>3</th>\n",
              "      <td>1</td>\n",
              "      <td>1</td>\n",
              "      <td>0.434531</td>\n",
              "      <td>1</td>\n",
              "      <td>0</td>\n",
              "      <td>0.103644</td>\n",
              "      <td>True</td>\n",
              "      <td>False</td>\n",
              "      <td>False</td>\n",
              "      <td>False</td>\n",
              "      <td>True</td>\n",
              "      <td>0.076159</td>\n",
              "      <td>0.033285</td>\n",
              "    </tr>\n",
              "    <tr>\n",
              "      <th>4</th>\n",
              "      <td>0</td>\n",
              "      <td>3</td>\n",
              "      <td>0.434531</td>\n",
              "      <td>0</td>\n",
              "      <td>0</td>\n",
              "      <td>0.015713</td>\n",
              "      <td>False</td>\n",
              "      <td>True</td>\n",
              "      <td>False</td>\n",
              "      <td>False</td>\n",
              "      <td>True</td>\n",
              "      <td>0.067049</td>\n",
              "      <td>-0.054174</td>\n",
              "    </tr>\n",
              "    <tr>\n",
              "      <th>5</th>\n",
              "      <td>0</td>\n",
              "      <td>3</td>\n",
              "      <td>0.310639</td>\n",
              "      <td>0</td>\n",
              "      <td>0</td>\n",
              "      <td>0.016510</td>\n",
              "      <td>False</td>\n",
              "      <td>True</td>\n",
              "      <td>False</td>\n",
              "      <td>True</td>\n",
              "      <td>False</td>\n",
              "      <td>-0.056094</td>\n",
              "      <td>-0.040546</td>\n",
              "    </tr>\n",
              "    <tr>\n",
              "      <th>6</th>\n",
              "      <td>0</td>\n",
              "      <td>1</td>\n",
              "      <td>0.673285</td>\n",
              "      <td>0</td>\n",
              "      <td>0</td>\n",
              "      <td>0.101229</td>\n",
              "      <td>False</td>\n",
              "      <td>True</td>\n",
              "      <td>False</td>\n",
              "      <td>False</td>\n",
              "      <td>True</td>\n",
              "      <td>0.313378</td>\n",
              "      <td>0.006147</td>\n",
              "    </tr>\n",
              "    <tr>\n",
              "      <th>7</th>\n",
              "      <td>0</td>\n",
              "      <td>3</td>\n",
              "      <td>0.019854</td>\n",
              "      <td>3</td>\n",
              "      <td>1</td>\n",
              "      <td>0.041136</td>\n",
              "      <td>False</td>\n",
              "      <td>True</td>\n",
              "      <td>False</td>\n",
              "      <td>False</td>\n",
              "      <td>True</td>\n",
              "      <td>-0.342763</td>\n",
              "      <td>0.014073</td>\n",
              "    </tr>\n",
              "    <tr>\n",
              "      <th>8</th>\n",
              "      <td>1</td>\n",
              "      <td>3</td>\n",
              "      <td>0.334004</td>\n",
              "      <td>0</td>\n",
              "      <td>2</td>\n",
              "      <td>0.021731</td>\n",
              "      <td>True</td>\n",
              "      <td>False</td>\n",
              "      <td>False</td>\n",
              "      <td>False</td>\n",
              "      <td>True</td>\n",
              "      <td>-0.032314</td>\n",
              "      <td>-0.037773</td>\n",
              "    </tr>\n",
              "    <tr>\n",
              "      <th>9</th>\n",
              "      <td>1</td>\n",
              "      <td>2</td>\n",
              "      <td>0.170646</td>\n",
              "      <td>1</td>\n",
              "      <td>0</td>\n",
              "      <td>0.058694</td>\n",
              "      <td>True</td>\n",
              "      <td>False</td>\n",
              "      <td>True</td>\n",
              "      <td>False</td>\n",
              "      <td>False</td>\n",
              "      <td>-0.190963</td>\n",
              "      <td>0.015915</td>\n",
              "    </tr>\n",
              "  </tbody>\n",
              "</table>\n",
              "</div>"
            ],
            "text/plain": [
              "   Survived  Pclass       Age  SibSp  Parch      Fare  Sex_female  Sex_male  \\\n",
              "0         0       3  0.271174      1      0  0.014151       False      True   \n",
              "1         1       1  0.472229      1      0  0.139136        True     False   \n",
              "2         1       3  0.321438      0      0  0.015469        True     False   \n",
              "3         1       1  0.434531      1      0  0.103644        True     False   \n",
              "4         0       3  0.434531      0      0  0.015713       False      True   \n",
              "5         0       3  0.310639      0      0  0.016510       False      True   \n",
              "6         0       1  0.673285      0      0  0.101229       False      True   \n",
              "7         0       3  0.019854      3      1  0.041136       False      True   \n",
              "8         1       3  0.334004      0      2  0.021731        True     False   \n",
              "9         1       2  0.170646      1      0  0.058694        True     False   \n",
              "\n",
              "   Embarked_C  Embarked_Q  Embarked_S      PCA1      PCA2  \n",
              "0       False       False        True -0.095591 -0.038803  \n",
              "1        True       False       False  0.117331  0.064680  \n",
              "2       False       False        True -0.045461 -0.042700  \n",
              "3       False       False        True  0.076159  0.033285  \n",
              "4       False       False        True  0.067049 -0.054174  \n",
              "5       False        True       False -0.056094 -0.040546  \n",
              "6       False       False        True  0.313378  0.006147  \n",
              "7       False       False        True -0.342763  0.014073  \n",
              "8       False       False        True -0.032314 -0.037773  \n",
              "9        True       False       False -0.190963  0.015915  "
            ]
          },
          "execution_count": 121,
          "metadata": {},
          "output_type": "execute_result"
        }
      ],
      "source": [
        "# Este es un PCA momentáneo y no influye en la preparación del modelo que haremos\n",
        "# Aun así queríamos ver cómo se realizaba un PCA con sklearn y los resultados que se obtenían\n",
        "\n",
        "# Crear un objeto de PCA\n",
        "pca = PCA(n_components=2)  # Define el número de componentes principales deseados\n",
        "\n",
        "# Aplicar PCA a las características normalizadas\n",
        "principal_components = pca.fit_transform(train_data[['Age', 'Fare']])\n",
        "\n",
        "# Agregar los componentes principales de vuelta al DataFrame si es necesario\n",
        "train_data['PCA1'] = principal_components[:, 0]\n",
        "train_data['PCA2'] = principal_components[:, 1]\n",
        "\n",
        "train_data.head(n=10)"
      ]
    },
    {
      "cell_type": "code",
      "execution_count": 122,
      "metadata": {},
      "outputs": [],
      "source": [
        "# Eliminamos los PCA porque no los utilizaremos\n",
        "train_data.drop(['PCA1', 'PCA2'], axis=1, inplace=True)"
      ]
    },
    {
      "cell_type": "markdown",
      "metadata": {
        "id": "axc-wn2rCl7T"
      },
      "source": [
        "### 3. Metric selection (1.5 punts)"
      ]
    },
    {
      "cell_type": "markdown",
      "metadata": {},
      "source": [
        "**Preguntas:**"
      ]
    },
    {
      "cell_type": "markdown",
      "metadata": {},
      "source": [
        "* ¿Podríais explicar y justificar cuál de las siguientes métricas será la más adecuada para vuestro problema? `accuracy_score`, `f1_score` o `average_precision_score`?"
      ]
    },
    {
      "cell_type": "markdown",
      "metadata": {},
      "source": [
        "1. Accuracy (exactitud): La exactitud mide el porcentaje de predicciones correctas en general, pero en un conjunto de datos desequilibrado como este, puede ser engañosa por la diferencia entre las clases de sobrevivientes y no sobrevivientes.\n",
        "\n",
        "2. F1-Score: El F1-Score combina precisión y sensibilidad, lo que lo hace relevante cuando queremos un equilibrio entre ambas métricas.\n",
        "\n",
        "3. Average Precision Score (Puntuación de precisión promedio): Si nos interesa evaluar la precisión de nuestras predicciones en diferentes umbrales de decisión, la puntuación de precisión promedio puede ser útil.\n",
        "\n",
        "La elección depende de nuestros objetivos, pero en este caso consideramos que es mejor buscar un equilibrio entre precisión y sensibilidad, por lo que el F1-Score es el más adecuado."
      ]
    },
    {
      "cell_type": "markdown",
      "metadata": {},
      "source": [
        "* Mostrad la `precision_recall_curve` y la `roc_curve`. ¿Cuál es más relevante para vuestro dataset? Explicad con vuestras palabras, la diferencia entre una y otra."
      ]
    },
    {
      "cell_type": "code",
      "execution_count": 123,
      "metadata": {},
      "outputs": [
        {
          "data": {
            "image/png": "[encoded data removed]",
            "text/plain": [
              "<Figure size 1200x400 with 2 Axes>"
            ]
          },
          "metadata": {},
          "output_type": "display_data"
        }
      ],
      "source": [
        "# Dividir los datos en características (X) y etiquetas (y)\n",
        "# Como no es únicamente para mostrar esas dos curvas, no haremos la separación entre train y test,\n",
        "# esta se hará en el apartado 4 cuando empecemos a entrenar modelos que aplicar\n",
        "X = train_data.drop('Survived', axis=1)\n",
        "y = train_data['Survived']\n",
        "\n",
        "# Crear y entrenar el modelo de regresión logística\n",
        "model = LogisticRegression()\n",
        "model.fit(X, y)\n",
        "\n",
        "# Generar una predicción sin habilidad (clase mayoritaria)\n",
        "ns_probs = [0 for _ in range(len(y))]\n",
        "\n",
        "# Calcular la probabilidad de predicción\n",
        "y_pred_prob = model.predict_proba(X)[:, 1]\n",
        "\n",
        "# Calcula la curva Precision-Recall (PRC)\n",
        "precision, recall, thresholds = precision_recall_curve(y, y_pred_prob)\n",
        "\n",
        "# Calcula el área bajo la curva Precision-Recall (AUC-PRC)\n",
        "auc_prc = auc(recall, precision)\n",
        "\n",
        "# Calcula la curva ROC y el área bajo la curva ROC (AUC-ROC)\n",
        "fpr, tpr, thresholds = roc_curve(y, y_pred_prob)\n",
        "auc_roc = auc(fpr, tpr)\n",
        "\n",
        "# Visualiza la curva PRC\n",
        "plt.figure(figsize=(12, 4))\n",
        "plt.subplot(1, 2, 1)\n",
        "plt.plot(recall, precision, color='darkorange', lw=2, label=f'AUC = {auc_prc:.2f}')\n",
        "no_skill = len(y[y==1]) / len(y)\n",
        "plt.plot([0, 1], [no_skill, no_skill], linestyle='--', label='Sense capacitat predictiva')\n",
        "plt.xlabel('Recall')\n",
        "plt.ylabel('Precision')\n",
        "plt.ylim([0.0, 1.05])\n",
        "plt.xlim([0.0, 1.0])\n",
        "plt.title('Curva Precision-Recall')\n",
        "plt.legend(loc='lower left')\n",
        "\n",
        "# Visualiza la curva ROC\n",
        "plt.subplot(1, 2, 2)\n",
        "plt.plot(fpr, tpr, color='darkorange', lw=2, label=f'AUC = {auc_roc:.2f}')\n",
        "ns_fpr, ns_tpr, _ = roc_curve(y, ns_probs)\n",
        "plt.plot(ns_fpr, ns_tpr, linestyle='--', label='Sense capacitat predictiva')\n",
        "plt.xlabel('1-Specificity (False Positive Rate)')\n",
        "plt.ylabel('Recall (True Positive Rate)')\n",
        "plt.ylim([0.0, 1.05])\n",
        "plt.xlim([0.0, 1.0])\n",
        "plt.title('Curva ROC')\n",
        "plt.legend(loc='lower right')\n",
        "\n",
        "plt.show()"
      ]
    },
    {
      "cell_type": "markdown",
      "metadata": {},
      "source": [
        "1. Precision-Recall Curve: La PRC muestra cómo cambia el rendimiento del modelo a medida que variamos el umbral de decisión, centrándose en las predicciones positivas.  \n",
        "Es fundamental en problemas de desequilibrio de clases para comprender cómo el modelo predice correctamente las muestras positivas.\n",
        "\n",
        "2. ROC Curve: La ROC muestra la relación entre la tasa de verdaderos positivos (Recall) y la tasa de falsos positivos (1-Specificity) a medida que variamos el umbral de decisión.  \n",
        "Es útil para evaluar la capacidad de discriminación del modelo y su capacidad para distinguir entre clases positivas y negativa\n",
        "\n",
        "En nuestro caso, la PRC es más relevante, ya que tenemos un dataset desbalanceado. Además, muestra a la perfección la relación entre Precision y Recall, que son las dos métricas que engloba el F1-Score que hemos seleccionado.\n",
        "\n",
        "La principal diferencia entre estas dos curvas es que la PRC se centra en las predicciones positivas, mientras que la ROC se centra en la tasa de falsos positivos. "
      ]
    },
    {
      "cell_type": "markdown",
      "metadata": {},
      "source": [
        "* ¿Qué muestra `classification_report`? ¿Qué métrica os fijaríais para optimizar su clasificación para vuestro caso?"
      ]
    },
    {
      "cell_type": "markdown",
      "metadata": {},
      "source": [
        "El `classification_report` proporciona un informe detallado de las métricas de clasificación, incluyendo precisión, sensibilidad, F1-Score y soporte (número de ejemplos) para cada clase.  \n",
        "Es una herramienta valiosa para evaluar el rendimiento del modelo en cada clase.  \n",
        "\n",
        "En nuestro caso, como hemos escogido el F1-Score como métrica, nos fijaremos en esa pero también en la precisión y la sensibilidad, que están relacionadas con nuestra métrica.  "
      ]
    },
    {
      "cell_type": "code",
      "execution_count": 124,
      "metadata": {},
      "outputs": [
        {
          "name": "stdout",
          "output_type": "stream",
          "text": [
            "              precision    recall  f1-score   support\n",
            "\n",
            "           0       0.82      0.86      0.84       549\n",
            "           1       0.76      0.70      0.73       340\n",
            "\n",
            "    accuracy                           0.80       889\n",
            "   macro avg       0.79      0.78      0.78       889\n",
            "weighted avg       0.80      0.80      0.80       889\n",
            "\n"
          ]
        }
      ],
      "source": [
        "# Realizar predicciones en los mismos datos (esto es solo para propósitos demostrativos)\n",
        "y_pred = model.predict(X)\n",
        "\n",
        "# Genera el classification_report\n",
        "report = classification_report(y, y_pred)\n",
        "\n",
        "# Imprime el informe\n",
        "print(report)"
      ]
    },
    {
      "cell_type": "markdown",
      "metadata": {},
      "source": [
        "**Información General:**"
      ]
    },
    {
      "cell_type": "markdown",
      "metadata": {},
      "source": [
        "Selección de la mejor métrica para el problema"
      ]
    },
    {
      "cell_type": "markdown",
      "metadata": {},
      "source": [
        "En nuestro caso, analizamos las distintas métricas disponibles para ver en cuál nos fijamos:  \n",
        "\n",
        "* Exactitud (Accuracy): Esta métrica mide la proporción de predicciones correctas en general.  \n",
        "Es útil como métrica general de rendimiento, pero no es la más fiable si se quiere priorizar identificar una clase u otra y sobre todo si los datos están desbalanceados.\n",
        "\n",
        "* Precisión (Precision): La precisión se centra en la proporción de predicciones positivas correctas entre todas las predicciones positivas.  \n",
        "Es útil si queremos minimizar los falsos positivos.\n",
        "\n",
        "* Sensibilidad (Recall): La sensibilidad se enfoca en la proporción de verdaderos positivos entre todos los ejemplos positivos en nuestros datos.  \n",
        "Es útil si deseamos minimizar los falsos negativos.\n",
        "\n",
        "* Especificidad (Specificity): Se refiere a la proporción de verdaderos negativos entre todos los ejemplos negativos.  \n",
        "Es útil para minimizar los falsos positivos.\n",
        "\n",
        "* F1-Score: Esta métrica combina precisión y sensibilidad.  \n",
        "Es útil cuando necesitamos encontrar un equilibrio entre ambas.\n",
        "\n",
        "En nuestro caso, vemos importante tanto una buena precisión como un buen recall, por lo que optamos por el F1-Score."
      ]
    },
    {
      "cell_type": "code",
      "execution_count": 125,
      "metadata": {},
      "outputs": [
        {
          "data": {
            "image/png": "[encoded data removed]",
            "text/plain": [
              "<Figure size 640x480 with 2 Axes>"
            ]
          },
          "metadata": {},
          "output_type": "display_data"
        },
        {
          "name": "stdout",
          "output_type": "stream",
          "text": [
            "        Metric     Score\n",
            "0     Accuracy  0.799775\n",
            "1    Precision  0.757962\n",
            "2       Recall  0.700000\n",
            "3  Specificity  0.822609\n",
            "4     F1-Score  0.727829\n"
          ]
        }
      ],
      "source": [
        "# Dividir los datos en características (X) y etiquetas (y)\n",
        "X = train_data.drop('Survived', axis=1)\n",
        "y = train_data['Survived']\n",
        "\n",
        "# Realizar predicciones en los mismos datos (esto es solo para propósitos demostrativos)\n",
        "y_pred = model.predict(X)\n",
        "\n",
        "# Generar una matriz de confusión\n",
        "conf_matrix = confusion_matrix(y, y_pred)\n",
        "conf_matrix = conf_matrix.astype('float') / conf_matrix.sum(axis=1)[:, np.newaxis]\n",
        "disp = ConfusionMatrixDisplay(confusion_matrix=conf_matrix, display_labels=model.classes_)\n",
        "\n",
        "# Visualizar la matriz de confusión normalizada\n",
        "disp.plot(cmap=plt.cm.Blues, values_format=\".2f\")\n",
        "plt.title('Matriz de Confusión')\n",
        "plt.show()\n",
        "\n",
        "# Calcular las métricas\n",
        "accuracy = accuracy_score(y, y_pred)\n",
        "precision = precision_score(y, y_pred)\n",
        "recall = recall_score(y, y_pred)\n",
        "specificity = precision_score(y, y_pred, pos_label=0)\n",
        "f1 = f1_score(y, y_pred)\n",
        "\n",
        "# Crear un DataFrame para almacenar las métricas\n",
        "metrics_df = pd.DataFrame({\n",
        "    'Metric': ['Accuracy', 'Precision', 'Recall', 'Specificity', 'F1-Score'],\n",
        "    'Score': [accuracy, precision, recall, specificity, f1]\n",
        "})\n",
        "\n",
        "# Mostrar la tabla de métricas\n",
        "print(metrics_df)"
      ]
    },
    {
      "cell_type": "markdown",
      "metadata": {},
      "source": [
        "Visualización de la curva ROC/AUC:"
      ]
    },
    {
      "cell_type": "code",
      "execution_count": 126,
      "metadata": {},
      "outputs": [
        {
          "data": {
            "image/png": "[encoded data removed]",
            "text/plain": [
              "<Figure size 640x480 with 1 Axes>"
            ]
          },
          "metadata": {},
          "output_type": "display_data"
        }
      ],
      "source": [
        "# Dividir los datos en características (X) y etiquetas (y)\n",
        "X = train_data.drop('Survived', axis=1)\n",
        "y = train_data['Survived']\n",
        "\n",
        "# Crear y entrenar el modelo de regresión logística\n",
        "model = LogisticRegression()\n",
        "model.fit(X, y)\n",
        "\n",
        "# Generar una predicción sin habilidad (clase mayoritaria)\n",
        "ns_probs = [0 for _ in range(len(y))]\n",
        "\n",
        "# Calcular la probabilidad de predicción para la curva ROC\n",
        "y_pred_prob = model.predict_proba(X)[:, 1]\n",
        "\n",
        "# Calcula la curva ROC y el área bajo la curva ROC (AUC-ROC)\n",
        "fpr, tpr, thresholds = roc_curve(y, y_pred_prob)\n",
        "auc_roc = auc(fpr, tpr)\n",
        "\n",
        "# Visualizar la curva ROC\n",
        "plt.figure()\n",
        "plt.plot(fpr, tpr, color='darkorange', lw=2, label=f'AUC = {auc_roc:.2f}')\n",
        "ns_fpr, ns_tpr, _ = roc_curve(y, ns_probs)\n",
        "plt.plot(ns_fpr, ns_tpr, linestyle='--', label='Sense capacitat predictiva')\n",
        "plt.xlim([0.0, 1.0])\n",
        "plt.ylim([0.0, 1.05])\n",
        "plt.xlabel('1-Specificity (False Positive Rate)')\n",
        "plt.ylabel('Recall (True Positive Rate)')\n",
        "plt.title('ROC curve')\n",
        "plt.legend(loc='lower right')\n",
        "plt.show()"
      ]
    },
    {
      "cell_type": "markdown",
      "metadata": {},
      "source": [
        "Visualización de la curva PRC/AUC:"
      ]
    },
    {
      "cell_type": "code",
      "execution_count": 127,
      "metadata": {},
      "outputs": [
        {
          "data": {
            "image/png": "[encoded data removed]",
            "text/plain": [
              "<Figure size 1200x400 with 1 Axes>"
            ]
          },
          "metadata": {},
          "output_type": "display_data"
        }
      ],
      "source": [
        "# Dividir los datos en características (X) y etiquetas (y)\n",
        "X = train_data.drop('Survived', axis=1)\n",
        "y = train_data['Survived']\n",
        "\n",
        "# Crear y entrenar el modelo de regresión logística\n",
        "model = LogisticRegression()\n",
        "model.fit(X, y)\n",
        "\n",
        "# Generar una predicción sin habilidad (clase mayoritaria)\n",
        "ns_probs = [0 for _ in range(len(y))]\n",
        "\n",
        "# Calcular la probabilidad de predicción\n",
        "y_pred_prob = model.predict_proba(X)[:, 1]\n",
        "\n",
        "# Calcula la curva Precision-Recall (PRC)\n",
        "precision, recall, thresholds = precision_recall_curve(y, y_pred_prob)\n",
        "\n",
        "# Calcula el área bajo la curva Precision-Recall (AUC-PRC)\n",
        "auc_prc = auc(recall, precision)\n",
        "\n",
        "# Visualiza la curva PRC\n",
        "plt.figure(figsize=(12, 4))\n",
        "plt.subplot(1, 2, 1)\n",
        "plt.plot(recall, precision, color='darkorange', lw=2, label=f'AUC = {auc_prc:.2f}')\n",
        "no_skill = len(y[y==1]) / len(y)\n",
        "plt.plot([0, 1], [no_skill, no_skill], linestyle='--', label='Sense capacitat predictiva')\n",
        "plt.xlabel('Recall')\n",
        "plt.ylabel('Precision')\n",
        "plt.ylim([0.0, 1.05])\n",
        "plt.xlim([0.0, 1.0])\n",
        "plt.title('Curva Precision-Recall')\n",
        "plt.legend(loc='lower left')\n",
        "\n",
        "plt.show()"
      ]
    },
    {
      "cell_type": "markdown",
      "metadata": {
        "id": "t8xe5r78Cl7T"
      },
      "source": [
        "### 4. Model Selection amb validacio creuada (4 punts)"
      ]
    },
    {
      "cell_type": "markdown",
      "metadata": {},
      "source": [
        "* Selección de Modelos:"
      ]
    },
    {
      "cell_type": "markdown",
      "metadata": {},
      "source": [
        "En este caso, hemos considerado los siguientes modelos:\n",
        "\n",
        "1. Regresión Logística: La regresión logística es buena opción para problemas de clasificación binaria. La hemos seleccionado porque es un modelo simple y fácil de interpretar, lo que lo hace útil como punto de referencia.  \n",
        "\n",
        "2. Random Forest: El Random Forest es un conjunto de árboles de decisión, que son excelentes para problemas de clasificación y regresión. Lo hemos considerado como ejemplo de ensemble.  \n",
        "\n",
        "3. K-Nearest Neighbors (KNN): KNN es un modelo de aprendizaje supervisado basado en instancias que calcula la similitud entre puntos de datos para hacer predicciones. Lo hemos incluido porque puede ser efectivo en problemas de clasificación con estructuras de datos complejas.  \n",
        "\n",
        "4. Máquinas de Soporte Vectorial (SVM): SVM es una técnica poderosa para la clasificación y regresión. La hemos elegido debido a su capacidad para manejar problemas de clasificación lineales y no lineales mediante el uso de diferentes kernels.  "
      ]
    },
    {
      "cell_type": "markdown",
      "metadata": {},
      "source": [
        "* Validación Cruzada (Cross-Validation):"
      ]
    },
    {
      "cell_type": "markdown",
      "metadata": {},
      "source": [
        "La validación cruzada es importante para evaluar el modelo en función de la métrica seleccionada y obtener un resultado cercano al real gracias a usar diversas validaciones y calcular la media de todos los rendimientos.\n",
        "\n",
        "Hay diversos métodos de validación cruzada, pero para nuestro caso descartaremos Leave One Out por su alta complejidad computacional y nos quedaremos con un Stratified K-Fold de 10 folds para tener una amplia muestra de rendimiento con conjuntos de datos bien representativos de los atributos."
      ]
    },
    {
      "cell_type": "code",
      "execution_count": 128,
      "metadata": {},
      "outputs": [
        {
          "data": {
            "text/html": [
              "<div>\n",
              "<style scoped>\n",
              "    .dataframe tbody tr th:only-of-type {\n",
              "        vertical-align: middle;\n",
              "    }\n",
              "\n",
              "    .dataframe tbody tr th {\n",
              "        vertical-align: top;\n",
              "    }\n",
              "\n",
              "    .dataframe thead th {\n",
              "        text-align: right;\n",
              "    }\n",
              "</style>\n",
              "<table border=\"1\" class=\"dataframe\">\n",
              "  <thead>\n",
              "    <tr style=\"text-align: right;\">\n",
              "      <th></th>\n",
              "      <th>Modelo</th>\n",
              "      <th>F1-Score</th>\n",
              "    </tr>\n",
              "  </thead>\n",
              "  <tbody>\n",
              "    <tr>\n",
              "      <th>0</th>\n",
              "      <td>Logistic Regression</td>\n",
              "      <td>0.727364</td>\n",
              "    </tr>\n",
              "    <tr>\n",
              "      <th>1</th>\n",
              "      <td>Bosque Aleatorio</td>\n",
              "      <td>0.746643</td>\n",
              "    </tr>\n",
              "    <tr>\n",
              "      <th>2</th>\n",
              "      <td>K-Nearest Neighbors</td>\n",
              "      <td>0.712042</td>\n",
              "    </tr>\n",
              "    <tr>\n",
              "      <th>3</th>\n",
              "      <td>Support Vector Machine</td>\n",
              "      <td>0.721995</td>\n",
              "    </tr>\n",
              "  </tbody>\n",
              "</table>\n",
              "</div>"
            ],
            "text/plain": [
              "                   Modelo  F1-Score\n",
              "0     Logistic Regression  0.727364\n",
              "1        Bosque Aleatorio  0.746643\n",
              "2     K-Nearest Neighbors  0.712042\n",
              "3  Support Vector Machine  0.721995"
            ]
          },
          "execution_count": 128,
          "metadata": {},
          "output_type": "execute_result"
        }
      ],
      "source": [
        "# Crear una lista de modelos\n",
        "models = [\n",
        "    ('Logistic Regression', LogisticRegression()),\n",
        "    (\"Bosque Aleatorio\", RandomForestClassifier()),\n",
        "    ('K-Nearest Neighbors', KNeighborsClassifier()),\n",
        "    ('Support Vector Machine', SVC())\n",
        "]\n",
        "\n",
        "results = []\n",
        "kfold = StratifiedKFold(n_splits=10, shuffle=True, random_state=1)\n",
        "\n",
        "# Realizar la validación cruzada para cada modelo\n",
        "for name, model in models:\n",
        "\n",
        "    scores = cross_val_score(model, X, y, cv=kfold, scoring='f1')\n",
        "\n",
        "    mean_score = scores.mean()\n",
        "    \n",
        "    results.append([name, mean_score])\n",
        "\n",
        "# Crear un DataFrame para mostrar los resultados en una tabla\n",
        "results_df = pd.DataFrame(results, columns=['Modelo', 'F1-Score'])\n",
        "\n",
        "results_df"
      ]
    },
    {
      "cell_type": "markdown",
      "metadata": {},
      "source": [
        "* Búsqueda de Hiperparámetros y Resultados en una Tabla:"
      ]
    },
    {
      "cell_type": "markdown",
      "metadata": {},
      "source": [
        "Para encontrar los mejores hiperparámetros hay diversas técnicas como por ejemplo:  \n",
        "\n",
        "1. Búsqueda en Cuadrícula (Grid Search): Esta técnica explora todas las combinaciones de hiperparámetros introducidos usando una validación cruzada y devuelve el conjunto de hiperparámetros que mejor ha funcionado. Su coste computacional es alto pero devuelve el mejor resultado de entre los hiperparámetros proporcionados.  \n",
        "\n",
        "2. Búsqueda Aleatoria (Randomized Search): Esta técnica hace pruebas escogiendo hiperparámetros aleatorios que se han proporcionado y se queda con los hiperparámetros que mejor funcionan aunque no sea en esa combinación concreta resultante. El resultado de este método no es necesariamente la mejor combinación de hiperparámetros introducidos, pero su coste computacional es menor que el Grid Search y permite mapear mejor el espacio de hiperparámetros.  \n",
        "\n",
        "Por otra parte, también existen optimizaciones a la hora de buscar hiperparámetros, como es el caso de la Optimización Bayesiana, que consiste en lo mismo que el Grid Search pero utiliza técnicas de optimización basadas en modelos probabilísticos para encontrar los mejores hiperparámetros. Sin embargo, su mayor inconveniente es que resulta difícil de configurar a menos que se tenga experiencia, con lo que hemos decidido no usarla.  \n",
        "\n",
        "En nuestro caso, como disponemos de tiempo y recursos computacionales suficientes para las búsquedas que pensamos hacer, aplicaremos ambas técnicas para encontrar los mejores hiperparámetros de cada modelo.  "
      ]
    },
    {
      "cell_type": "code",
      "execution_count": 129,
      "metadata": {},
      "outputs": [
        {
          "data": {
            "text/html": [
              "<div>\n",
              "<style scoped>\n",
              "    .dataframe tbody tr th:only-of-type {\n",
              "        vertical-align: middle;\n",
              "    }\n",
              "\n",
              "    .dataframe tbody tr th {\n",
              "        vertical-align: top;\n",
              "    }\n",
              "\n",
              "    .dataframe thead th {\n",
              "        text-align: right;\n",
              "    }\n",
              "</style>\n",
              "<table border=\"1\" class=\"dataframe\">\n",
              "  <thead>\n",
              "    <tr style=\"text-align: right;\">\n",
              "      <th></th>\n",
              "      <th>Modelo</th>\n",
              "      <th>F1-Score (Train)</th>\n",
              "      <th>F1-Score (Test)</th>\n",
              "      <th>Hiperparámetros del Mejor Modelo</th>\n",
              "    </tr>\n",
              "  </thead>\n",
              "  <tbody>\n",
              "    <tr>\n",
              "      <th>0</th>\n",
              "      <td>Regresión Logística</td>\n",
              "      <td>0.724487</td>\n",
              "      <td>0.740157</td>\n",
              "      <td>{'C': 1, 'class_weight': None, 'dual': False, 'fit_intercept': True, 'intercept_scaling': 1, 'l1_ratio': None, 'max_iter': 100, 'multi_class': 'auto', 'n_jobs': None, 'penalty': 'l2', 'random_state': None, 'solver': 'saga', 'tol': 0.0001, 'verbose': 0, 'warm_start': False}</td>\n",
              "    </tr>\n",
              "    <tr>\n",
              "      <th>1</th>\n",
              "      <td>Bosque Aleatorio</td>\n",
              "      <td>0.776038</td>\n",
              "      <td>0.732824</td>\n",
              "      <td>{'bootstrap': True, 'ccp_alpha': 0.0, 'class_weight': 'balanced', 'criterion': 'gini', 'max_depth': 8, 'max_features': 'sqrt', 'max_leaf_nodes': None, 'max_samples': None, 'min_impurity_decrease': 0.0, 'min_samples_leaf': 1, 'min_samples_split': 2, 'min_weight_fraction_leaf': 0.0, 'n_estimators': 150, 'n_jobs': None, 'oob_score': False, 'random_state': None, 'verbose': 0, 'warm_start': False}</td>\n",
              "    </tr>\n",
              "    <tr>\n",
              "      <th>2</th>\n",
              "      <td>KNN</td>\n",
              "      <td>0.723384</td>\n",
              "      <td>0.692308</td>\n",
              "      <td>{'algorithm': 'auto', 'leaf_size': 30, 'metric': 'minkowski', 'metric_params': None, 'n_jobs': None, 'n_neighbors': 3, 'p': 2, 'weights': 'uniform'}</td>\n",
              "    </tr>\n",
              "    <tr>\n",
              "      <th>3</th>\n",
              "      <td>SVM</td>\n",
              "      <td>0.775756</td>\n",
              "      <td>0.705036</td>\n",
              "      <td>{'C': 10, 'break_ties': False, 'cache_size': 200, 'class_weight': 'balanced', 'coef0': 0.0, 'decision_function_shape': 'ovr', 'degree': 3, 'gamma': 'scale', 'kernel': 'rbf', 'max_iter': -1, 'probability': False, 'random_state': None, 'shrinking': True, 'tol': 1, 'verbose': False}</td>\n",
              "    </tr>\n",
              "  </tbody>\n",
              "</table>\n",
              "</div>"
            ],
            "text/plain": [
              "                Modelo  F1-Score (Train)  F1-Score (Test)  \\\n",
              "0  Regresión Logística          0.724487         0.740157   \n",
              "1     Bosque Aleatorio          0.776038         0.732824   \n",
              "2                  KNN          0.723384         0.692308   \n",
              "3                  SVM          0.775756         0.705036   \n",
              "\n",
              "                                                                                                                                                                                                                                                                                                                                                                              Hiperparámetros del Mejor Modelo  \n",
              "0                                                                                                                            {'C': 1, 'class_weight': None, 'dual': False, 'fit_intercept': True, 'intercept_scaling': 1, 'l1_ratio': None, 'max_iter': 100, 'multi_class': 'auto', 'n_jobs': None, 'penalty': 'l2', 'random_state': None, 'solver': 'saga', 'tol': 0.0001, 'verbose': 0, 'warm_start': False}  \n",
              "1  {'bootstrap': True, 'ccp_alpha': 0.0, 'class_weight': 'balanced', 'criterion': 'gini', 'max_depth': 8, 'max_features': 'sqrt', 'max_leaf_nodes': None, 'max_samples': None, 'min_impurity_decrease': 0.0, 'min_samples_leaf': 1, 'min_samples_split': 2, 'min_weight_fraction_leaf': 0.0, 'n_estimators': 150, 'n_jobs': None, 'oob_score': False, 'random_state': None, 'verbose': 0, 'warm_start': False}  \n",
              "2                                                                                                                                                                                                                                                         {'algorithm': 'auto', 'leaf_size': 30, 'metric': 'minkowski', 'metric_params': None, 'n_jobs': None, 'n_neighbors': 3, 'p': 2, 'weights': 'uniform'}  \n",
              "3                                                                                                                     {'C': 10, 'break_ties': False, 'cache_size': 200, 'class_weight': 'balanced', 'coef0': 0.0, 'decision_function_shape': 'ovr', 'degree': 3, 'gamma': 'scale', 'kernel': 'rbf', 'max_iter': -1, 'probability': False, 'random_state': None, 'shrinking': True, 'tol': 1, 'verbose': False}  "
            ]
          },
          "execution_count": 129,
          "metadata": {},
          "output_type": "execute_result"
        }
      ],
      "source": [
        "# X son las características y y es la variable objetivo\n",
        "X_train, X_test, y_train, y_test = train_test_split(X, y, test_size=0.2, stratify=y, random_state=42)\n",
        "\n",
        "# Crear una lista de modelos a considerar\n",
        "models = [\n",
        "    (\"Regresión Logística\", LogisticRegression()),\n",
        "    (\"Bosque Aleatorio\", RandomForestClassifier()),\n",
        "    (\"KNN\", KNeighborsClassifier()),\n",
        "    (\"SVM\", SVC()),\n",
        "]\n",
        "\n",
        "results = []\n",
        "\n",
        "# Para desactivar un tipo específico de warning\n",
        "warnings.filterwarnings(\"ignore\")\n",
        "\n",
        "# Realizar la selección de modelos y búsqueda de hiperparámetros\n",
        "for model_name, model in models:\n",
        "\n",
        "    # Realizar la búsqueda de hiperparámetros\n",
        "    if model_name == \"Regresión Logística\":\n",
        "        # Definir hiperparámetros a probar para Regresión Logística\n",
        "        param_grid = {'penalty': ['l1', 'l2', 'none'], 'C': [0, 1, 2, 3, 4], 'solver': ['lbfgs', 'liblinear', 'sag', 'saga']}\n",
        "        grid_search = GridSearchCV(model, param_grid, cv=kfold, scoring='f1')\n",
        "        grid_search.fit(X_train, y_train)\n",
        "        best_model = grid_search.best_estimator_\n",
        "    elif model_name == \"Bosque Aleatorio\":\n",
        "        # Definir hiperparámetros a probar para Bosque Aleatorio\n",
        "        param_grid = {'n_estimators': [100, 150, 200],'max_depth': [8, 9, 10], 'class_weight': [None, 'balanced'], 'max_features': ['auto', 'sqrt', 'log2']}\n",
        "        grid_search = GridSearchCV(model, param_grid, cv=kfold, scoring='f1')\n",
        "        grid_search.fit(X_train, y_train)\n",
        "        best_model = grid_search.best_estimator_\n",
        "    elif model_name == \"KNN\":\n",
        "        # Definir hiperparámetros a probar para KNN\n",
        "        param_grid = {'n_neighbors': [1, 2, 3, 4], 'weights': ['uniform', 'distance'], 'p': [0, 1, 2, 3, 4]}\n",
        "        grid_search = GridSearchCV(model, param_grid, cv=kfold, scoring='f1')\n",
        "        grid_search.fit(X_train, y_train)\n",
        "        best_model = grid_search.best_estimator_\n",
        "    elif model_name == \"SVM\":\n",
        "        # Definir hiperparámetros a probar para SVM\n",
        "        param_grid = {'C': [1, 4, 5, 6, 10], 'tol': [1.1, 1.01, 1, 0.1, 0.01], 'class_weight': [None, 'balanced']}\n",
        "        grid_search = GridSearchCV(model, param_grid, cv=kfold, scoring='f1')\n",
        "        grid_search.fit(X_train, y_train)\n",
        "        best_model = grid_search.best_estimator_\n",
        "\n",
        "    # Evaluar el mejor modelo en el conjunto de prueba con el test\n",
        "    y_pred_test = best_model.predict(X_test)\n",
        "    f1_test = f1_score(y_test, y_pred_test)\n",
        "\n",
        "    results.append([model_name, grid_search.best_score_, f1_test, best_model.get_params(False)])\n",
        "    #results.append([model_name, grid_search.best_score_, best_model])\n",
        "\n",
        "# Para restaurar la configuración predeterminada de warnings\n",
        "warnings.filterwarnings(\"default\")\n",
        "\n",
        "# Configura la opción de ancho de columna para que no se corte el texto\n",
        "pd.set_option('display.max_colwidth', None)\n",
        "\n",
        "# Crear un DataFrame para mostrar los resultados en una tabla\n",
        "results_df = pd.DataFrame(results, columns=['Modelo', 'F1-Score (Train)', 'F1-Score (Test)', 'Hiperparámetros del Mejor Modelo'])\n",
        "#results_df = pd.DataFrame(results, columns=['Modelo', 'F1-Score (Train)', 'Hiperparámetros del Mejor Modelo'])\n",
        "\n",
        "results_df"
      ]
    },
    {
      "cell_type": "code",
      "execution_count": 130,
      "metadata": {},
      "outputs": [
        {
          "data": {
            "text/html": [
              "<div>\n",
              "<style scoped>\n",
              "    .dataframe tbody tr th:only-of-type {\n",
              "        vertical-align: middle;\n",
              "    }\n",
              "\n",
              "    .dataframe tbody tr th {\n",
              "        vertical-align: top;\n",
              "    }\n",
              "\n",
              "    .dataframe thead th {\n",
              "        text-align: right;\n",
              "    }\n",
              "</style>\n",
              "<table border=\"1\" class=\"dataframe\">\n",
              "  <thead>\n",
              "    <tr style=\"text-align: right;\">\n",
              "      <th></th>\n",
              "      <th>Modelo</th>\n",
              "      <th>F1-Score (Train)</th>\n",
              "      <th>F1-Score (Test)</th>\n",
              "      <th>Hiperparámetros del Mejor Modelo</th>\n",
              "    </tr>\n",
              "  </thead>\n",
              "  <tbody>\n",
              "    <tr>\n",
              "      <th>0</th>\n",
              "      <td>Regresión Logística</td>\n",
              "      <td>0.723171</td>\n",
              "      <td>0.740157</td>\n",
              "      <td>{'C': 1, 'class_weight': None, 'dual': False, 'fit_intercept': True, 'intercept_scaling': 1, 'l1_ratio': None, 'max_iter': 100, 'multi_class': 'auto', 'n_jobs': None, 'penalty': 'l2', 'random_state': None, 'solver': 'lbfgs', 'tol': 0.0001, 'verbose': 0, 'warm_start': False}</td>\n",
              "    </tr>\n",
              "    <tr>\n",
              "      <th>1</th>\n",
              "      <td>Bosque Aleatorio</td>\n",
              "      <td>0.768823</td>\n",
              "      <td>0.753846</td>\n",
              "      <td>{'bootstrap': True, 'ccp_alpha': 0.0, 'class_weight': 'balanced', 'criterion': 'gini', 'max_depth': 9, 'max_features': 'log2', 'max_leaf_nodes': None, 'max_samples': None, 'min_impurity_decrease': 0.0, 'min_samples_leaf': 1, 'min_samples_split': 2, 'min_weight_fraction_leaf': 0.0, 'n_estimators': 150, 'n_jobs': None, 'oob_score': False, 'random_state': None, 'verbose': 0, 'warm_start': False}</td>\n",
              "    </tr>\n",
              "    <tr>\n",
              "      <th>2</th>\n",
              "      <td>KNN</td>\n",
              "      <td>0.720835</td>\n",
              "      <td>0.692308</td>\n",
              "      <td>{'algorithm': 'auto', 'leaf_size': 30, 'metric': 'minkowski', 'metric_params': None, 'n_jobs': None, 'n_neighbors': 3, 'p': 1, 'weights': 'uniform'}</td>\n",
              "    </tr>\n",
              "    <tr>\n",
              "      <th>3</th>\n",
              "      <td>SVM</td>\n",
              "      <td>0.773503</td>\n",
              "      <td>0.700000</td>\n",
              "      <td>{'C': 6, 'break_ties': False, 'cache_size': 200, 'class_weight': 'balanced', 'coef0': 0.0, 'decision_function_shape': 'ovr', 'degree': 3, 'gamma': 'scale', 'kernel': 'rbf', 'max_iter': -1, 'probability': False, 'random_state': None, 'shrinking': True, 'tol': 1.01, 'verbose': False}</td>\n",
              "    </tr>\n",
              "  </tbody>\n",
              "</table>\n",
              "</div>"
            ],
            "text/plain": [
              "                Modelo  F1-Score (Train)  F1-Score (Test)  \\\n",
              "0  Regresión Logística          0.723171         0.740157   \n",
              "1     Bosque Aleatorio          0.768823         0.753846   \n",
              "2                  KNN          0.720835         0.692308   \n",
              "3                  SVM          0.773503         0.700000   \n",
              "\n",
              "                                                                                                                                                                                                                                                                                                                                                                              Hiperparámetros del Mejor Modelo  \n",
              "0                                                                                                                           {'C': 1, 'class_weight': None, 'dual': False, 'fit_intercept': True, 'intercept_scaling': 1, 'l1_ratio': None, 'max_iter': 100, 'multi_class': 'auto', 'n_jobs': None, 'penalty': 'l2', 'random_state': None, 'solver': 'lbfgs', 'tol': 0.0001, 'verbose': 0, 'warm_start': False}  \n",
              "1  {'bootstrap': True, 'ccp_alpha': 0.0, 'class_weight': 'balanced', 'criterion': 'gini', 'max_depth': 9, 'max_features': 'log2', 'max_leaf_nodes': None, 'max_samples': None, 'min_impurity_decrease': 0.0, 'min_samples_leaf': 1, 'min_samples_split': 2, 'min_weight_fraction_leaf': 0.0, 'n_estimators': 150, 'n_jobs': None, 'oob_score': False, 'random_state': None, 'verbose': 0, 'warm_start': False}  \n",
              "2                                                                                                                                                                                                                                                         {'algorithm': 'auto', 'leaf_size': 30, 'metric': 'minkowski', 'metric_params': None, 'n_jobs': None, 'n_neighbors': 3, 'p': 1, 'weights': 'uniform'}  \n",
              "3                                                                                                                   {'C': 6, 'break_ties': False, 'cache_size': 200, 'class_weight': 'balanced', 'coef0': 0.0, 'decision_function_shape': 'ovr', 'degree': 3, 'gamma': 'scale', 'kernel': 'rbf', 'max_iter': -1, 'probability': False, 'random_state': None, 'shrinking': True, 'tol': 1.01, 'verbose': False}  "
            ]
          },
          "execution_count": 130,
          "metadata": {},
          "output_type": "execute_result"
        }
      ],
      "source": [
        "# X son las características y y es la variable objetivo\n",
        "X_train, X_test, y_train, y_test = train_test_split(X, y, test_size=0.2, stratify=y, random_state=42)\n",
        "\n",
        "# Crear una lista de modelos a considerar\n",
        "models = [\n",
        "    (\"Regresión Logística\", LogisticRegression()),\n",
        "    (\"Bosque Aleatorio\", RandomForestClassifier()),\n",
        "    (\"KNN\", KNeighborsClassifier()),\n",
        "    (\"SVM\", SVC()),\n",
        "]\n",
        "\n",
        "results = []\n",
        "\n",
        "# Para desactivar un tipo específico de warning\n",
        "warnings.filterwarnings(\"ignore\")\n",
        "\n",
        "# Realizar la selección de modelos y búsqueda de hiperparámetros\n",
        "for model_name, model in models:\n",
        "\n",
        "    # Realizar la búsqueda de hiperparámetros\n",
        "    if model_name == \"Regresión Logística\":\n",
        "        # Definir hiperparámetros a probar para Regresión Logística\n",
        "        param_grid = {'penalty': ['l1', 'l2', 'none'], 'C': [0, 1, 2, 3, 4], 'solver': ['lbfgs', 'liblinear', 'sag', 'saga']}\n",
        "        grid_search = RandomizedSearchCV(model, param_grid, cv=kfold, scoring='f1')\n",
        "        grid_search.fit(X_train, y_train)\n",
        "        best_model = grid_search.best_estimator_\n",
        "    elif model_name == \"Bosque Aleatorio\":\n",
        "        # Definir hiperparámetros a probar para Bosque Aleatorio\n",
        "        param_grid = {'n_estimators': [100, 150, 200],'max_depth': [8, 9, 10], 'class_weight': [None, 'balanced'], 'max_features': ['auto', 'sqrt', 'log2']}\n",
        "        grid_search = GridSearchCV(model, param_grid, cv=kfold, scoring='f1')\n",
        "        grid_search.fit(X_train, y_train)\n",
        "        best_model = grid_search.best_estimator_\n",
        "    elif model_name == \"KNN\":\n",
        "        # Definir hiperparámetros a probar para KNN\n",
        "        param_grid = {'n_neighbors': [1, 2, 3, 4], 'weights': ['uniform', 'distance'], 'p': [0, 1, 2, 3, 4]}\n",
        "        grid_search = RandomizedSearchCV(model, param_grid, cv=kfold, scoring='f1')\n",
        "        grid_search.fit(X_train, y_train)\n",
        "        best_model = grid_search.best_estimator_\n",
        "    elif model_name == \"SVM\":\n",
        "        # Definir hiperparámetros a probar para SVM\n",
        "        param_grid = {'C': [1, 4, 5, 6, 10], 'tol': [1.1, 1.01, 1, 0.1, 0.01], 'class_weight': [None, 'balanced']}\n",
        "        grid_search = RandomizedSearchCV(model, param_grid, cv=kfold, scoring='f1')\n",
        "        grid_search.fit(X_train, y_train)\n",
        "        best_model = grid_search.best_estimator_\n",
        "\n",
        "    # Evaluar el mejor modelo en el conjunto de prueba con el test\n",
        "    y_pred_test = best_model.predict(X_test)\n",
        "    f1_test = f1_score(y_test, y_pred_test)\n",
        "\n",
        "    results.append([model_name, grid_search.best_score_, f1_test, best_model.get_params(False)])\n",
        "    #results.append([model_name, grid_search.best_score_, best_model])\n",
        "\n",
        "# Para restaurar la configuración predeterminada de warnings\n",
        "warnings.filterwarnings(\"default\")\n",
        "\n",
        "# Configura la opción de ancho de columna para que no se corte el texto\n",
        "pd.set_option('display.max_colwidth', None)\n",
        "\n",
        "# Crear un DataFrame para mostrar los resultados en una tabla\n",
        "results_df = pd.DataFrame(results, columns=['Modelo', 'F1-Score (Train)', 'F1-Score (Test)', 'Hiperparámetros del Mejor Modelo'])\n",
        "#results_df = pd.DataFrame(results, columns=['Modelo', 'F1-Score (Train)', 'Hiperparámetros del Mejor Modelo'])\n",
        "\n",
        "results_df"
      ]
    },
    {
      "cell_type": "markdown",
      "metadata": {},
      "source": [
        "Random Forest tiene un F1-Score más alto en el entrenamiento, seguido muy de cerca por las SVM. Por lo tanto nos quedamos con el Random Forest como modelo final.  \n",
        "Aunque mostremos los datos sobre el test porque se pedía en la práctica, no hemos usado esa información para escoger el modelo final.  "
      ]
    },
    {
      "cell_type": "markdown",
      "metadata": {
        "id": "Hx-3b7v2TwJ3"
      },
      "source": [
        "### 5.Analisi Final (1.5 punt)  \n",
        "\n",
        "Una vez seleccionado el mejor modelo con los mejores hiperparámetros, habrá que hacer un reporte final con los resultados obtenidos.  \n",
        "\n",
        "Preguntes:  "
      ]
    },
    {
      "cell_type": "code",
      "execution_count": 131,
      "metadata": {},
      "outputs": [
        {
          "name": "stdout",
          "output_type": "stream",
          "text": [
            "F1-Score (Train): 0.76488\n",
            "F1-Score (Test): 0.75556\n"
          ]
        }
      ],
      "source": [
        "# X son las características y y es la variable objetivo\n",
        "X_train, X_test, y_train, y_test = train_test_split(X, y, test_size=0.2, stratify=y, random_state=42)\n",
        "\n",
        "# Crear una lista de modelos a considerar\n",
        "model = RandomForestClassifier(n_estimators=150, max_depth=8, class_weight='balanced', max_features='sqrt')\n",
        "\n",
        "kfold = StratifiedKFold(n_splits=10, shuffle=True, random_state=1)\n",
        "\n",
        "scores = cross_val_score(model, X_train, y_train, cv=kfold, scoring='f1')\n",
        "\n",
        "f1_train = scores.mean()\n",
        "\n",
        "model.fit(X_train, y_train)\n",
        "y_pred_test = model.predict(X_test)\n",
        "f1_test = f1_score(y_test, y_pred_test)\n",
        "\n",
        "print(f'F1-Score (Train): {f1_train:.5f}')\n",
        "print(f'F1-Score (Test): {f1_test:.5f}')"
      ]
    },
    {
      "cell_type": "markdown",
      "metadata": {},
      "source": [
        "* Mostrad las curvas PR e interpretad los resultados."
      ]
    },
    {
      "cell_type": "code",
      "execution_count": 132,
      "metadata": {},
      "outputs": [
        {
          "data": {
            "image/png": "[encoded data removed]",
            "text/plain": [
              "<Figure size 1200x400 with 1 Axes>"
            ]
          },
          "metadata": {},
          "output_type": "display_data"
        },
        {
          "name": "stdout",
          "output_type": "stream",
          "text": [
            "Punto Óptimo - Threshold: 0.53, Precision: 0.82, Recall: 0.74\n",
            "Máxima Precisión cuando Recall=1: Precision: 0.38, Recall: 1.00\n",
            "Máximo Recall cuando Precisión=1: Precision: 1.00, Recall: 0.21\n"
          ]
        }
      ],
      "source": [
        "# Generar una predicción sin habilidad (clase mayoritaria)\n",
        "ns_probs = [0 for _ in range(len(y))]\n",
        "\n",
        "# Calcular la probabilidad de predicción\n",
        "y_pred_prob = model.predict_proba(X_test)[:, 1]\n",
        "\n",
        "# Calcula la curva Precision-Recall (PRC)\n",
        "precision, recall, thresholds = precision_recall_curve(y_test, y_pred_prob)\n",
        "\n",
        "# Calcula el área bajo la curva Precision-Recall (AUC-PRC)\n",
        "auc_prc = auc(recall, precision)\n",
        "\n",
        "# Encuentra el punto óptimo (máximo F1-score)\n",
        "f1_scores = 2 * (precision * recall) / (precision + recall)\n",
        "optimal_threshold_index = np.argmax(f1_scores)\n",
        "optimal_threshold = thresholds[optimal_threshold_index]\n",
        "optimal_precision = precision[optimal_threshold_index]\n",
        "optimal_recall = recall[optimal_threshold_index]\n",
        "\n",
        "# Encuentra el índice donde el recall es máxima\n",
        "max_recall_index = np.argmax(recall)\n",
        "# Encuentra el índice donde la precisión es máxima\n",
        "max_precision_index = np.argmax(precision)\n",
        "# Obtiene el valor de máxima precisión cuando el recall es máxima\n",
        "max_precision_at_recall_max = precision[max_recall_index]\n",
        "# Obtiene el valor de recall máximo cuando la precisión es máxima\n",
        "max_recall_at_precision_max = recall[max_precision_index]\n",
        "\n",
        "# Gráfica de la curva PRC con puntos de interes\n",
        "plt.figure(figsize=(12, 4))\n",
        "plt.subplot(1, 2, 1)\n",
        "plt.plot(recall, precision, color='darkorange', lw=2, label=f'AUC = {auc_prc:.2f}')\n",
        "no_skill = len(y[y==1]) / len(y)\n",
        "plt.plot([0, 1], [no_skill, no_skill], linestyle='--', label='Sense capacitat predictiva')\n",
        "plt.scatter(optimal_recall, optimal_precision, c='green', marker='o', s=100, label='Punto Óptimo')\n",
        "plt.scatter(recall[max_recall_index], max_precision_at_recall_max, c='red', marker='o', s=100, label=f'Máxima Precisión')\n",
        "plt.scatter(max_recall_at_precision_max, precision[max_precision_index], c='blue', marker='o', s=100, label=f'Máximo Recall')\n",
        "plt.xlabel('Recall')\n",
        "plt.ylabel('Precision')\n",
        "plt.ylim([0.0, 1.05])\n",
        "plt.xlim([0.0, 1.0])\n",
        "plt.title('Curva Precision-Recall')\n",
        "plt.legend(loc='lower left')\n",
        "plt.show()\n",
        "\n",
        "# Imprime los valores de interés\n",
        "print(f\"Punto Óptimo - Threshold: {optimal_threshold:.2f}, Precision: {optimal_precision:.2f}, Recall: {optimal_recall:.2f}\")\n",
        "print(f\"Máxima Precisión cuando Recall=1: Precision: {max_precision_at_recall_max:.2f}, Recall: {recall[max_recall_index]:.2f}\")\n",
        "print(f\"Máximo Recall cuando Precisión=1: Precision: {precision[max_precision_index]:.2f}, Recall: {max_recall_at_precision_max:.2f}\")"
      ]
    },
    {
      "cell_type": "markdown",
      "metadata": {},
      "source": [
        "1. Punto Óptimo (Threshold: 0.53, Precision: 0.82, Recall: 0.74): En este punto alcanzamos un equilibrio entre precisión y recall, por lo que es nuestro punto de interés al haber escogido como métrica el F1-Score. \n",
        "\n",
        "2. Máxima Precisión cuando Recall=1 (Precision: 0.38, Recall: 1.00): En este caso, el modelo está configurado para identificar todos los casos positivos (recall de 1.00), pero la precisión es baja, solo del 38%. Esto significa que el modelo clasifica muchos falsos positivos, pero es una buena referencia.\n",
        "\n",
        "3. Máximo Recall cuando Precisión=1 (Precision: 1.00, Recall: 0.21): Aquí, el modelo tiene una precisión perfecta (1.00), lo que significa que todas sus predicciones positivas son correctas. Sin embargo, el recall es bajo, solo del 21% , lo que indica que el modelo deja pasar la mayoría de los casos positivos. Al igual que con recall máxima, sirve como punto de referencia."
      ]
    },
    {
      "cell_type": "markdown",
      "metadata": {},
      "source": [
        "* Analizad en detalle las diferentes métricas que encontréis adecuadas y comentad por encima cómo podríais utilizar este modelo en un futuro. Esto es lo que se conoce como un caso de uso."
      ]
    },
    {
      "cell_type": "markdown",
      "metadata": {},
      "source": [
        "Encontramos diferentes aplicaciones en función de la métrica escogida, nosotros consideraremos tres como las más relevantes para este dataset:  \n",
        "\n",
        "1. F1-Score: Priorizando el F1-Score y maximizando la relación entre precision y recall (como es nuestro caso), podemos aplicar este modelo para la asignación de recursos para rescate en un accidente similar al del Titanic. También otro uso sería el permitir pasar al barco a ciertas personas en función de la predicción resultante para intentar obtener la menor cantidad de víctimas pero aun así dejando subir a gente en el barco. Sin embargo, para este último caso es posible que el modelo no de unos resultados tan buenos debido a la discriminación que se produciría a la hora de permitir el acceso a la gente en función del género o la clase del pasajero y también por posibles causas externas que quizá tengan más relación con la supervivencia que los atributos de los que disponemos.  \n",
        "\n",
        "2. Recall: Esta métrica generaría un modelo muy útil para asignar recursos de rescate en un desastre de este tipo intentando priorizar que todos los que hayan sean rescatados a tiempo.  \n",
        "\n",
        "3. Precision: Esta métrica generaría un modelo muy útil para priorizar la asignación de recursos de rescate a la gente con más probabilidades de sobrevivir. Serviría como primer paso para luego pasar a un modelo entrenado con el Recall para continuar la búsqueda de supervivientes.  "
      ]
    },
    {
      "cell_type": "markdown",
      "metadata": {},
      "source": [
        "En resumen nuestro modelo es sobre todo aplicable para priorizar los rescates de personas que sepamos que tienen posibilidades de haber sobrevivido a un desastre similar al Titanic."
      ]
    }
  ],
  "metadata": {
    "colab": {
      "provenance": []
    },
    "kernelspec": {
      "display_name": "Python 3",
      "language": "python",
      "name": "python3"
    },
    "language_info": {
      "codemirror_mode": {
        "name": "ipython",
        "version": 3
      },
      "file_extension": ".py",
      "mimetype": "text/x-python",
      "name": "python",
      "nbconvert_exporter": "python",
      "pygments_lexer": "ipython3",
      "version": "3.11.4"
    }
  },
  "nbformat": 4,
  "nbformat_minor": 0
}

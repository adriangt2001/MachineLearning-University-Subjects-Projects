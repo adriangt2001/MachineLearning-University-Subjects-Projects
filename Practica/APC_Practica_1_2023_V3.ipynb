{
  "cells": [
    {
      "cell_type": "markdown",
      "metadata": {
        "id": "oZMnmdDBCl7F"
      },
      "source": [
        "# Pràctica 1: Resolem un problema de classificacio\n",
        "\n",
        "## Objectius\n",
        "\n",
        "Els objectius d'aquesta pràctica són:\n",
        "\n",
        "* Aplicar els coneixements adquirits sobre classificacio, tecniques d'emplenats de nans i validacio creuada.\n",
        "  \n",
        "* Ser capac de comparar diferents models classificacio\n",
        "\n",
        "* Ser capac de fer busca d'hiperparametres.\n",
        "\n",
        "* Entendre i implamentar la validacio creuada\n",
        "\n",
        "* Analitzar detalladament els resultats obtinguts durant l'aprenentatge dels diferents models.\n",
        "\n",
        "Aquesta practica es previa al cas kaggle que realitzareu durant la segona part de l'assignatura. En aquesta primera practica les preguntes estan definides, pero us ha de servir d'aprenentatge alhora de saber com estructurar un projecte d'aprenentatge automatic ja que en el cas kaggle no tindreu les preguntes.\n",
        "\n",
        "## Bases de dades\n",
        "\n",
        "En aquesta practica farem servir la base de dades del titanic. L'atribut que predirem es Survived, el qual ens diu si va sobreviure o no cada passatger.\n",
        "\n",
        "\n",
        "https://www.kaggle.com/c/titanic/data\n",
        "\n",
        "\n",
        "##Treball en grup\n",
        "Aquesta practica es treballara en grups de 2-3 persones. En casos excepcionals i degudament justificats la practica es podra realitzar de forma individual.\n",
        "## Seguiment i entrega de la pràctica\n",
        "\n",
        "En la pràctica 1, es presenten diverses tasques per fer una correcta comparativa dels resultats obtinguts per diversos mètodes de classificació numèrica en una mateixa base de dades.\n",
        "\n",
        "\n",
        "En aquesta practica es realitzara sessions de seguiment del treball. Aquestes sessions de treball està orientada a que els alumnes que vingueu pugueu preguntar i resoldre dubtes sobre les dades, preguntar sobre l'objectiu de cada apartat dels enunciats que no us hagi quedat clar, i preguntar sobre els resultats que esteu obtenint a l'hora d'analitzar les dades. Es molt recomanable venir amb el treball fet a clase per tal de poder comentar dubtes.\n",
        "\n",
        "Pel que fa l'entrega, caldra entregar per caronte el seguent:\n",
        "\n",
        "1. Memòria en format PDF o en la mateixa notebook explicant els resultats trobats sobre la bases de dades amb el respectiu codi de python. Aquesta nota es la mateixa per tots els membres del grup (9 pts)\n",
        "\n",
        "2. Presentació amb els resultats 4 min màxim. Aquesta nota es individual. (1 pt)\n",
        "\n",
        "Nota: En cas d'entregar la memoria com a PDF, caldra entregar el codi de python a part. Si s'entrega com a notebook, la mateixa notebook servira com a codi.\n",
        "\n"
      ]
    },
    {
      "cell_type": "markdown",
      "metadata": {
        "id": "6zdgsxfuCl7S"
      },
      "source": [
        "# Descripcio de la pràctica\n",
        "\n",
        "A continuacio es mostren tots els continguts que s'evaluara en la pràctica:\n",
        "\n",
        "1. EDA (exploratory data analysis) (1 punts):\n",
        "  * Analisi de tamany i tipologia de dades ( 0.25 pt)\n",
        "  * Primera valoracio de correlacions ( 0.5 pt)\n",
        "  * Analisi atribut target ( 0.25 pt)\n",
        "2. Preprocessing (2 punts):\n",
        "  * Eliminacio de nans (0.5 punts)\n",
        "  * Encoding de categoriques (0.75 punts)\n",
        "  * Altres (PCA, normalitzacio..)\n",
        "3. Metric selection (1.5 punts):\n",
        "  * Seleccio de la millor metrica pel problema (0.75 punts)\n",
        "  * Visualitzacio de ROC/AUC (0.75 punts)\n",
        "4. Model Selection amb Crossvalidation (4 punts):\n",
        "  * Seleccio del millor model (2 punts)\n",
        "  * Busqueda hiperparametres (2 punts)\n",
        "5. Analisi final (1.5 punt)\n",
        "\n",
        "Cal dir que, les puntuacions dins de cada apartat son orientatives. La pràctica esta construida a partir d'un seguit de preguntes orientatives en cada apartat les quals tenen relacio amb els continguts evaluables. **NO cal contestar-les totes**. Són una guia per a que reflexioneu i aprengueu detalls de cada apartat.  Es recomanable, aixo si, llegir totes les preguntes abans de realitzar la practica i tenir-les en ment alhora d'executar-la.\n",
        "\n",
        "\n",
        "**IMPORTANT**: El que es valorara en la practica es la capacitat de mantenir una narrativa coherent alhora que es realitzen els resultats. No es mirara tant que alguna pregunta quedi per respondre sino que els passos seguits en base als resultats obtinguts siguin coherents."
      ]
    },
    {
      "cell_type": "markdown",
      "metadata": {
        "id": "fuENGdYFCl7S"
      },
      "source": [
        "### 1. EDA (exploratory data analysis) (1 punt)\n",
        "\n",
        "**Preguntes:**\n"
      ]
    },
    {
      "cell_type": "code",
      "execution_count": 1,
      "metadata": {},
      "outputs": [],
      "source": [
        "import numpy as np\n",
        "import pandas as pd\n",
        "train_data = pd.read_csv(\"titanic/train.csv\")\n",
        "test_data = pd.read_csv(\"titanic/test.csv\")"
      ]
    },
    {
      "cell_type": "markdown",
      "metadata": {},
      "source": [
        "* ¿Cuántos atributos tiene su base de datos?"
      ]
    },
    {
      "cell_type": "code",
      "execution_count": 2,
      "metadata": {},
      "outputs": [
        {
          "name": "stdout",
          "output_type": "stream",
          "text": [
            "Número de atributos: 12\n",
            "Atributos: ['PassengerId', 'Survived', 'Pclass', 'Name', 'Sex', 'Age', 'SibSp', 'Parch', 'Ticket', 'Fare', 'Cabin', 'Embarked']\n"
          ]
        }
      ],
      "source": [
        "num_attributes = train_data.shape[1]\n",
        "attribute_names = train_data.columns.tolist()\n",
        "print(\"Número de atributos:\", num_attributes)\n",
        "print(\"Atributos:\", attribute_names)"
      ]
    },
    {
      "cell_type": "markdown",
      "metadata": {},
      "source": [
        "* ¿Qué tipo de atributos tienes? (Numéricos, temporales, categóricos, binarios...)"
      ]
    },
    {
      "cell_type": "code",
      "execution_count": 3,
      "metadata": {},
      "outputs": [
        {
          "name": "stdout",
          "output_type": "stream",
          "text": [
            "Tipos de atributos:\n",
            "PassengerId      int64\n",
            "Survived         int64\n",
            "Pclass           int64\n",
            "Name            object\n",
            "Sex             object\n",
            "Age            float64\n",
            "SibSp            int64\n",
            "Parch            int64\n",
            "Ticket          object\n",
            "Fare           float64\n",
            "Cabin           object\n",
            "Embarked        object\n",
            "dtype: object\n"
          ]
        }
      ],
      "source": [
        "#Esto dará información sobre si los atributos son numéricos (int o float), categóricos (object), temporales (datetime), binarios (boolean), etc.\n",
        "attribute_types = train_data.dtypes\n",
        "print(\"Tipos de atributos:\")\n",
        "print(attribute_types)"
      ]
    },
    {
      "cell_type": "markdown",
      "metadata": {},
      "source": [
        "Basándonos en la información, podemos categorizar los atributos de la siguiente manera:\n",
        "\n",
        "* Atributos Numéricos:\n",
        "  * PassengerId: Entero (int64) - Identificador único para cada pasajero.\n",
        "  * Survived: Entero (int64) - Este es el atributo objetivo que representa si un pasajero sobrevivió o no.\n",
        "  * Pclass: Entero (int64) - Clase del pasajero (1, 2 o 3).\n",
        "  * Age: Decimal de punto flotante (float64) - Edad del pasajero.\n",
        "  * SibSp: Entero (int64) - Número de hermanos o cónyuges a bordo.\n",
        "  * Parch: Entero (int64) - Número de padres o hijos a bordo.\n",
        "  * Fare: Decimal de punto flotante (float64) - Tarifa pagada por el pasajero.\n",
        "* Atributos Categóricos:\n",
        "  * Name: Objeto (object) - Nombre del pasajero (texto).\n",
        "  * Sex: Objeto (object) - Género del pasajero (por ejemplo, \"male\" o \"female\").\n",
        "  * Ticket: Objeto (object) - Número de boleto del pasajero (texto).\n",
        "  * Cabin: Objeto (object) - Número de cabina del pasajero (texto).\n",
        "  * Embarked: Objeto (object) - Puerto de embarque del pasajero (por ejemplo, \"C\", \"Q\" o \"S\")."
      ]
    },
    {
      "cell_type": "markdown",
      "metadata": {},
      "source": [
        "* Como es el target, ¿cuántas categorías diferentes existen?"
      ]
    },
    {
      "cell_type": "code",
      "execution_count": 4,
      "metadata": {},
      "outputs": [
        {
          "name": "stdout",
          "output_type": "stream",
          "text": [
            "Número de categorías en el target: 2\n"
          ]
        }
      ],
      "source": [
        "target_categories = train_data[\"Survived\"].nunique()\n",
        "print(\"Número de categorías en el target:\", target_categories)"
      ]
    },
    {
      "cell_type": "markdown",
      "metadata": {},
      "source": [
        "El hecho de que haya 2 categorías en el atributo objetivo (\"Survived\") significa que es un problema de clasificación binaria.  \n",
        "  \n",
        "En este caso, las dos categorías representan:\n",
        "\n",
        "* Sobrevivió (Survived): Esta categoría generalmente se representa como \"1\" o \"Sí\" y denota que el pasajero sobrevivió al hundimiento del Titanic.\n",
        "\n",
        "* No Sobrevivió (Not Survived): Esta categoría generalmente se representa como \"0\" o \"No\" y denota que el pasajero no sobrevivió al hundimiento del Titanic.\n",
        "\n",
        "Dado que es un problema de clasificación binaria, nuestro objetivo será construir un modelo predictivo que pueda predecir si un pasajero sobrevivió (1) o no sobrevivió (0) en función de las características disponibles en los datos."
      ]
    },
    {
      "cell_type": "markdown",
      "metadata": {},
      "source": [
        "* ¿Tenemos nulos en los datos?"
      ]
    },
    {
      "cell_type": "code",
      "execution_count": 5,
      "metadata": {},
      "outputs": [
        {
          "name": "stdout",
          "output_type": "stream",
          "text": [
            "Número de valores nulos por atributo:\n",
            "PassengerId      0\n",
            "Survived         0\n",
            "Pclass           0\n",
            "Name             0\n",
            "Sex              0\n",
            "Age            177\n",
            "SibSp            0\n",
            "Parch            0\n",
            "Ticket           0\n",
            "Fare             0\n",
            "Cabin          687\n",
            "Embarked         2\n",
            "dtype: int64\n"
          ]
        }
      ],
      "source": [
        "null_counts = train_data.isnull().sum()\n",
        "print(\"Número de valores nulos por atributo:\")\n",
        "print(null_counts)"
      ]
    },
    {
      "cell_type": "markdown",
      "metadata": {},
      "source": [
        "Algunas observaciones sobre el número de valores nulos (NaN):\n",
        "\n",
        "* Age (Edad): Hay 177 valores nulos en la columna \"Age\". Esto significa que falta información sobre la edad de 177 pasajeros en los datos. Podemos considerar estrategias para imputar estos valores faltantes, como reemplazarlos con la mediana o la media de la edad.\n",
        "\n",
        "* Cabin (Cabina): Hay 687 valores nulos en la columna \"Cabin\". Esto indica que la información sobre la cabina está ausente para la mayoría de los pasajeros. Podemos decidir si utilizar esta columna en el modelo, o descartarla debido a la gran cantidad de valores faltantes.\n",
        "\n",
        "* Embarked (Puerto de Embarque): Hay 2 valores nulos en la columna \"Embarked\". Esto significa que falta información sobre el puerto de embarque para 2 pasajeros. Podemos decidir si imputar estos valores o eliminar las filas correspondientes si no afectan significativamente al análisis.\n",
        "\n",
        "Antes de realizar análisis o modelado, es importante tratar los valores nulos de manera adecuada para garantizar que no afecten negativamente los resultados. Las estrategias de imputación o eliminación de valores nulos dependerán de la naturaleza de los datos y los objetivos del análisis."
      ]
    },
    {
      "cell_type": "markdown",
      "metadata": {},
      "source": [
        "* ¿Puede ver alguna correlación entre X y y?"
      ]
    },
    {
      "cell_type": "code",
      "execution_count": 6,
      "metadata": {},
      "outputs": [
        {
          "name": "stdout",
          "output_type": "stream",
          "text": [
            "Correlación con Survived:\n",
            "Survived       1.000000\n",
            "Fare           0.257307\n",
            "Parch          0.081629\n",
            "PassengerId   -0.005007\n",
            "SibSp         -0.035322\n",
            "Age           -0.077221\n",
            "Pclass        -0.338481\n",
            "Name: Survived, dtype: float64\n"
          ]
        },
        {
          "name": "stderr",
          "output_type": "stream",
          "text": [
            "C:\\Users\\adria\\AppData\\Local\\Temp\\ipykernel_1644\\1629917562.py:2: FutureWarning: The default value of numeric_only in DataFrame.corr is deprecated. In a future version, it will default to False. Select only valid columns or specify the value of numeric_only to silence this warning.\n",
            "  correlation_matrix = train_data.corr()\n"
          ]
        }
      ],
      "source": [
        "# Calcular la matriz de correlación\n",
        "correlation_matrix = train_data.corr()\n",
        "\n",
        "# Ordenar la correlación con respecto a \"Survived\"\n",
        "correlation_with_target = correlation_matrix[\"Survived\"].sort_values(ascending=False)\n",
        "\n",
        "# Mostrar la correlación con \"Survived\"\n",
        "print(\"Correlación con Survived:\")\n",
        "print(correlation_with_target)"
      ]
    },
    {
      "cell_type": "markdown",
      "metadata": {},
      "source": [
        "Algunas observaciones sobre la correlación:\n",
        "\n",
        "* Survived vs. Fare (Tarifa): La correlación positiva de 0.2573 indica que las personas que pagaron tarifas más altas tenían una mayor probabilidad de sobrevivir. Esto podría sugerir que la clase socioeconómica o el nivel de comodidad del pasajero influyeron en sus posibilidades de sobrevivir.\n",
        "\n",
        "* Survived vs. Parch (Número de Hijos a Bordo): La correlación positiva de 0.0816 sugiere que las personas que viajaban con más hijos tenían una mayor probabilidad de sobrevivir, aunque la correlación no es muy fuerte.\n",
        "\n",
        "* Survived vs. Age (Edad): La correlación negativa de -0.0772 indica que las personas más jóvenes tenían una ligera tendencia a tener una mayor probabilidad de sobrevivir. Sin embargo, la correlación no es muy fuerte, por lo que la edad por sí sola no es un predictor fuerte de la supervivencia.\n",
        "\n",
        "* Survived vs. Pclass (Clase del Pasajero): La correlación negativa más fuerte de -0.3385 sugiere que la clase del pasajero influyó significativamente en sus posibilidades de supervivencia. Esto es coherente con la intuición de que las personas en clases socioeconómicas más altas tenían más probabilidades de sobrevivir.\n",
        "\n",
        "* Survived vs. SibSp (Número de Hermanos/Cónyuges a Bordo): La correlación negativa de -0.0353 indica que las personas que viajaban con más hermanos o cónyuges tenían una ligeramente menor probabilidad de sobrevivir, aunque la correlación es débil.\n",
        "\n",
        "* Survived vs. PassengerId: La correlación cercana a cero (-0.0050) entre \"Survived\" y \"PassengerId\" sugiere que el identificador de pasajero no tiene una influencia significativa en la probabilidad de supervivencia.\n",
        "\n",
        "Es importante recordar que la correlación no implica causalidad, por lo que no podemos afirmar que una variable causa directamente la supervivencia. Sin embargo, estas correlaciones proporcionan información valiosa para la exploración inicial de datos y pueden ser útiles al seleccionar características para modelos de aprendizaje automático o al comprender mejor las dinámicas en el conjunto de datos del Titanic."
      ]
    },
    {
      "cell_type": "markdown",
      "metadata": {},
      "source": [
        "* ¿Están balanceadas las etiquetas (distribución similar entre categorías)? ¿Crees que puede afectar a la clasificación su distribución?"
      ]
    },
    {
      "cell_type": "code",
      "execution_count": 7,
      "metadata": {},
      "outputs": [
        {
          "name": "stdout",
          "output_type": "stream",
          "text": [
            "Conteo de etiquetas:\n",
            "0    549\n",
            "1    342\n",
            "Name: Survived, dtype: int64\n"
          ]
        }
      ],
      "source": [
        "# Conteo de valores únicos en la columna \"Survived\" (atributo del target)\n",
        "survival_counts = train_data[\"Survived\"].value_counts()\n",
        "\n",
        "# Mostrar el conteo de etiquetas\n",
        "print(\"Conteo de etiquetas:\")\n",
        "print(survival_counts)"
      ]
    },
    {
      "cell_type": "markdown",
      "metadata": {},
      "source": [
        "En este caso, las etiquetas no están completamente balanceadas, ya que hay una diferencia significativa en el número de muestras entre las dos clases.\n",
        "\n",
        "La distribución desequilibrada puede afectar significativamente la clasificación en un problema de aprendizaje automático, algunas formas en las que puede influir:\n",
        "\n",
        "* Sesgo en la Predicción: Los modelos de clasificación tienden a tener un sesgo hacia la clase mayoritaria cuando las etiquetas están desequilibradas. Esto significa que el modelo puede predecir con mayor frecuencia la clase mayoritaria, lo que resulta en una baja tasa de detección de la clase minoritaria (falsos negativos).\n",
        "\n",
        "* Pérdida de Información: Cuando una clase está subrepresentada en los datos, el modelo puede tener menos información para aprender sobre esa clase, lo que podría resultar en una capacidad de predicción deficiente para esa clase.\n",
        "\n",
        "* Métricas Engañosas: Las métricas de evaluación, como la precisión, pueden ser engañosas en conjuntos de datos desequilibrados. Un modelo que predice siempre la clase mayoritaria podría tener una alta precisión, pero no sería útil en la práctica.\n",
        "\n",
        "* Costos Asociados: En aplicaciones del mundo real, las decisiones basadas en modelos de clasificación pueden tener costos asociados. Por ejemplo, en la detección de enfermedades raras, predecir incorrectamente la clase minoritaria puede tener consecuencias graves."
      ]
    },
    {
      "cell_type": "markdown",
      "metadata": {},
      "source": [
        "**Información General:**"
      ]
    },
    {
      "cell_type": "markdown",
      "metadata": {},
      "source": [
        "Análisis del tamaño y la tipología de los datos:"
      ]
    },
    {
      "cell_type": "code",
      "execution_count": 8,
      "metadata": {},
      "outputs": [
        {
          "name": "stdout",
          "output_type": "stream",
          "text": [
            "Tamaño de los datos de entrenamiento: (891, 12)\n",
            "Tamaño de los datos de prueba: (418, 11)\n"
          ]
        }
      ],
      "source": [
        "# Tamaño de los datos de entrenamiento y prueba\n",
        "print(\"Tamaño de los datos de entrenamiento:\", train_data.shape)\n",
        "print(\"Tamaño de los datos de prueba:\", test_data.shape)\n"
      ]
    },
    {
      "cell_type": "code",
      "execution_count": 9,
      "metadata": {},
      "outputs": [
        {
          "name": "stdout",
          "output_type": "stream",
          "text": [
            "\n",
            "Información de los datos de entrenamiento:\n",
            "<class 'pandas.core.frame.DataFrame'>\n",
            "RangeIndex: 891 entries, 0 to 890\n",
            "Data columns (total 12 columns):\n",
            " #   Column       Non-Null Count  Dtype  \n",
            "---  ------       --------------  -----  \n",
            " 0   PassengerId  891 non-null    int64  \n",
            " 1   Survived     891 non-null    int64  \n",
            " 2   Pclass       891 non-null    int64  \n",
            " 3   Name         891 non-null    object \n",
            " 4   Sex          891 non-null    object \n",
            " 5   Age          714 non-null    float64\n",
            " 6   SibSp        891 non-null    int64  \n",
            " 7   Parch        891 non-null    int64  \n",
            " 8   Ticket       891 non-null    object \n",
            " 9   Fare         891 non-null    float64\n",
            " 10  Cabin        204 non-null    object \n",
            " 11  Embarked     889 non-null    object \n",
            "dtypes: float64(2), int64(5), object(5)\n",
            "memory usage: 83.7+ KB\n",
            "None\n"
          ]
        }
      ],
      "source": [
        "# Información sobre las columnas y tipos de datos\n",
        "print(\"\\nInformación de los datos de entrenamiento:\")\n",
        "print(train_data.info())"
      ]
    },
    {
      "cell_type": "code",
      "execution_count": 10,
      "metadata": {},
      "outputs": [
        {
          "name": "stdout",
          "output_type": "stream",
          "text": [
            "\n",
            "Resumen estadístico de las columnas numéricas:\n"
          ]
        },
        {
          "data": {
            "text/html": [
              "<div>\n",
              "<style scoped>\n",
              "    .dataframe tbody tr th:only-of-type {\n",
              "        vertical-align: middle;\n",
              "    }\n",
              "\n",
              "    .dataframe tbody tr th {\n",
              "        vertical-align: top;\n",
              "    }\n",
              "\n",
              "    .dataframe thead th {\n",
              "        text-align: right;\n",
              "    }\n",
              "</style>\n",
              "<table border=\"1\" class=\"dataframe\">\n",
              "  <thead>\n",
              "    <tr style=\"text-align: right;\">\n",
              "      <th></th>\n",
              "      <th>PassengerId</th>\n",
              "      <th>Survived</th>\n",
              "      <th>Pclass</th>\n",
              "      <th>Age</th>\n",
              "      <th>SibSp</th>\n",
              "      <th>Parch</th>\n",
              "      <th>Fare</th>\n",
              "    </tr>\n",
              "  </thead>\n",
              "  <tbody>\n",
              "    <tr>\n",
              "      <th>count</th>\n",
              "      <td>891.000000</td>\n",
              "      <td>891.000000</td>\n",
              "      <td>891.000000</td>\n",
              "      <td>714.000000</td>\n",
              "      <td>891.000000</td>\n",
              "      <td>891.000000</td>\n",
              "      <td>891.000000</td>\n",
              "    </tr>\n",
              "    <tr>\n",
              "      <th>mean</th>\n",
              "      <td>446.000000</td>\n",
              "      <td>0.383838</td>\n",
              "      <td>2.308642</td>\n",
              "      <td>29.699118</td>\n",
              "      <td>0.523008</td>\n",
              "      <td>0.381594</td>\n",
              "      <td>32.204208</td>\n",
              "    </tr>\n",
              "    <tr>\n",
              "      <th>std</th>\n",
              "      <td>257.353842</td>\n",
              "      <td>0.486592</td>\n",
              "      <td>0.836071</td>\n",
              "      <td>14.526497</td>\n",
              "      <td>1.102743</td>\n",
              "      <td>0.806057</td>\n",
              "      <td>49.693429</td>\n",
              "    </tr>\n",
              "    <tr>\n",
              "      <th>min</th>\n",
              "      <td>1.000000</td>\n",
              "      <td>0.000000</td>\n",
              "      <td>1.000000</td>\n",
              "      <td>0.420000</td>\n",
              "      <td>0.000000</td>\n",
              "      <td>0.000000</td>\n",
              "      <td>0.000000</td>\n",
              "    </tr>\n",
              "    <tr>\n",
              "      <th>25%</th>\n",
              "      <td>223.500000</td>\n",
              "      <td>0.000000</td>\n",
              "      <td>2.000000</td>\n",
              "      <td>20.125000</td>\n",
              "      <td>0.000000</td>\n",
              "      <td>0.000000</td>\n",
              "      <td>7.910400</td>\n",
              "    </tr>\n",
              "    <tr>\n",
              "      <th>50%</th>\n",
              "      <td>446.000000</td>\n",
              "      <td>0.000000</td>\n",
              "      <td>3.000000</td>\n",
              "      <td>28.000000</td>\n",
              "      <td>0.000000</td>\n",
              "      <td>0.000000</td>\n",
              "      <td>14.454200</td>\n",
              "    </tr>\n",
              "    <tr>\n",
              "      <th>75%</th>\n",
              "      <td>668.500000</td>\n",
              "      <td>1.000000</td>\n",
              "      <td>3.000000</td>\n",
              "      <td>38.000000</td>\n",
              "      <td>1.000000</td>\n",
              "      <td>0.000000</td>\n",
              "      <td>31.000000</td>\n",
              "    </tr>\n",
              "    <tr>\n",
              "      <th>max</th>\n",
              "      <td>891.000000</td>\n",
              "      <td>1.000000</td>\n",
              "      <td>3.000000</td>\n",
              "      <td>80.000000</td>\n",
              "      <td>8.000000</td>\n",
              "      <td>6.000000</td>\n",
              "      <td>512.329200</td>\n",
              "    </tr>\n",
              "  </tbody>\n",
              "</table>\n",
              "</div>"
            ],
            "text/plain": [
              "       PassengerId    Survived      Pclass         Age       SibSp  \\\n",
              "count   891.000000  891.000000  891.000000  714.000000  891.000000   \n",
              "mean    446.000000    0.383838    2.308642   29.699118    0.523008   \n",
              "std     257.353842    0.486592    0.836071   14.526497    1.102743   \n",
              "min       1.000000    0.000000    1.000000    0.420000    0.000000   \n",
              "25%     223.500000    0.000000    2.000000   20.125000    0.000000   \n",
              "50%     446.000000    0.000000    3.000000   28.000000    0.000000   \n",
              "75%     668.500000    1.000000    3.000000   38.000000    1.000000   \n",
              "max     891.000000    1.000000    3.000000   80.000000    8.000000   \n",
              "\n",
              "            Parch        Fare  \n",
              "count  891.000000  891.000000  \n",
              "mean     0.381594   32.204208  \n",
              "std      0.806057   49.693429  \n",
              "min      0.000000    0.000000  \n",
              "25%      0.000000    7.910400  \n",
              "50%      0.000000   14.454200  \n",
              "75%      0.000000   31.000000  \n",
              "max      6.000000  512.329200  "
            ]
          },
          "execution_count": 10,
          "metadata": {},
          "output_type": "execute_result"
        }
      ],
      "source": [
        "# Resumen estadístico de las columnas numéricas\n",
        "print(\"\\nResumen estadístico de las columnas numéricas:\")\n",
        "d=train_data.describe()\n",
        "d"
      ]
    },
    {
      "cell_type": "markdown",
      "metadata": {},
      "source": [
        "Valoración de correlación:"
      ]
    },
    {
      "cell_type": "code",
      "execution_count": 11,
      "metadata": {},
      "outputs": [
        {
          "name": "stderr",
          "output_type": "stream",
          "text": [
            "C:\\Users\\adria\\AppData\\Local\\Temp\\ipykernel_1644\\631925138.py:5: FutureWarning: The default value of numeric_only in DataFrame.corr is deprecated. In a future version, it will default to False. Select only valid columns or specify the value of numeric_only to silence this warning.\n",
            "  correlation_matrix = train_data.corr()\n"
          ]
        },
        {
          "data": {
            "image/png": "[encoded data removed]",
            "text/plain": [
              "<Figure size 1000x600 with 2 Axes>"
            ]
          },
          "metadata": {},
          "output_type": "display_data"
        }
      ],
      "source": [
        "import seaborn as sns\n",
        "import matplotlib.pyplot as plt\n",
        "\n",
        "# Matriz de correlación\n",
        "correlation_matrix = train_data.corr()\n",
        "\n",
        "# Visualización de la matriz de correlación en un mapa de calor\n",
        "plt.figure(figsize=(10, 6))\n",
        "sns.heatmap(correlation_matrix, annot=True, cmap=\"coolwarm\", fmt=\".2f\")\n",
        "plt.title(\"Matriz de Correlación\")\n",
        "plt.show()"
      ]
    },
    {
      "cell_type": "markdown",
      "metadata": {},
      "source": [
        "Análisis de los atributos del target:"
      ]
    },
    {
      "cell_type": "code",
      "execution_count": 12,
      "metadata": {},
      "outputs": [
        {
          "data": {
            "image/png": "[encoded data removed]",
            "text/plain": [
              "<Figure size 600x400 with 1 Axes>"
            ]
          },
          "metadata": {},
          "output_type": "display_data"
        },
        {
          "name": "stdout",
          "output_type": "stream",
          "text": [
            "Porcentaje de pasajeros que sobrevivieron:\n",
            "0    61.616162\n",
            "1    38.383838\n",
            "Name: Survived, dtype: float64\n"
          ]
        }
      ],
      "source": [
        "# Conteo de valores únicos en la columna \"Survived\" (atributo del target)\n",
        "survival_counts = train_data[\"Survived\"].value_counts()\n",
        "\n",
        "# Gráfico de barras para visualizar la distribución de sobrevivientes\n",
        "plt.figure(figsize=(6, 4))\n",
        "sns.countplot(x=\"Survived\", data=train_data)\n",
        "plt.xlabel(\"Sobrevivió\")\n",
        "plt.ylabel(\"Número de Pasajeros\")\n",
        "plt.title(\"Distribución de Sobrevivientes\")\n",
        "plt.xticks([0, 1], [\"No\", \"Sí\"])\n",
        "plt.show()\n",
        "\n",
        "# Porcentaje de pasajeros que sobrevivieron\n",
        "survival_percentage = survival_counts / len(train_data) * 100\n",
        "print(\"Porcentaje de pasajeros que sobrevivieron:\")\n",
        "print(survival_percentage)\n"
      ]
    },
    {
      "cell_type": "markdown",
      "metadata": {
        "id": "CuLtWQWpCl7T"
      },
      "source": [
        "### 2. Preprocessing (normalitzation, outlier removal, feature selection..) (2 punts)"
      ]
    },
    {
      "cell_type": "markdown",
      "metadata": {},
      "source": [
        "**Preguntes:**"
      ]
    },
    {
      "cell_type": "code",
      "execution_count": 13,
      "metadata": {},
      "outputs": [],
      "source": [
        "train_data = pd.read_csv(\"titanic/train.csv\")\n",
        "test_data = pd.read_csv(\"titanic/test.csv\")"
      ]
    },
    {
      "cell_type": "code",
      "execution_count": 14,
      "metadata": {},
      "outputs": [
        {
          "data": {
            "text/html": [
              "<div>\n",
              "<style scoped>\n",
              "    .dataframe tbody tr th:only-of-type {\n",
              "        vertical-align: middle;\n",
              "    }\n",
              "\n",
              "    .dataframe tbody tr th {\n",
              "        vertical-align: top;\n",
              "    }\n",
              "\n",
              "    .dataframe thead th {\n",
              "        text-align: right;\n",
              "    }\n",
              "</style>\n",
              "<table border=\"1\" class=\"dataframe\">\n",
              "  <thead>\n",
              "    <tr style=\"text-align: right;\">\n",
              "      <th></th>\n",
              "      <th>PassengerId</th>\n",
              "      <th>Survived</th>\n",
              "      <th>Pclass</th>\n",
              "      <th>Name</th>\n",
              "      <th>Sex</th>\n",
              "      <th>Age</th>\n",
              "      <th>SibSp</th>\n",
              "      <th>Parch</th>\n",
              "      <th>Ticket</th>\n",
              "      <th>Fare</th>\n",
              "      <th>Cabin</th>\n",
              "      <th>Embarked</th>\n",
              "    </tr>\n",
              "  </thead>\n",
              "  <tbody>\n",
              "    <tr>\n",
              "      <th>0</th>\n",
              "      <td>1</td>\n",
              "      <td>0</td>\n",
              "      <td>3</td>\n",
              "      <td>Braund, Mr. Owen Harris</td>\n",
              "      <td>male</td>\n",
              "      <td>22.0</td>\n",
              "      <td>1</td>\n",
              "      <td>0</td>\n",
              "      <td>A/5 21171</td>\n",
              "      <td>7.2500</td>\n",
              "      <td>NaN</td>\n",
              "      <td>S</td>\n",
              "    </tr>\n",
              "    <tr>\n",
              "      <th>1</th>\n",
              "      <td>2</td>\n",
              "      <td>1</td>\n",
              "      <td>1</td>\n",
              "      <td>Cumings, Mrs. John Bradley (Florence Briggs Th...</td>\n",
              "      <td>female</td>\n",
              "      <td>38.0</td>\n",
              "      <td>1</td>\n",
              "      <td>0</td>\n",
              "      <td>PC 17599</td>\n",
              "      <td>71.2833</td>\n",
              "      <td>C85</td>\n",
              "      <td>C</td>\n",
              "    </tr>\n",
              "    <tr>\n",
              "      <th>2</th>\n",
              "      <td>3</td>\n",
              "      <td>1</td>\n",
              "      <td>3</td>\n",
              "      <td>Heikkinen, Miss. Laina</td>\n",
              "      <td>female</td>\n",
              "      <td>26.0</td>\n",
              "      <td>0</td>\n",
              "      <td>0</td>\n",
              "      <td>STON/O2. 3101282</td>\n",
              "      <td>7.9250</td>\n",
              "      <td>NaN</td>\n",
              "      <td>S</td>\n",
              "    </tr>\n",
              "    <tr>\n",
              "      <th>3</th>\n",
              "      <td>4</td>\n",
              "      <td>1</td>\n",
              "      <td>1</td>\n",
              "      <td>Futrelle, Mrs. Jacques Heath (Lily May Peel)</td>\n",
              "      <td>female</td>\n",
              "      <td>35.0</td>\n",
              "      <td>1</td>\n",
              "      <td>0</td>\n",
              "      <td>113803</td>\n",
              "      <td>53.1000</td>\n",
              "      <td>C123</td>\n",
              "      <td>S</td>\n",
              "    </tr>\n",
              "    <tr>\n",
              "      <th>4</th>\n",
              "      <td>5</td>\n",
              "      <td>0</td>\n",
              "      <td>3</td>\n",
              "      <td>Allen, Mr. William Henry</td>\n",
              "      <td>male</td>\n",
              "      <td>35.0</td>\n",
              "      <td>0</td>\n",
              "      <td>0</td>\n",
              "      <td>373450</td>\n",
              "      <td>8.0500</td>\n",
              "      <td>NaN</td>\n",
              "      <td>S</td>\n",
              "    </tr>\n",
              "    <tr>\n",
              "      <th>5</th>\n",
              "      <td>6</td>\n",
              "      <td>0</td>\n",
              "      <td>3</td>\n",
              "      <td>Moran, Mr. James</td>\n",
              "      <td>male</td>\n",
              "      <td>NaN</td>\n",
              "      <td>0</td>\n",
              "      <td>0</td>\n",
              "      <td>330877</td>\n",
              "      <td>8.4583</td>\n",
              "      <td>NaN</td>\n",
              "      <td>Q</td>\n",
              "    </tr>\n",
              "    <tr>\n",
              "      <th>6</th>\n",
              "      <td>7</td>\n",
              "      <td>0</td>\n",
              "      <td>1</td>\n",
              "      <td>McCarthy, Mr. Timothy J</td>\n",
              "      <td>male</td>\n",
              "      <td>54.0</td>\n",
              "      <td>0</td>\n",
              "      <td>0</td>\n",
              "      <td>17463</td>\n",
              "      <td>51.8625</td>\n",
              "      <td>E46</td>\n",
              "      <td>S</td>\n",
              "    </tr>\n",
              "    <tr>\n",
              "      <th>7</th>\n",
              "      <td>8</td>\n",
              "      <td>0</td>\n",
              "      <td>3</td>\n",
              "      <td>Palsson, Master. Gosta Leonard</td>\n",
              "      <td>male</td>\n",
              "      <td>2.0</td>\n",
              "      <td>3</td>\n",
              "      <td>1</td>\n",
              "      <td>349909</td>\n",
              "      <td>21.0750</td>\n",
              "      <td>NaN</td>\n",
              "      <td>S</td>\n",
              "    </tr>\n",
              "    <tr>\n",
              "      <th>8</th>\n",
              "      <td>9</td>\n",
              "      <td>1</td>\n",
              "      <td>3</td>\n",
              "      <td>Johnson, Mrs. Oscar W (Elisabeth Vilhelmina Berg)</td>\n",
              "      <td>female</td>\n",
              "      <td>27.0</td>\n",
              "      <td>0</td>\n",
              "      <td>2</td>\n",
              "      <td>347742</td>\n",
              "      <td>11.1333</td>\n",
              "      <td>NaN</td>\n",
              "      <td>S</td>\n",
              "    </tr>\n",
              "    <tr>\n",
              "      <th>9</th>\n",
              "      <td>10</td>\n",
              "      <td>1</td>\n",
              "      <td>2</td>\n",
              "      <td>Nasser, Mrs. Nicholas (Adele Achem)</td>\n",
              "      <td>female</td>\n",
              "      <td>14.0</td>\n",
              "      <td>1</td>\n",
              "      <td>0</td>\n",
              "      <td>237736</td>\n",
              "      <td>30.0708</td>\n",
              "      <td>NaN</td>\n",
              "      <td>C</td>\n",
              "    </tr>\n",
              "  </tbody>\n",
              "</table>\n",
              "</div>"
            ],
            "text/plain": [
              "   PassengerId  Survived  Pclass  \\\n",
              "0            1         0       3   \n",
              "1            2         1       1   \n",
              "2            3         1       3   \n",
              "3            4         1       1   \n",
              "4            5         0       3   \n",
              "5            6         0       3   \n",
              "6            7         0       1   \n",
              "7            8         0       3   \n",
              "8            9         1       3   \n",
              "9           10         1       2   \n",
              "\n",
              "                                                Name     Sex   Age  SibSp  \\\n",
              "0                            Braund, Mr. Owen Harris    male  22.0      1   \n",
              "1  Cumings, Mrs. John Bradley (Florence Briggs Th...  female  38.0      1   \n",
              "2                             Heikkinen, Miss. Laina  female  26.0      0   \n",
              "3       Futrelle, Mrs. Jacques Heath (Lily May Peel)  female  35.0      1   \n",
              "4                           Allen, Mr. William Henry    male  35.0      0   \n",
              "5                                   Moran, Mr. James    male   NaN      0   \n",
              "6                            McCarthy, Mr. Timothy J    male  54.0      0   \n",
              "7                     Palsson, Master. Gosta Leonard    male   2.0      3   \n",
              "8  Johnson, Mrs. Oscar W (Elisabeth Vilhelmina Berg)  female  27.0      0   \n",
              "9                Nasser, Mrs. Nicholas (Adele Achem)  female  14.0      1   \n",
              "\n",
              "   Parch            Ticket     Fare Cabin Embarked  \n",
              "0      0         A/5 21171   7.2500   NaN        S  \n",
              "1      0          PC 17599  71.2833   C85        C  \n",
              "2      0  STON/O2. 3101282   7.9250   NaN        S  \n",
              "3      0            113803  53.1000  C123        S  \n",
              "4      0            373450   8.0500   NaN        S  \n",
              "5      0            330877   8.4583   NaN        Q  \n",
              "6      0             17463  51.8625   E46        S  \n",
              "7      1            349909  21.0750   NaN        S  \n",
              "8      2            347742  11.1333   NaN        S  \n",
              "9      0            237736  30.0708   NaN        C  "
            ]
          },
          "execution_count": 14,
          "metadata": {},
          "output_type": "execute_result"
        }
      ],
      "source": [
        "train_data.head(n=10)"
      ]
    },
    {
      "cell_type": "markdown",
      "metadata": {},
      "source": [
        "* ¿Están las datos normalizados? ¿Sería necesario?"
      ]
    },
    {
      "cell_type": "markdown",
      "metadata": {},
      "source": [
        "Dado que estamos trabajando con datos no normalizados, que contiene características como \"Age\" y \"Fare\", es mejor aplicar la normalización Z-score (StandardScaler) para asegurarse de que todas las características estén en la misma escala, especialmente si planeamos usar algoritmos sensibles a la escala de las características.  \n",
        "\n",
        "La normalización es útil si se esta utilizando algoritmos sensibles a la escala de las características, como regresión lineal o k-Nearest Neighbors (k-NN).  \n",
        "Por otra parte, si aplicamos algoritmos de Machine Learning o árboles de decisión que no son sensibles a la escala de las características, la normalización podría no ser necesaria."
      ]
    },
    {
      "cell_type": "markdown",
      "metadata": {},
      "source": [
        "* En caso de normalización, ¿qué tipo de normalización es más adecuada?"
      ]
    },
    {
      "cell_type": "markdown",
      "metadata": {},
      "source": [
        "Para nuestros datos, la normalización Z-score (StandardScaler) sería una buena opción si asumimos que las características siguen una distribución normal. Esto ayudará a mantener la interpretabilidad y comparabilidad de las características.  \n",
        "\n",
        "Otra opción es la normalización Min-Max (MinMaxScaler), que escala los datos al rango [0, 1], lo que puede ser útil si tienes datos con valores atípicos."
      ]
    },
    {
      "cell_type": "markdown",
      "metadata": {},
      "source": [
        "* ¿Tienes muchos valores faltantes (NaN)? ¿Cómo afectan a la clasificación?"
      ]
    },
    {
      "cell_type": "markdown",
      "metadata": {},
      "source": [
        "Sí, en nuestros datos, observamos valores faltantes en las columnas \"Age\", \"Cabin\" y \"Embarked\".  \n",
        "\n",
        "La forma en que manejamos estos valores faltantes puede afectar significativamente la calidad de nuestros modelos.  \n",
        "* Dado que tenemos una cantidad considerable de valores faltantes en \"Cabin\", consideraría eliminar esta columna.  \n",
        "* Para \"Age\" y \"Embarked\", podríamos imputar los valores faltantes utilizando la mediana para \"Age\" y eliminando las filas con valores faltantes en \"Embarked\".  \n",
        "\n",
        "Esto asegurará que nuestros modelos funcionen sin problemas."
      ]
    },
    {
      "cell_type": "markdown",
      "metadata": {},
      "source": [
        "* ¿Tienes datos categóricos? ¿Cómo se deben codificar?"
      ]
    },
    {
      "cell_type": "markdown",
      "metadata": {},
      "source": [
        "Sí, tenemos datos categóricos en las columnas \"Embarked\", \"Sex\", \"Cabin\", \"Ticket\" y \"Name\".\n",
        "\n",
        "Podemos utilizar la codificación one-hot (dummy encoding) para convertir estas columnas en columnas binarias para cada categoría de los datos.  \n",
        "\n",
        "Esto asegurará que el modelo pueda trabajar con estos datos categóricos."
      ]
    },
    {
      "cell_type": "markdown",
      "metadata": {},
      "source": [
        "* ¿Puedes extraer atributos adicionales de los datos categóricos?"
      ]
    },
    {
      "cell_type": "markdown",
      "metadata": {},
      "source": [
        "En algunos casos, es posible derivar atributos adicionales de las características categóricas. Por ejemplo, si tienes una columna de \"Fecha de Nacimiento\", puedes derivar la \"Edad\" como un atributo numérico. Esto puede ser útil si la información de la fecha de nacimiento es relevante para el análisis.\n",
        "\n",
        "En nuestro conjunto de datos, no veo una oportunidad obvia para extraer atributos adicionales de los datos categóricos."
      ]
    },
    {
      "cell_type": "markdown",
      "metadata": {},
      "source": [
        "* ¿Es necesario aplicar PCA? ¿Qué beneficios o inconvenientes encuentras?"
      ]
    },
    {
      "cell_type": "markdown",
      "metadata": {},
      "source": [
        "Dado que nuestro conjunto de datos no tiene una alta dimensionalidad inicial, la aplicación de PCA podría no ser necesaria.  \n",
        "\n",
        "La reducción de dimensionalidad podría llevar a una pérdida de información, por lo que debemos evaluar si el beneficio de la reducción de dimensionalidad supera la pérdida de información."
      ]
    },
    {
      "cell_type": "markdown",
      "metadata": {},
      "source": [
        "* ¿Es necesario aplicar alguna técnica de selección de características?"
      ]
    },
    {
      "cell_type": "markdown",
      "metadata": {},
      "source": [
        "Dado que la cantidad de características en nuestro conjunto de datos no es excesivamente alta, la selección de características puede no ser crítica. "
      ]
    },
    {
      "cell_type": "markdown",
      "metadata": {},
      "source": [
        "* ¿Se pueden aplicar PolynomialFeatures para mejorar la clasificación? ¿En qué modelos tiene sentido hacerlo?"
      ]
    },
    {
      "cell_type": "markdown",
      "metadata": {},
      "source": [
        "PolynomialFeatures se utiliza para generar características polinómicas a partir de las características existentes. Puede ser útil en modelos lineales y algunos algoritmos de regresión para capturar relaciones no lineales entre las características. No suele ser necesario en modelos como árboles de decisión o Random Forest, que pueden manejar relaciones no lineales sin necesidad de esta transformación."
      ]
    },
    {
      "cell_type": "markdown",
      "metadata": {},
      "source": [
        "**Información General:**"
      ]
    },
    {
      "cell_type": "code",
      "execution_count": 15,
      "metadata": {},
      "outputs": [],
      "source": [
        "train_data = pd.read_csv(\"titanic/train.csv\")\n",
        "test_data = pd.read_csv(\"titanic/test.csv\")"
      ]
    },
    {
      "cell_type": "markdown",
      "metadata": {},
      "source": [
        "Eliminacio de nans"
      ]
    },
    {
      "cell_type": "code",
      "execution_count": 16,
      "metadata": {},
      "outputs": [],
      "source": [
        "# Calcular la edad media por clase social\n",
        "age_class_means = train_data.groupby('Pclass')['Age'].mean()\n",
        "\n",
        "# Función para rellenar los NaN en 'Age' con la media correspondiente a la 'Pclass'\n",
        "def impute_age(row):\n",
        "    if pd.isnull(row['Age']):\n",
        "        return age_class_means[row['Pclass']]\n",
        "    return row['Age']\n",
        "\n",
        "train_data['Age'] = train_data.apply(impute_age, axis=1)\n",
        "\n",
        "# Descartar la columna \"Cabin\" debido a la gran cantidad de valores faltantes.\n",
        "# Descartar las columnas \"PassengerId\", \"Name\" y \"Ticket\" debido a su poca relevancia.\n",
        "train_data.drop(['Cabin','PassengerId','Name','Ticket'], axis=1, inplace=True)\n",
        "\n",
        "# Descartar las filas con NaN en la columna \"Embarked\".\n",
        "train_data.dropna(subset=['Embarked'], inplace=True)"
      ]
    },
    {
      "cell_type": "code",
      "execution_count": 17,
      "metadata": {},
      "outputs": [
        {
          "name": "stdout",
          "output_type": "stream",
          "text": [
            "Número de valores nulos por atributo:\n",
            "Survived    0\n",
            "Pclass      0\n",
            "Sex         0\n",
            "Age         0\n",
            "SibSp       0\n",
            "Parch       0\n",
            "Fare        0\n",
            "Embarked    0\n",
            "dtype: int64\n"
          ]
        },
        {
          "data": {
            "text/html": [
              "<div>\n",
              "<style scoped>\n",
              "    .dataframe tbody tr th:only-of-type {\n",
              "        vertical-align: middle;\n",
              "    }\n",
              "\n",
              "    .dataframe tbody tr th {\n",
              "        vertical-align: top;\n",
              "    }\n",
              "\n",
              "    .dataframe thead th {\n",
              "        text-align: right;\n",
              "    }\n",
              "</style>\n",
              "<table border=\"1\" class=\"dataframe\">\n",
              "  <thead>\n",
              "    <tr style=\"text-align: right;\">\n",
              "      <th></th>\n",
              "      <th>Survived</th>\n",
              "      <th>Pclass</th>\n",
              "      <th>Sex</th>\n",
              "      <th>Age</th>\n",
              "      <th>SibSp</th>\n",
              "      <th>Parch</th>\n",
              "      <th>Fare</th>\n",
              "      <th>Embarked</th>\n",
              "    </tr>\n",
              "  </thead>\n",
              "  <tbody>\n",
              "    <tr>\n",
              "      <th>0</th>\n",
              "      <td>0</td>\n",
              "      <td>3</td>\n",
              "      <td>male</td>\n",
              "      <td>22.00000</td>\n",
              "      <td>1</td>\n",
              "      <td>0</td>\n",
              "      <td>7.2500</td>\n",
              "      <td>S</td>\n",
              "    </tr>\n",
              "    <tr>\n",
              "      <th>1</th>\n",
              "      <td>1</td>\n",
              "      <td>1</td>\n",
              "      <td>female</td>\n",
              "      <td>38.00000</td>\n",
              "      <td>1</td>\n",
              "      <td>0</td>\n",
              "      <td>71.2833</td>\n",
              "      <td>C</td>\n",
              "    </tr>\n",
              "    <tr>\n",
              "      <th>2</th>\n",
              "      <td>1</td>\n",
              "      <td>3</td>\n",
              "      <td>female</td>\n",
              "      <td>26.00000</td>\n",
              "      <td>0</td>\n",
              "      <td>0</td>\n",
              "      <td>7.9250</td>\n",
              "      <td>S</td>\n",
              "    </tr>\n",
              "    <tr>\n",
              "      <th>3</th>\n",
              "      <td>1</td>\n",
              "      <td>1</td>\n",
              "      <td>female</td>\n",
              "      <td>35.00000</td>\n",
              "      <td>1</td>\n",
              "      <td>0</td>\n",
              "      <td>53.1000</td>\n",
              "      <td>S</td>\n",
              "    </tr>\n",
              "    <tr>\n",
              "      <th>4</th>\n",
              "      <td>0</td>\n",
              "      <td>3</td>\n",
              "      <td>male</td>\n",
              "      <td>35.00000</td>\n",
              "      <td>0</td>\n",
              "      <td>0</td>\n",
              "      <td>8.0500</td>\n",
              "      <td>S</td>\n",
              "    </tr>\n",
              "    <tr>\n",
              "      <th>5</th>\n",
              "      <td>0</td>\n",
              "      <td>3</td>\n",
              "      <td>male</td>\n",
              "      <td>25.14062</td>\n",
              "      <td>0</td>\n",
              "      <td>0</td>\n",
              "      <td>8.4583</td>\n",
              "      <td>Q</td>\n",
              "    </tr>\n",
              "    <tr>\n",
              "      <th>6</th>\n",
              "      <td>0</td>\n",
              "      <td>1</td>\n",
              "      <td>male</td>\n",
              "      <td>54.00000</td>\n",
              "      <td>0</td>\n",
              "      <td>0</td>\n",
              "      <td>51.8625</td>\n",
              "      <td>S</td>\n",
              "    </tr>\n",
              "    <tr>\n",
              "      <th>7</th>\n",
              "      <td>0</td>\n",
              "      <td>3</td>\n",
              "      <td>male</td>\n",
              "      <td>2.00000</td>\n",
              "      <td>3</td>\n",
              "      <td>1</td>\n",
              "      <td>21.0750</td>\n",
              "      <td>S</td>\n",
              "    </tr>\n",
              "    <tr>\n",
              "      <th>8</th>\n",
              "      <td>1</td>\n",
              "      <td>3</td>\n",
              "      <td>female</td>\n",
              "      <td>27.00000</td>\n",
              "      <td>0</td>\n",
              "      <td>2</td>\n",
              "      <td>11.1333</td>\n",
              "      <td>S</td>\n",
              "    </tr>\n",
              "    <tr>\n",
              "      <th>9</th>\n",
              "      <td>1</td>\n",
              "      <td>2</td>\n",
              "      <td>female</td>\n",
              "      <td>14.00000</td>\n",
              "      <td>1</td>\n",
              "      <td>0</td>\n",
              "      <td>30.0708</td>\n",
              "      <td>C</td>\n",
              "    </tr>\n",
              "  </tbody>\n",
              "</table>\n",
              "</div>"
            ],
            "text/plain": [
              "   Survived  Pclass     Sex       Age  SibSp  Parch     Fare Embarked\n",
              "0         0       3    male  22.00000      1      0   7.2500        S\n",
              "1         1       1  female  38.00000      1      0  71.2833        C\n",
              "2         1       3  female  26.00000      0      0   7.9250        S\n",
              "3         1       1  female  35.00000      1      0  53.1000        S\n",
              "4         0       3    male  35.00000      0      0   8.0500        S\n",
              "5         0       3    male  25.14062      0      0   8.4583        Q\n",
              "6         0       1    male  54.00000      0      0  51.8625        S\n",
              "7         0       3    male   2.00000      3      1  21.0750        S\n",
              "8         1       3  female  27.00000      0      2  11.1333        S\n",
              "9         1       2  female  14.00000      1      0  30.0708        C"
            ]
          },
          "execution_count": 17,
          "metadata": {},
          "output_type": "execute_result"
        }
      ],
      "source": [
        "null_counts = train_data.isnull().sum()\n",
        "print(\"Número de valores nulos por atributo:\")\n",
        "print(null_counts)\n",
        "\n",
        "train_data.head(n=10)"
      ]
    },
    {
      "cell_type": "markdown",
      "metadata": {},
      "source": [
        "Encoding de categoriques"
      ]
    },
    {
      "cell_type": "code",
      "execution_count": 18,
      "metadata": {},
      "outputs": [
        {
          "data": {
            "text/html": [
              "<div>\n",
              "<style scoped>\n",
              "    .dataframe tbody tr th:only-of-type {\n",
              "        vertical-align: middle;\n",
              "    }\n",
              "\n",
              "    .dataframe tbody tr th {\n",
              "        vertical-align: top;\n",
              "    }\n",
              "\n",
              "    .dataframe thead th {\n",
              "        text-align: right;\n",
              "    }\n",
              "</style>\n",
              "<table border=\"1\" class=\"dataframe\">\n",
              "  <thead>\n",
              "    <tr style=\"text-align: right;\">\n",
              "      <th></th>\n",
              "      <th>Survived</th>\n",
              "      <th>Pclass</th>\n",
              "      <th>Age</th>\n",
              "      <th>SibSp</th>\n",
              "      <th>Parch</th>\n",
              "      <th>Fare</th>\n",
              "      <th>Sex_female</th>\n",
              "      <th>Sex_male</th>\n",
              "      <th>Embarked_C</th>\n",
              "      <th>Embarked_Q</th>\n",
              "      <th>Embarked_S</th>\n",
              "    </tr>\n",
              "  </thead>\n",
              "  <tbody>\n",
              "    <tr>\n",
              "      <th>0</th>\n",
              "      <td>0</td>\n",
              "      <td>3</td>\n",
              "      <td>22.00000</td>\n",
              "      <td>1</td>\n",
              "      <td>0</td>\n",
              "      <td>7.2500</td>\n",
              "      <td>0</td>\n",
              "      <td>1</td>\n",
              "      <td>0</td>\n",
              "      <td>0</td>\n",
              "      <td>1</td>\n",
              "    </tr>\n",
              "    <tr>\n",
              "      <th>1</th>\n",
              "      <td>1</td>\n",
              "      <td>1</td>\n",
              "      <td>38.00000</td>\n",
              "      <td>1</td>\n",
              "      <td>0</td>\n",
              "      <td>71.2833</td>\n",
              "      <td>1</td>\n",
              "      <td>0</td>\n",
              "      <td>1</td>\n",
              "      <td>0</td>\n",
              "      <td>0</td>\n",
              "    </tr>\n",
              "    <tr>\n",
              "      <th>2</th>\n",
              "      <td>1</td>\n",
              "      <td>3</td>\n",
              "      <td>26.00000</td>\n",
              "      <td>0</td>\n",
              "      <td>0</td>\n",
              "      <td>7.9250</td>\n",
              "      <td>1</td>\n",
              "      <td>0</td>\n",
              "      <td>0</td>\n",
              "      <td>0</td>\n",
              "      <td>1</td>\n",
              "    </tr>\n",
              "    <tr>\n",
              "      <th>3</th>\n",
              "      <td>1</td>\n",
              "      <td>1</td>\n",
              "      <td>35.00000</td>\n",
              "      <td>1</td>\n",
              "      <td>0</td>\n",
              "      <td>53.1000</td>\n",
              "      <td>1</td>\n",
              "      <td>0</td>\n",
              "      <td>0</td>\n",
              "      <td>0</td>\n",
              "      <td>1</td>\n",
              "    </tr>\n",
              "    <tr>\n",
              "      <th>4</th>\n",
              "      <td>0</td>\n",
              "      <td>3</td>\n",
              "      <td>35.00000</td>\n",
              "      <td>0</td>\n",
              "      <td>0</td>\n",
              "      <td>8.0500</td>\n",
              "      <td>0</td>\n",
              "      <td>1</td>\n",
              "      <td>0</td>\n",
              "      <td>0</td>\n",
              "      <td>1</td>\n",
              "    </tr>\n",
              "    <tr>\n",
              "      <th>5</th>\n",
              "      <td>0</td>\n",
              "      <td>3</td>\n",
              "      <td>25.14062</td>\n",
              "      <td>0</td>\n",
              "      <td>0</td>\n",
              "      <td>8.4583</td>\n",
              "      <td>0</td>\n",
              "      <td>1</td>\n",
              "      <td>0</td>\n",
              "      <td>1</td>\n",
              "      <td>0</td>\n",
              "    </tr>\n",
              "    <tr>\n",
              "      <th>6</th>\n",
              "      <td>0</td>\n",
              "      <td>1</td>\n",
              "      <td>54.00000</td>\n",
              "      <td>0</td>\n",
              "      <td>0</td>\n",
              "      <td>51.8625</td>\n",
              "      <td>0</td>\n",
              "      <td>1</td>\n",
              "      <td>0</td>\n",
              "      <td>0</td>\n",
              "      <td>1</td>\n",
              "    </tr>\n",
              "    <tr>\n",
              "      <th>7</th>\n",
              "      <td>0</td>\n",
              "      <td>3</td>\n",
              "      <td>2.00000</td>\n",
              "      <td>3</td>\n",
              "      <td>1</td>\n",
              "      <td>21.0750</td>\n",
              "      <td>0</td>\n",
              "      <td>1</td>\n",
              "      <td>0</td>\n",
              "      <td>0</td>\n",
              "      <td>1</td>\n",
              "    </tr>\n",
              "    <tr>\n",
              "      <th>8</th>\n",
              "      <td>1</td>\n",
              "      <td>3</td>\n",
              "      <td>27.00000</td>\n",
              "      <td>0</td>\n",
              "      <td>2</td>\n",
              "      <td>11.1333</td>\n",
              "      <td>1</td>\n",
              "      <td>0</td>\n",
              "      <td>0</td>\n",
              "      <td>0</td>\n",
              "      <td>1</td>\n",
              "    </tr>\n",
              "    <tr>\n",
              "      <th>9</th>\n",
              "      <td>1</td>\n",
              "      <td>2</td>\n",
              "      <td>14.00000</td>\n",
              "      <td>1</td>\n",
              "      <td>0</td>\n",
              "      <td>30.0708</td>\n",
              "      <td>1</td>\n",
              "      <td>0</td>\n",
              "      <td>1</td>\n",
              "      <td>0</td>\n",
              "      <td>0</td>\n",
              "    </tr>\n",
              "  </tbody>\n",
              "</table>\n",
              "</div>"
            ],
            "text/plain": [
              "   Survived  Pclass       Age  SibSp  Parch     Fare  Sex_female  Sex_male  \\\n",
              "0         0       3  22.00000      1      0   7.2500           0         1   \n",
              "1         1       1  38.00000      1      0  71.2833           1         0   \n",
              "2         1       3  26.00000      0      0   7.9250           1         0   \n",
              "3         1       1  35.00000      1      0  53.1000           1         0   \n",
              "4         0       3  35.00000      0      0   8.0500           0         1   \n",
              "5         0       3  25.14062      0      0   8.4583           0         1   \n",
              "6         0       1  54.00000      0      0  51.8625           0         1   \n",
              "7         0       3   2.00000      3      1  21.0750           0         1   \n",
              "8         1       3  27.00000      0      2  11.1333           1         0   \n",
              "9         1       2  14.00000      1      0  30.0708           1         0   \n",
              "\n",
              "   Embarked_C  Embarked_Q  Embarked_S  \n",
              "0           0           0           1  \n",
              "1           1           0           0  \n",
              "2           0           0           1  \n",
              "3           0           0           1  \n",
              "4           0           0           1  \n",
              "5           0           1           0  \n",
              "6           0           0           1  \n",
              "7           0           0           1  \n",
              "8           0           0           1  \n",
              "9           1           0           0  "
            ]
          },
          "execution_count": 18,
          "metadata": {},
          "output_type": "execute_result"
        }
      ],
      "source": [
        "# La codificación one-hot convierte cada categoría en una columna binaria (0 o 1), creando una columna separada para cada categoría.\n",
        "train_data = pd.get_dummies(train_data, columns=[\"Sex\", \"Embarked\"])\n",
        "train_data.head(n=10)"
      ]
    },
    {
      "cell_type": "markdown",
      "metadata": {},
      "source": [
        "Altres (PCA, normalitzacio..)"
      ]
    },
    {
      "cell_type": "code",
      "execution_count": 19,
      "metadata": {},
      "outputs": [
        {
          "data": {
            "text/html": [
              "<div>\n",
              "<style scoped>\n",
              "    .dataframe tbody tr th:only-of-type {\n",
              "        vertical-align: middle;\n",
              "    }\n",
              "\n",
              "    .dataframe tbody tr th {\n",
              "        vertical-align: top;\n",
              "    }\n",
              "\n",
              "    .dataframe thead th {\n",
              "        text-align: right;\n",
              "    }\n",
              "</style>\n",
              "<table border=\"1\" class=\"dataframe\">\n",
              "  <thead>\n",
              "    <tr style=\"text-align: right;\">\n",
              "      <th></th>\n",
              "      <th>Survived</th>\n",
              "      <th>Pclass</th>\n",
              "      <th>Age</th>\n",
              "      <th>SibSp</th>\n",
              "      <th>Parch</th>\n",
              "      <th>Fare</th>\n",
              "      <th>Sex_female</th>\n",
              "      <th>Sex_male</th>\n",
              "      <th>Embarked_C</th>\n",
              "      <th>Embarked_Q</th>\n",
              "      <th>Embarked_S</th>\n",
              "    </tr>\n",
              "  </thead>\n",
              "  <tbody>\n",
              "    <tr>\n",
              "      <th>0</th>\n",
              "      <td>0</td>\n",
              "      <td>3</td>\n",
              "      <td>0.271174</td>\n",
              "      <td>1</td>\n",
              "      <td>0</td>\n",
              "      <td>0.014151</td>\n",
              "      <td>0</td>\n",
              "      <td>1</td>\n",
              "      <td>0</td>\n",
              "      <td>0</td>\n",
              "      <td>1</td>\n",
              "    </tr>\n",
              "    <tr>\n",
              "      <th>1</th>\n",
              "      <td>1</td>\n",
              "      <td>1</td>\n",
              "      <td>0.472229</td>\n",
              "      <td>1</td>\n",
              "      <td>0</td>\n",
              "      <td>0.139136</td>\n",
              "      <td>1</td>\n",
              "      <td>0</td>\n",
              "      <td>1</td>\n",
              "      <td>0</td>\n",
              "      <td>0</td>\n",
              "    </tr>\n",
              "    <tr>\n",
              "      <th>2</th>\n",
              "      <td>1</td>\n",
              "      <td>3</td>\n",
              "      <td>0.321438</td>\n",
              "      <td>0</td>\n",
              "      <td>0</td>\n",
              "      <td>0.015469</td>\n",
              "      <td>1</td>\n",
              "      <td>0</td>\n",
              "      <td>0</td>\n",
              "      <td>0</td>\n",
              "      <td>1</td>\n",
              "    </tr>\n",
              "    <tr>\n",
              "      <th>3</th>\n",
              "      <td>1</td>\n",
              "      <td>1</td>\n",
              "      <td>0.434531</td>\n",
              "      <td>1</td>\n",
              "      <td>0</td>\n",
              "      <td>0.103644</td>\n",
              "      <td>1</td>\n",
              "      <td>0</td>\n",
              "      <td>0</td>\n",
              "      <td>0</td>\n",
              "      <td>1</td>\n",
              "    </tr>\n",
              "    <tr>\n",
              "      <th>4</th>\n",
              "      <td>0</td>\n",
              "      <td>3</td>\n",
              "      <td>0.434531</td>\n",
              "      <td>0</td>\n",
              "      <td>0</td>\n",
              "      <td>0.015713</td>\n",
              "      <td>0</td>\n",
              "      <td>1</td>\n",
              "      <td>0</td>\n",
              "      <td>0</td>\n",
              "      <td>1</td>\n",
              "    </tr>\n",
              "    <tr>\n",
              "      <th>5</th>\n",
              "      <td>0</td>\n",
              "      <td>3</td>\n",
              "      <td>0.310639</td>\n",
              "      <td>0</td>\n",
              "      <td>0</td>\n",
              "      <td>0.016510</td>\n",
              "      <td>0</td>\n",
              "      <td>1</td>\n",
              "      <td>0</td>\n",
              "      <td>1</td>\n",
              "      <td>0</td>\n",
              "    </tr>\n",
              "    <tr>\n",
              "      <th>6</th>\n",
              "      <td>0</td>\n",
              "      <td>1</td>\n",
              "      <td>0.673285</td>\n",
              "      <td>0</td>\n",
              "      <td>0</td>\n",
              "      <td>0.101229</td>\n",
              "      <td>0</td>\n",
              "      <td>1</td>\n",
              "      <td>0</td>\n",
              "      <td>0</td>\n",
              "      <td>1</td>\n",
              "    </tr>\n",
              "    <tr>\n",
              "      <th>7</th>\n",
              "      <td>0</td>\n",
              "      <td>3</td>\n",
              "      <td>0.019854</td>\n",
              "      <td>3</td>\n",
              "      <td>1</td>\n",
              "      <td>0.041136</td>\n",
              "      <td>0</td>\n",
              "      <td>1</td>\n",
              "      <td>0</td>\n",
              "      <td>0</td>\n",
              "      <td>1</td>\n",
              "    </tr>\n",
              "    <tr>\n",
              "      <th>8</th>\n",
              "      <td>1</td>\n",
              "      <td>3</td>\n",
              "      <td>0.334004</td>\n",
              "      <td>0</td>\n",
              "      <td>2</td>\n",
              "      <td>0.021731</td>\n",
              "      <td>1</td>\n",
              "      <td>0</td>\n",
              "      <td>0</td>\n",
              "      <td>0</td>\n",
              "      <td>1</td>\n",
              "    </tr>\n",
              "    <tr>\n",
              "      <th>9</th>\n",
              "      <td>1</td>\n",
              "      <td>2</td>\n",
              "      <td>0.170646</td>\n",
              "      <td>1</td>\n",
              "      <td>0</td>\n",
              "      <td>0.058694</td>\n",
              "      <td>1</td>\n",
              "      <td>0</td>\n",
              "      <td>1</td>\n",
              "      <td>0</td>\n",
              "      <td>0</td>\n",
              "    </tr>\n",
              "  </tbody>\n",
              "</table>\n",
              "</div>"
            ],
            "text/plain": [
              "   Survived  Pclass       Age  SibSp  Parch      Fare  Sex_female  Sex_male  \\\n",
              "0         0       3  0.271174      1      0  0.014151           0         1   \n",
              "1         1       1  0.472229      1      0  0.139136           1         0   \n",
              "2         1       3  0.321438      0      0  0.015469           1         0   \n",
              "3         1       1  0.434531      1      0  0.103644           1         0   \n",
              "4         0       3  0.434531      0      0  0.015713           0         1   \n",
              "5         0       3  0.310639      0      0  0.016510           0         1   \n",
              "6         0       1  0.673285      0      0  0.101229           0         1   \n",
              "7         0       3  0.019854      3      1  0.041136           0         1   \n",
              "8         1       3  0.334004      0      2  0.021731           1         0   \n",
              "9         1       2  0.170646      1      0  0.058694           1         0   \n",
              "\n",
              "   Embarked_C  Embarked_Q  Embarked_S  \n",
              "0           0           0           1  \n",
              "1           1           0           0  \n",
              "2           0           0           1  \n",
              "3           0           0           1  \n",
              "4           0           0           1  \n",
              "5           0           1           0  \n",
              "6           0           0           1  \n",
              "7           0           0           1  \n",
              "8           0           0           1  \n",
              "9           1           0           0  "
            ]
          },
          "execution_count": 19,
          "metadata": {},
          "output_type": "execute_result"
        }
      ],
      "source": [
        "# Normalización\n",
        "#from sklearn.preprocessing import StandardScaler\n",
        "from sklearn.preprocessing import MinMaxScaler\n",
        "\n",
        "# Crear un objeto de escala\n",
        "scaler = MinMaxScaler()\n",
        "\n",
        "# Ajustar y transformar las características numéricas\n",
        "train_data[['Age', 'Fare']] = scaler.fit_transform(train_data[['Age', 'Fare']])\n",
        "\n",
        "train_data.head(n=10)"
      ]
    },
    {
      "cell_type": "code",
      "execution_count": 20,
      "metadata": {},
      "outputs": [
        {
          "data": {
            "image/png": "[encoded data removed]",
            "text/plain": [
              "<Figure size 1000x600 with 2 Axes>"
            ]
          },
          "metadata": {},
          "output_type": "display_data"
        }
      ],
      "source": [
        "# Matriz de correlación\n",
        "correlation_matrix = train_data.corr()\n",
        "\n",
        "# Visualización de la matriz de correlación en un mapa de calor\n",
        "plt.figure(figsize=(10, 6))\n",
        "sns.heatmap(correlation_matrix, annot=True, cmap=\"coolwarm\", fmt=\".2f\")\n",
        "plt.title(\"Matriz de Correlación\")\n",
        "plt.show()"
      ]
    },
    {
      "cell_type": "code",
      "execution_count": 21,
      "metadata": {},
      "outputs": [
        {
          "name": "stdout",
          "output_type": "stream",
          "text": [
            "Correlación con Survived:\n",
            "Survived      1.000000\n",
            "Sex_female    0.541585\n",
            "Fare          0.255290\n",
            "Embarked_C    0.169966\n",
            "Parch         0.083151\n",
            "Embarked_Q    0.004536\n",
            "SibSp        -0.034040\n",
            "Age          -0.055278\n",
            "Embarked_S   -0.151777\n",
            "Pclass       -0.335549\n",
            "Sex_male     -0.541585\n",
            "Name: Survived, dtype: float64\n"
          ]
        }
      ],
      "source": [
        "# Ordenar la correlación con respecto a \"Survived\"\n",
        "correlation_with_target = correlation_matrix[\"Survived\"].sort_values(ascending=False)\n",
        "\n",
        "# Mostrar la correlación con \"Survived\"\n",
        "print(\"Correlación con Survived:\")\n",
        "print(correlation_with_target)"
      ]
    },
    {
      "cell_type": "markdown",
      "metadata": {},
      "source": [
        "La matriz de correlación que has proporcionado muestra la correlación de las diferentes características con la variable \"Survived\" en el conjunto de datos del Titanic. Aquí hay algunas observaciones basadas en estas correlaciones:\n",
        "\n",
        "1. Sexo (Sex): La variable \"Sex_female\" tiene una correlación positiva de 0.541585 con \"Survived\", lo que indica que las mujeres tenían una mayor probabilidad de sobrevivir en comparación con los hombres, que tienen una correlación negativa de -0.541585. Esto sugiere que el género estaba fuertemente relacionado con la supervivencia en el Titanic.\n",
        "\n",
        "2. Tarifa (Fare): La tarifa (\"Fare\") también tiene una correlación positiva moderada de 0.255290 con \"Survived\". Esto podría indicar que las personas que pagaron tarifas más altas tenían una mayor probabilidad de sobrevivir.\n",
        "\n",
        "3. Puerto de Embarque (Embarked): \"Embarked_C\" tiene una correlación positiva de 0.169966 con \"Survived\", lo que sugiere que los pasajeros que embarcaron en Cherbourg tenían una mayor probabilidad de sobrevivir. Por otro lado, \"Embarked_S\" tiene una correlación negativa de -0.151777, lo que sugiere que los pasajeros que embarcaron en Southampton tenían una menor probabilidad de sobrevivir.\n",
        "\n",
        "4. Clase de Pasajero (Pclass): La variable \"Pclass\" (clase de pasajero) tiene una correlación negativa de -0.335549 con \"Survived\". Esto indica que los pasajeros de clases más bajas (números más altos) tenían una menor probabilidad de sobrevivir.\n",
        "\n",
        "5. Edad (Age): La variable \"Age\" tiene una correlación negativa de -0.055278 con \"Survived\". Sin embargo, esta correlación es bastante baja en comparación con otras características, lo que sugiere que la edad no tenía una influencia muy fuerte en la supervivencia en el Titanic.\n",
        "\n",
        "6. Número de Hijos (Parch) y Número de Hermanos (SibSp): Estas variables tienen correlaciones bastante bajas con \"Survived\" (0.083151 y -0.034040, respectivamente). Esto indica que el número de hijos o hermanos a bordo no tenía una influencia significativa en la supervivencia.\n",
        "\n",
        "Es importante tener en cuenta que la correlación no implica causalidad, y otras variables no incluidas en esta matriz de correlación pueden estar influyendo en la supervivencia de los pasajeros. Estas correlaciones proporcionan una idea inicial de cómo ciertas características pueden haber estado relacionadas con la supervivencia en el Titanic."
      ]
    },
    {
      "cell_type": "code",
      "execution_count": 22,
      "metadata": {},
      "outputs": [
        {
          "data": {
            "text/html": [
              "<div>\n",
              "<style scoped>\n",
              "    .dataframe tbody tr th:only-of-type {\n",
              "        vertical-align: middle;\n",
              "    }\n",
              "\n",
              "    .dataframe tbody tr th {\n",
              "        vertical-align: top;\n",
              "    }\n",
              "\n",
              "    .dataframe thead th {\n",
              "        text-align: right;\n",
              "    }\n",
              "</style>\n",
              "<table border=\"1\" class=\"dataframe\">\n",
              "  <thead>\n",
              "    <tr style=\"text-align: right;\">\n",
              "      <th></th>\n",
              "      <th>Survived</th>\n",
              "      <th>Pclass</th>\n",
              "      <th>Age</th>\n",
              "      <th>SibSp</th>\n",
              "      <th>Parch</th>\n",
              "      <th>Fare</th>\n",
              "      <th>Sex_female</th>\n",
              "      <th>Sex_male</th>\n",
              "      <th>Embarked_C</th>\n",
              "      <th>Embarked_Q</th>\n",
              "      <th>Embarked_S</th>\n",
              "      <th>PCA1</th>\n",
              "      <th>PCA2</th>\n",
              "    </tr>\n",
              "  </thead>\n",
              "  <tbody>\n",
              "    <tr>\n",
              "      <th>0</th>\n",
              "      <td>0</td>\n",
              "      <td>3</td>\n",
              "      <td>0.271174</td>\n",
              "      <td>1</td>\n",
              "      <td>0</td>\n",
              "      <td>0.014151</td>\n",
              "      <td>0</td>\n",
              "      <td>1</td>\n",
              "      <td>0</td>\n",
              "      <td>0</td>\n",
              "      <td>1</td>\n",
              "      <td>-0.095591</td>\n",
              "      <td>-0.038803</td>\n",
              "    </tr>\n",
              "    <tr>\n",
              "      <th>1</th>\n",
              "      <td>1</td>\n",
              "      <td>1</td>\n",
              "      <td>0.472229</td>\n",
              "      <td>1</td>\n",
              "      <td>0</td>\n",
              "      <td>0.139136</td>\n",
              "      <td>1</td>\n",
              "      <td>0</td>\n",
              "      <td>1</td>\n",
              "      <td>0</td>\n",
              "      <td>0</td>\n",
              "      <td>0.117331</td>\n",
              "      <td>0.064680</td>\n",
              "    </tr>\n",
              "    <tr>\n",
              "      <th>2</th>\n",
              "      <td>1</td>\n",
              "      <td>3</td>\n",
              "      <td>0.321438</td>\n",
              "      <td>0</td>\n",
              "      <td>0</td>\n",
              "      <td>0.015469</td>\n",
              "      <td>1</td>\n",
              "      <td>0</td>\n",
              "      <td>0</td>\n",
              "      <td>0</td>\n",
              "      <td>1</td>\n",
              "      <td>-0.045461</td>\n",
              "      <td>-0.042700</td>\n",
              "    </tr>\n",
              "    <tr>\n",
              "      <th>3</th>\n",
              "      <td>1</td>\n",
              "      <td>1</td>\n",
              "      <td>0.434531</td>\n",
              "      <td>1</td>\n",
              "      <td>0</td>\n",
              "      <td>0.103644</td>\n",
              "      <td>1</td>\n",
              "      <td>0</td>\n",
              "      <td>0</td>\n",
              "      <td>0</td>\n",
              "      <td>1</td>\n",
              "      <td>0.076159</td>\n",
              "      <td>0.033285</td>\n",
              "    </tr>\n",
              "    <tr>\n",
              "      <th>4</th>\n",
              "      <td>0</td>\n",
              "      <td>3</td>\n",
              "      <td>0.434531</td>\n",
              "      <td>0</td>\n",
              "      <td>0</td>\n",
              "      <td>0.015713</td>\n",
              "      <td>0</td>\n",
              "      <td>1</td>\n",
              "      <td>0</td>\n",
              "      <td>0</td>\n",
              "      <td>1</td>\n",
              "      <td>0.067049</td>\n",
              "      <td>-0.054174</td>\n",
              "    </tr>\n",
              "    <tr>\n",
              "      <th>5</th>\n",
              "      <td>0</td>\n",
              "      <td>3</td>\n",
              "      <td>0.310639</td>\n",
              "      <td>0</td>\n",
              "      <td>0</td>\n",
              "      <td>0.016510</td>\n",
              "      <td>0</td>\n",
              "      <td>1</td>\n",
              "      <td>0</td>\n",
              "      <td>1</td>\n",
              "      <td>0</td>\n",
              "      <td>-0.056094</td>\n",
              "      <td>-0.040546</td>\n",
              "    </tr>\n",
              "    <tr>\n",
              "      <th>6</th>\n",
              "      <td>0</td>\n",
              "      <td>1</td>\n",
              "      <td>0.673285</td>\n",
              "      <td>0</td>\n",
              "      <td>0</td>\n",
              "      <td>0.101229</td>\n",
              "      <td>0</td>\n",
              "      <td>1</td>\n",
              "      <td>0</td>\n",
              "      <td>0</td>\n",
              "      <td>1</td>\n",
              "      <td>0.313378</td>\n",
              "      <td>0.006147</td>\n",
              "    </tr>\n",
              "    <tr>\n",
              "      <th>7</th>\n",
              "      <td>0</td>\n",
              "      <td>3</td>\n",
              "      <td>0.019854</td>\n",
              "      <td>3</td>\n",
              "      <td>1</td>\n",
              "      <td>0.041136</td>\n",
              "      <td>0</td>\n",
              "      <td>1</td>\n",
              "      <td>0</td>\n",
              "      <td>0</td>\n",
              "      <td>1</td>\n",
              "      <td>-0.342763</td>\n",
              "      <td>0.014073</td>\n",
              "    </tr>\n",
              "    <tr>\n",
              "      <th>8</th>\n",
              "      <td>1</td>\n",
              "      <td>3</td>\n",
              "      <td>0.334004</td>\n",
              "      <td>0</td>\n",
              "      <td>2</td>\n",
              "      <td>0.021731</td>\n",
              "      <td>1</td>\n",
              "      <td>0</td>\n",
              "      <td>0</td>\n",
              "      <td>0</td>\n",
              "      <td>1</td>\n",
              "      <td>-0.032314</td>\n",
              "      <td>-0.037773</td>\n",
              "    </tr>\n",
              "    <tr>\n",
              "      <th>9</th>\n",
              "      <td>1</td>\n",
              "      <td>2</td>\n",
              "      <td>0.170646</td>\n",
              "      <td>1</td>\n",
              "      <td>0</td>\n",
              "      <td>0.058694</td>\n",
              "      <td>1</td>\n",
              "      <td>0</td>\n",
              "      <td>1</td>\n",
              "      <td>0</td>\n",
              "      <td>0</td>\n",
              "      <td>-0.190963</td>\n",
              "      <td>0.015915</td>\n",
              "    </tr>\n",
              "  </tbody>\n",
              "</table>\n",
              "</div>"
            ],
            "text/plain": [
              "   Survived  Pclass       Age  SibSp  Parch      Fare  Sex_female  Sex_male  \\\n",
              "0         0       3  0.271174      1      0  0.014151           0         1   \n",
              "1         1       1  0.472229      1      0  0.139136           1         0   \n",
              "2         1       3  0.321438      0      0  0.015469           1         0   \n",
              "3         1       1  0.434531      1      0  0.103644           1         0   \n",
              "4         0       3  0.434531      0      0  0.015713           0         1   \n",
              "5         0       3  0.310639      0      0  0.016510           0         1   \n",
              "6         0       1  0.673285      0      0  0.101229           0         1   \n",
              "7         0       3  0.019854      3      1  0.041136           0         1   \n",
              "8         1       3  0.334004      0      2  0.021731           1         0   \n",
              "9         1       2  0.170646      1      0  0.058694           1         0   \n",
              "\n",
              "   Embarked_C  Embarked_Q  Embarked_S      PCA1      PCA2  \n",
              "0           0           0           1 -0.095591 -0.038803  \n",
              "1           1           0           0  0.117331  0.064680  \n",
              "2           0           0           1 -0.045461 -0.042700  \n",
              "3           0           0           1  0.076159  0.033285  \n",
              "4           0           0           1  0.067049 -0.054174  \n",
              "5           0           1           0 -0.056094 -0.040546  \n",
              "6           0           0           1  0.313378  0.006147  \n",
              "7           0           0           1 -0.342763  0.014073  \n",
              "8           0           0           1 -0.032314 -0.037773  \n",
              "9           1           0           0 -0.190963  0.015915  "
            ]
          },
          "execution_count": 22,
          "metadata": {},
          "output_type": "execute_result"
        }
      ],
      "source": [
        "# Análisis de Componentes Principales (PCA)\n",
        "from sklearn.decomposition import PCA\n",
        "\n",
        "# Crear un objeto de PCA\n",
        "pca = PCA(n_components=2)  # Define el número de componentes principales deseados\n",
        "\n",
        "# Aplicar PCA a las características normalizadas\n",
        "principal_components = pca.fit_transform(train_data[['Age', 'Fare']])\n",
        "\n",
        "# Agregar los componentes principales de vuelta al DataFrame si es necesario\n",
        "train_data['PCA1'] = principal_components[:, 0]\n",
        "train_data['PCA2'] = principal_components[:, 1]\n",
        "\n",
        "train_data.head(n=10)"
      ]
    },
    {
      "cell_type": "code",
      "execution_count": 23,
      "metadata": {},
      "outputs": [],
      "source": [
        "# Como nuestro conjunto de datos no tiene una alta dimensionalidad inicial, la aplicación de PCA podría no ser necesaria.\n",
        "train_data.drop(['PCA1', 'PCA2'], axis=1, inplace=True)"
      ]
    },
    {
      "cell_type": "markdown",
      "metadata": {},
      "source": [
        "### 3. Metric selection (1.5 punts)\n",
        "En aquest apartat ens centrarem en les mètriques de classificació ([documentació](https://scikit-learn.org/stable/modules/model_evaluation.html#classification-metrics)). Per a fer-ho, entreneu una regressio logistica (no cal separar train-test) i a partir d'aquesta generarem una serie de funcions per analitzar els nostres resultats . Aquestes funcions ens serviran mes endevant. Caldra tambe triar la metrica que farem servir despres per triar el millor model.\n",
        "\n",
        "Nota: Fixeu-vos que en aquest apartat NO ES VALOREN ELS RESULTATS. L'unic que es valora es l'eleccio de la metrica de classificacio aixi com saber quin tipus de grafiques fer per analitzar els resultats. Abans de solucionar un problema cal tenir molt clar la metrica d'error que es fara servir, i es una decisio que cal pendre previa a entrenar models"
      ]
    },
    {
      "cell_type": "markdown",
      "metadata": {},
      "source": [
        "**Preguntes:**"
      ]
    },
    {
      "cell_type": "markdown",
      "metadata": {},
      "source": [
        "* A teoria, hem vist el resultat d'aplicar el `accuracy_score` sobre dades no balancejades. Podrieu explicar i justificar quina de les següents mètriques será la més adient pel vostre problema? `accuracy_score`, `f1_score` o `average_precision_score`?"
      ]
    },
    {
      "cell_type": "markdown",
      "metadata": {},
      "source": [
        "Per aquest problema, com és un conjunt de dades no balancejat, no podem utilitzar l'accuracy score. Lo millor seria utilitzar el f1_score que té en compte el precission i el recall en una única mètrica."
      ]
    },
    {
      "cell_type": "markdown",
      "metadata": {},
      "source": [
        "* Abans de comencar a entrenar models, genereu una suite de funcions per poder analitzar graficament com esta anant el vostre model. Mostreu la Precisió-Recall Curve i la ROC Curve. Quina és més rellevant pel vostre dataset? Expliqueu amb les vostres paraules, la diferencia entre una i altre [Pista](https://stats.stackexchange.com/questions/338826/auprc-vs-auc-roc)"
      ]
    },
    {
      "cell_type": "markdown",
      "metadata": {},
      "source": [
        "La Precisió-Recall Curve és una corva que ens contraposa les mètriques de precisió i recall generades per diferents thresholds d'un mateix model. Com volem que les dues siguin properes a l'1, ens quedem amb el threshold que s'ha apropat més.\n",
        "\n",
        "Per altra banda, la ROC Curve en concepte fa el mateix amb diferents thresholds per un mateix model, però el que compara és la quantitat de falsos positius que hi ha hagut i la de bons positius. En aquest cas interesa més que la y (true positive) sigui propera a 1 mentre que la x (false positive) sigui 0.\n",
        "\n",
        "Pel nostre dataset, com ens interesa la mètrica de f1_score per ser un dataset desbalancejat, la corva Precisió-Recall ens és més rellevant."
      ]
    },
    {
      "cell_type": "code",
      "execution_count": 24,
      "metadata": {},
      "outputs": [],
      "source": [
        "from sklearn.metrics import roc_curve, roc_auc_score\n",
        "from sklearn.metrics import precision_recall_curve, auc\n",
        "\n",
        "def roc_prc_analisi(y_probs, y_test):\n",
        "    fpr, tpr, _ = roc_curve(y_test, y_probs[:, 1])\n",
        "    auc_roc = roc_auc_score(y_test, y_probs[:, 1])\n",
        "\n",
        "    prec, rec, _ = precision_recall_curve(y_test, y_probs[:, 1])\n",
        "    auc_pr = auc(rec, prec)\n",
        "\n",
        "    plt.scatter(fpr, tpr)\n",
        "    plt.title(f'ROC curve. AUC {round(auc_roc, 2)}')\n",
        "    plt.show()\n",
        "\n",
        "    plt.scatter(prec, rec)\n",
        "    plt.title(f'PR curve. AUC {round(auc_pr, 2)}')\n",
        "    plt.show()"
      ]
    },
    {
      "cell_type": "markdown",
      "metadata": {},
      "source": [
        "* Què mostra [classification_report](https://scikit-learn.org/stable/modules/generated/sklearn.metrics.classification_report.html)? Quina métrica us fixareu per tal de optimitzar-ne la classificació pel vostre cas?"
      ]
    },
    {
      "cell_type": "markdown",
      "metadata": {},
      "source": [
        "Mostra el resultat obtingut en les principals mètriques després d'haver entrenat un model amb el conjunt de dades. Aquestes inclouen el precision, recall, f1-score i el support. Com hem dit abans, ens fixarem sobre tot en el f1-score, tenint en compte el precision i recall per veure on fallem més exactament."
      ]
    },
    {
      "cell_type": "code",
      "execution_count": 25,
      "metadata": {},
      "outputs": [],
      "source": [
        "from sklearn.metrics import classification_report\n",
        "\n",
        "def report(y_test, y_probs, y_labels=['Survived','Not Survived']):\n",
        "    print(classification_report(y_test, y_probs, target_names=y_labels))"
      ]
    },
    {
      "cell_type": "markdown",
      "metadata": {
        "id": "t8xe5r78Cl7T"
      },
      "source": [
        "### 4. Model Selection amb validacio creuada (4 punts)\n",
        "\n",
        "Fent servir la metrica trobada en l'apartat anterior, en aquest apartat caldra seleccionar una serie de models i, fent us de la validacio creuada, seleccionar el millor model amb els seus respectius millors hyperparametres que haurem buscat fent hyperparameter search.\n",
        "\n",
        "La tasca d'aquesta pràctica s'enmarca dins l'aprenentatge computacional **supervisat**. A sklearn, disposem de varies tècniques [(veure documentació)](https://scikit-learn.org/stable/supervised_learning.html). A les classes de teoria, hem vist varies tècniques, com ara logistic regression, SVM amb diferents kernels, Nearest Neighbour... i tambe coneixeu altres tecniques d'altres cursos, com els arbres de decisio. Ademes, en la classe de problemes hem donat tambe els random forest i els gradient boosting. Per aquest apartat es demana seleccionar **un minim de 4 models** (per exemple, regressio logistica, random forest, KNN, SVM).\n",
        "\n",
        "**Preguntes:**\n",
        "* Quins models heu considerat? Perque els heu seleccionat?\n",
        "* Fent servir validacio creuada, escolliu el millor model (agafant els hiperparamtres per defecte). Recordeu fer servir la metrica utilitzada en l'apartat anterior. Perque es important fer servir validacio creuada? Heu de fer servir algun [tipus de validacio creuada](https://scikit-learn.org/stable/modules/cross_validation.html) en especial?\n",
        "\n",
        "* Seleccioneu una serie d'hyperparametres a provar per cadascun dels models i realitzeu una cerca d'hyperparametres. Hi ha algun model que creieu que podeu descartar de primeres? Perque?\n",
        "\n",
        "* Mostreu els resultats en una taula on es mostri el model, els experiments realitzats i els resultats obtinguts (tant en train com en test). Podeu mostrar tambe el temps d'entrenament de cada model.\n",
        "\n",
        "* Quin tipus de K-fold heu escollit en la seleccio de models? I en la seleccio de models amb hyperparametres? Com afecta al resultat modificar el numero de k (numero de folds) al resultat?\n",
        "\n",
        "* Quines formes de buscar el millor parametre heu trobat? Són costoses computacionalment parlant? [documentació](https://scikit-learn.org/stable/modules/grid_search.html) Quina heu seleccionat?\n",
        "\n",
        "* Si disposem de recursos limitats (per exemple, un PC durant 1 hora) quin dels métodes creieu que obtindrà millor resultat final?\n",
        "\n",
        "* Existeixen altres mètodes de búsqueda més eficients ([scikit-optimize](https://scikit-optimize.github.io/stable/))?\n",
        "\n",
        "* Opcional : Feu la prova, i amb el model i el metode de crossvalidació escollit, configureu els diferents metodes de búsqueda per a que s'executin durant el mateix temps (i.e. depenent del problema, 0,5h-1 hora). Analitzeu quin ha arribat a una millor solució. (Ajuda: estimeu el temps que trigarà a fer 1 training el vostre model, i aixi trobeu el número de intents que podeu fer en cada cas.)\n"
      ]
    },
    {
      "cell_type": "markdown",
      "metadata": {
        "id": "Hx-3b7v2TwJ3"
      },
      "source": [
        "### 5.Analisi Final (1.5 punt)\n",
        "\n",
        "Un cop seleccionat el millor model amb els millors hiperparamtres, caldra fer un report final amb els resultats obtinguts.\n",
        "\n",
        "Preguntes:\n",
        "* Mostreu les curves ROC/PR (la que hageu escollit en l'apartat 2) i interpreteu els resultats.\n",
        "\n",
        "* Analitzeu en detall les diferents metriques que trobeu adients i comenteu per sobre com podrieu fer servir aquest model en un futur. Aixo es el que es coneix com un cas d'us.\n",
        "\n",
        "* Com creieu que es podria millorar el vostre model?"
      ]
    }
  ],
  "metadata": {
    "colab": {
      "provenance": []
    },
    "kernelspec": {
      "display_name": "Python 3",
      "language": "python",
      "name": "python3"
    },
    "language_info": {
      "codemirror_mode": {
        "name": "ipython",
        "version": 3
      },
      "file_extension": ".py",
      "mimetype": "text/x-python",
      "name": "python",
      "nbconvert_exporter": "python",
      "pygments_lexer": "ipython3",
      "version": "3.11.4"
    }
  },
  "nbformat": 4,
  "nbformat_minor": 0
}
